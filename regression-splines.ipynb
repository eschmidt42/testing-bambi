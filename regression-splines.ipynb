{
 "cells": [
  {
   "cell_type": "markdown",
   "metadata": {},
   "source": [
    "Based on https://bambinos.github.io/bambi/notebooks/splines_cherry_blossoms.html"
   ]
  },
  {
   "cell_type": "code",
   "execution_count": null,
   "metadata": {},
   "outputs": [],
   "source": [
    "import arviz as az\n",
    "import bambi as bmb\n",
    "import matplotlib.pyplot as plt\n",
    "import numpy as np\n",
    "import pandas as pd"
   ]
  },
  {
   "cell_type": "code",
   "execution_count": null,
   "metadata": {},
   "outputs": [],
   "source": [
    "az.style.use(\"arviz-darkgrid\")\n",
    "SEED = 7355608"
   ]
  },
  {
   "cell_type": "code",
   "execution_count": null,
   "metadata": {},
   "outputs": [],
   "source": [
    "data = bmb.load_data(\"cherry_blossoms\")\n",
    "data"
   ]
  },
  {
   "cell_type": "code",
   "execution_count": null,
   "metadata": {},
   "outputs": [],
   "source": [
    "data = data.dropna(subset=[\"doy\"]).reset_index(drop=True)\n",
    "data.shape"
   ]
  },
  {
   "cell_type": "code",
   "execution_count": null,
   "metadata": {},
   "outputs": [],
   "source": [
    "# We create a function because this plot is going to be used again later\n",
    "def plot_scatter(data, figsize=(10, 6)):\n",
    "    _, ax = plt.subplots(figsize=figsize)\n",
    "    ax.scatter(data[\"year\"], data[\"doy\"], alpha=0.4, s=30)\n",
    "    ax.set_title(\"Day of the first bloom per year\")\n",
    "    ax.set_xlabel(\"Year\")\n",
    "    ax.set_ylabel(\"Days of the first bloom\")\n",
    "    return ax"
   ]
  },
  {
   "cell_type": "code",
   "execution_count": null,
   "metadata": {},
   "outputs": [],
   "source": [
    "plot_scatter(data);"
   ]
  },
  {
   "cell_type": "code",
   "execution_count": null,
   "metadata": {},
   "outputs": [],
   "source": [
    "num_knots = 15\n",
    "knots = np.quantile(data[\"year\"], np.linspace(0, 1, num_knots))"
   ]
  },
  {
   "cell_type": "code",
   "execution_count": null,
   "metadata": {},
   "outputs": [],
   "source": [
    "def plot_knots(knots, ax):\n",
    "    for knot in knots:\n",
    "        ax.axvline(knot, color=\"0.1\", alpha=0.4)\n",
    "    return ax"
   ]
  },
  {
   "cell_type": "code",
   "execution_count": null,
   "metadata": {},
   "outputs": [],
   "source": [
    "ax = plot_scatter(data)\n",
    "plot_knots(knots, ax);"
   ]
  },
  {
   "cell_type": "code",
   "execution_count": null,
   "metadata": {},
   "outputs": [],
   "source": [
    "# We only pass the internal knots to the `bs()` function.\n",
    "iknots = knots[1:-1]\n",
    "\n",
    "# Define dictionary of priors\n",
    "priors = {\n",
    "    \"Intercept\": bmb.Prior(\"Normal\", mu=100, sigma=10),\n",
    "    \"common\": bmb.Prior(\"Normal\", mu=0, sigma=10),\n",
    "    \"sigma\": bmb.Prior(\"Exponential\", lam=1),\n",
    "}\n",
    "\n",
    "# Define model\n",
    "# The intercept=True means the basis also spans the intercept, as originally done in the book example.\n",
    "model = bmb.Model(\"doy ~ bs(year, knots=iknots, intercept=True)\", data, priors=priors)\n",
    "model"
   ]
  },
  {
   "cell_type": "code",
   "execution_count": null,
   "metadata": {},
   "outputs": [],
   "source": [
    "def plot_spline_basis(basis, year, figsize=(10, 6)):\n",
    "    df = (\n",
    "        pd.DataFrame(basis)\n",
    "        .assign(year=year)\n",
    "        .melt(\"year\", var_name=\"basis_idx\", value_name=\"value\")\n",
    "    )\n",
    "\n",
    "    _, ax = plt.subplots(figsize=figsize)\n",
    "\n",
    "    for idx in df.basis_idx.unique():\n",
    "        d = df[df.basis_idx == idx]\n",
    "        ax.plot(d[\"year\"], d[\"value\"])\n",
    "\n",
    "    return ax"
   ]
  },
  {
   "cell_type": "code",
   "execution_count": null,
   "metadata": {},
   "outputs": [],
   "source": [
    "B = model.components[\"mu\"].design.common[\"bs(year, knots=iknots, intercept=True)\"]\n",
    "ax = plot_spline_basis(B, data[\"year\"].values)\n",
    "plot_knots(knots, ax);"
   ]
  },
  {
   "cell_type": "code",
   "execution_count": null,
   "metadata": {},
   "outputs": [],
   "source": [
    "# The seed is to make results reproducible\n",
    "idata = model.fit(random_seed=SEED, idata_kwargs={\"log_likelihood\": True})"
   ]
  },
  {
   "cell_type": "code",
   "execution_count": null,
   "metadata": {},
   "outputs": [],
   "source": [
    "az.summary(idata)"
   ]
  },
  {
   "cell_type": "code",
   "execution_count": null,
   "metadata": {},
   "outputs": [],
   "source": [
    "az.plot_trace(idata);"
   ]
  },
  {
   "cell_type": "code",
   "execution_count": null,
   "metadata": {},
   "outputs": [],
   "source": [
    "posterior_stacked = az.extract(idata)\n",
    "wp = posterior_stacked[\"bs(year, knots=iknots, intercept=True)\"].mean(\"sample\").values\n",
    "\n",
    "ax = plot_spline_basis(B * wp.T, data[\"year\"].values)\n",
    "ax.plot(data.year.values, np.dot(B, wp.T), color=\"black\", lw=3)\n",
    "plot_knots(knots, ax);"
   ]
  },
  {
   "cell_type": "code",
   "execution_count": null,
   "metadata": {},
   "outputs": [],
   "source": [
    "def plot_predictions(data, idata, model):\n",
    "    # Create a test dataset with observations spanning the whole range of year\n",
    "    new_data = pd.DataFrame(\n",
    "        {\"year\": np.linspace(data.year.min(), data.year.max(), num=500)}\n",
    "    )\n",
    "\n",
    "    # Predict the day of first blossom\n",
    "    model.predict(idata, data=new_data)\n",
    "\n",
    "    posterior_stacked = az.extract_dataset(idata)\n",
    "    # Extract these predictions\n",
    "    y_hat = posterior_stacked[\"mu\"]\n",
    "\n",
    "    # Compute the mean of the predictions, plotted as a single line.\n",
    "    y_hat_mean = y_hat.mean(\"sample\")\n",
    "\n",
    "    # Compute 94% credible intervals for the predictions, plotted as bands\n",
    "    hdi_data = np.quantile(y_hat, [0.03, 0.97], axis=1)\n",
    "\n",
    "    # Plot obserevd data\n",
    "    ax = plot_scatter(data)\n",
    "\n",
    "    # Plot predicted line\n",
    "    ax.plot(new_data[\"year\"], y_hat_mean, color=\"firebrick\")\n",
    "\n",
    "    # Plot credibility bands\n",
    "    ax.fill_between(\n",
    "        new_data[\"year\"], hdi_data[0], hdi_data[1], alpha=0.4, color=\"firebrick\"\n",
    "    )\n",
    "\n",
    "    # Add knots\n",
    "    plot_knots(knots, ax)\n",
    "\n",
    "    return ax"
   ]
  },
  {
   "cell_type": "code",
   "execution_count": null,
   "metadata": {},
   "outputs": [],
   "source": [
    "plot_predictions(data, idata, model);"
   ]
  },
  {
   "cell_type": "code",
   "execution_count": null,
   "metadata": {},
   "outputs": [],
   "source": [
    "np.round(model.components[\"mu\"].design.common.design_matrix, 3)"
   ]
  },
  {
   "cell_type": "code",
   "execution_count": null,
   "metadata": {},
   "outputs": [],
   "source": [
    "model.components[\"mu\"].design.common.design_matrix.shape"
   ]
  },
  {
   "cell_type": "code",
   "execution_count": null,
   "metadata": {},
   "outputs": [],
   "source": [
    "np.linalg.matrix_rank(model.components[\"mu\"].design.common.design_matrix)"
   ]
  },
  {
   "cell_type": "code",
   "execution_count": null,
   "metadata": {},
   "outputs": [],
   "source": [
    "# Note we use the same priors\n",
    "model_new = bmb.Model(\"doy ~ bs(year, knots=iknots)\", data, priors=priors)\n",
    "idata_new = model_new.fit(random_seed=SEED, idata_kwargs={\"log_likelihood\": True})"
   ]
  },
  {
   "cell_type": "code",
   "execution_count": null,
   "metadata": {},
   "outputs": [],
   "source": [
    "az.summary(idata_new)"
   ]
  },
  {
   "cell_type": "code",
   "execution_count": null,
   "metadata": {},
   "outputs": [],
   "source": [
    "idata.posterior.sampling_time"
   ]
  },
  {
   "cell_type": "code",
   "execution_count": null,
   "metadata": {},
   "outputs": [],
   "source": [
    "idata_new.posterior.sampling_time"
   ]
  },
  {
   "cell_type": "code",
   "execution_count": null,
   "metadata": {},
   "outputs": [],
   "source": [
    "plot_predictions(data, idata_new, model_new);"
   ]
  },
  {
   "cell_type": "code",
   "execution_count": null,
   "metadata": {},
   "outputs": [],
   "source": [
    "models_dict = {\"Original\": idata, \"New\": idata_new}\n",
    "df_compare = az.compare(models_dict)\n",
    "df_compare"
   ]
  },
  {
   "cell_type": "code",
   "execution_count": null,
   "metadata": {},
   "outputs": [],
   "source": [
    "az.plot_compare(df_compare, insample_dev=False);"
   ]
  },
  {
   "cell_type": "code",
   "execution_count": null,
   "metadata": {},
   "outputs": [],
   "source": [
    "# Compute pointwise LOO\n",
    "loo_1 = az.loo(idata, pointwise=True)\n",
    "loo_2 = az.loo(idata_new, pointwise=True)"
   ]
  },
  {
   "cell_type": "code",
   "execution_count": null,
   "metadata": {},
   "outputs": [],
   "source": [
    "# plot kappa values\n",
    "az.plot_khat(loo_1.pareto_k);"
   ]
  },
  {
   "cell_type": "code",
   "execution_count": null,
   "metadata": {},
   "outputs": [],
   "source": [
    "az.plot_khat(loo_2.pareto_k);"
   ]
  }
 ],
 "metadata": {
  "language_info": {
   "codemirror_mode": {
    "name": "ipython",
    "version": 3
   },
   "file_extension": ".py",
   "mimetype": "text/x-python",
   "name": "python",
   "nbconvert_exporter": "python",
   "pygments_lexer": "ipython3",
   "version": "3.13.1"
  }
 },
 "nbformat": 4,
 "nbformat_minor": 2
}
