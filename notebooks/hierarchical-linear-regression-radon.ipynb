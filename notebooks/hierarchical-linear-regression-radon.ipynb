{
 "cells": [
  {
   "cell_type": "markdown",
   "metadata": {},
   "source": [
    "Based on https://bambinos.github.io/bambi/notebooks/radon_example.html\n",
    "\n",
    "In order to render the graphical model this notebook requires `graphviz` to be installed and available via `PATH`."
   ]
  },
  {
   "cell_type": "code",
   "execution_count": null,
   "metadata": {},
   "outputs": [],
   "source": [
    "import arviz as az\n",
    "import bambi as bmb\n",
    "import matplotlib.pyplot as plt\n",
    "import numpy as np\n",
    "import pandas as pd\n",
    "import pymc as pm\n",
    "import seaborn as sns"
   ]
  },
  {
   "cell_type": "code",
   "execution_count": null,
   "metadata": {},
   "outputs": [],
   "source": [
    "az.style.use(\"arviz-darkgrid\")\n",
    "np.random.default_rng(8924)"
   ]
  },
  {
   "cell_type": "code",
   "execution_count": null,
   "metadata": {},
   "outputs": [],
   "source": [
    "# Get radon data\n",
    "path = \"https://raw.githubusercontent.com/pymc-devs/pymc-examples/main/examples/data/srrs2.dat\"\n",
    "radon_df = pd.read_csv(path)\n",
    "\n",
    "# Get city data\n",
    "city_df = pd.read_csv(pm.get_data(\"cty.dat\"))"
   ]
  },
  {
   "cell_type": "code",
   "execution_count": null,
   "metadata": {},
   "outputs": [],
   "source": [
    "# Strip spaces from column names\n",
    "radon_df.columns = radon_df.columns.map(str.strip)\n",
    "\n",
    "# Filter to keep observations for \"MN\" state only\n",
    "df = radon_df[radon_df.state == \"MN\"].copy()\n",
    "city_mn_df = city_df[city_df.st == \"MN\"].copy()\n",
    "\n",
    "# Compute fips\n",
    "df[\"fips\"] = 1_000 * df.stfips + df.cntyfips\n",
    "city_mn_df[\"fips\"] = 1_000 * city_mn_df.stfips + city_mn_df.ctfips\n",
    "\n",
    "# Merge data\n",
    "df = df.merge(city_mn_df[[\"fips\", \"Uppm\"]], on=\"fips\")\n",
    "df = df.drop_duplicates(subset=\"idnum\")\n",
    "\n",
    "# Clean county names\n",
    "df.county = df.county.map(str.strip)\n",
    "\n",
    "# Compute log(radon + 0.1)\n",
    "df[\"log_radon\"] = np.log(df[\"activity\"] + 0.1)\n",
    "\n",
    "# Compute log of Uranium\n",
    "df[\"log_u\"] = np.log(df[\"Uppm\"])\n",
    "\n",
    "# Let's map floor. 0 -> Basement and 1 -> Floor\n",
    "df[\"floor\"] = df[\"floor\"].map({0: \"Basement\", 1: \"Floor\"})\n",
    "\n",
    "# Sort values by floor\n",
    "df = df.sort_values(by=\"floor\")\n",
    "\n",
    "# Reset index\n",
    "df = df.reset_index(drop=True)"
   ]
  },
  {
   "cell_type": "code",
   "execution_count": null,
   "metadata": {},
   "outputs": [],
   "source": [
    "_, ax = plt.subplots()\n",
    "sns.histplot(\n",
    "    x=\"activity\",\n",
    "    alpha=0.2,\n",
    "    stat=\"density\",\n",
    "    element=\"step\",\n",
    "    common_norm=False,\n",
    "    data=df,\n",
    "    ax=ax,\n",
    ")\n",
    "sns.kdeplot(x=\"activity\", data=df, ax=ax, cut=0)\n",
    "ax.set(title=\"Density of Radon\", xlabel=\"Radon\", ylabel=\"Density\");"
   ]
  },
  {
   "cell_type": "code",
   "execution_count": null,
   "metadata": {},
   "outputs": [],
   "source": [
    "_, ax = plt.subplots()\n",
    "sns.histplot(\n",
    "    x=\"log_radon\",\n",
    "    alpha=0.2,\n",
    "    stat=\"density\",\n",
    "    element=\"step\",\n",
    "    common_norm=False,\n",
    "    data=df,\n",
    "    ax=ax,\n",
    ")\n",
    "sns.kdeplot(x=\"log_radon\", data=df, ax=ax)\n",
    "ax.set(\n",
    "    title=\"Density of log(Radon + 0.1)\", xlabel=\"$\\log(Radon + 0.1)$\", ylabel=\"Density\"\n",
    ");"
   ]
  },
  {
   "cell_type": "code",
   "execution_count": null,
   "metadata": {},
   "outputs": [],
   "source": [
    "_, ax = plt.subplots()\n",
    "sns.histplot(\n",
    "    x=\"log_radon\",\n",
    "    hue=\"floor\",\n",
    "    alpha=0.2,\n",
    "    stat=\"density\",\n",
    "    element=\"step\",\n",
    "    common_norm=False,\n",
    "    data=df,\n",
    "    ax=ax,\n",
    ")\n",
    "sns.kdeplot(x=\"log_radon\", hue=\"floor\", common_norm=False, data=df, ax=ax)\n",
    "ax.set(title=\"Density of log(Radon + 0.1)\", xlabel=\"$\\log + 0.1$\", ylabel=\"Density\");"
   ]
  },
  {
   "cell_type": "code",
   "execution_count": null,
   "metadata": {},
   "outputs": [],
   "source": [
    "n_counties = df[\"county\"].unique().size\n",
    "print(f\"Number of counties: {n_counties}\")"
   ]
  },
  {
   "cell_type": "code",
   "execution_count": null,
   "metadata": {},
   "outputs": [],
   "source": [
    "log_radon_county_agg = df.groupby([\"county\", \"floor\"], as_index=False).agg(\n",
    "    log_radon_mean=(\"log_radon\", \"mean\"), n_obs=(\"log_radon\", \"count\")\n",
    ")\n",
    "\n",
    "fig, ax = plt.subplots(nrows=1, ncols=2, figsize=(12, 6), layout=\"constrained\")\n",
    "sns.boxplot(x=\"floor\", y=\"log_radon_mean\", data=log_radon_county_agg, ax=ax[0])\n",
    "ax[0].set(title=\"log(Radon + 0.1) Mean per County\", ylabel=\"$\\log + 0.1$\")\n",
    "\n",
    "sns.boxplot(x=\"floor\", y=\"n_obs\", data=log_radon_county_agg, ax=ax[1])\n",
    "ax[1].set(\n",
    "    title=\"Number of Observations\", xlabel=\"floor\", ylabel=\"Number of observations\"\n",
    ");"
   ]
  },
  {
   "cell_type": "code",
   "execution_count": null,
   "metadata": {},
   "outputs": [],
   "source": [
    "assert df.query(\"county == 'YELLOW MEDICINE' and floor == 'Floor'\").empty"
   ]
  },
  {
   "cell_type": "code",
   "execution_count": null,
   "metadata": {},
   "outputs": [],
   "source": [
    "# A dictionary with the priors we pass to the model initialization\n",
    "pooled_priors = {\n",
    "    \"floor\": bmb.Prior(\"Normal\", mu=0, sigma=10),\n",
    "    \"sigma\": bmb.Prior(\"Exponential\", lam=1),\n",
    "}\n",
    "\n",
    "pooled_model = bmb.Model(\"log_radon ~ 0 + floor\", df, priors=pooled_priors)\n",
    "pooled_model"
   ]
  },
  {
   "cell_type": "code",
   "execution_count": null,
   "metadata": {},
   "outputs": [],
   "source": [
    "pooled_model.build()\n",
    "pooled_model.graph()"
   ]
  },
  {
   "cell_type": "code",
   "execution_count": null,
   "metadata": {},
   "outputs": [],
   "source": [
    "pooled_results = pooled_model.fit()"
   ]
  },
  {
   "cell_type": "code",
   "execution_count": null,
   "metadata": {},
   "outputs": [],
   "source": [
    "az.plot_trace(data=pooled_results, compact=True, chain_prop={\"ls\": \"-\"})\n",
    "plt.suptitle(\"Pooled Model Trace\");"
   ]
  },
  {
   "cell_type": "code",
   "execution_count": null,
   "metadata": {},
   "outputs": [],
   "source": [
    "pooled_summary = az.summary(data=pooled_results)\n",
    "pooled_summary"
   ]
  },
  {
   "cell_type": "code",
   "execution_count": null,
   "metadata": {},
   "outputs": [],
   "source": [
    "unpooled_priors = {\n",
    "    \"county:floor\": bmb.Prior(\"Normal\", mu=0, sigma=10),\n",
    "    \"sigma\": bmb.Prior(\"Exponential\", lam=1),\n",
    "}\n",
    "\n",
    "unpooled_model = bmb.Model(\"log_radon ~ 0 + county:floor\", df, priors=unpooled_priors)\n",
    "unpooled_model"
   ]
  },
  {
   "cell_type": "code",
   "execution_count": null,
   "metadata": {},
   "outputs": [],
   "source": [
    "try:\n",
    "    unpooled_results = unpooled_model.fit()\n",
    "except EOFError:\n",
    "    pass"
   ]
  },
  {
   "cell_type": "markdown",
   "metadata": {},
   "source": [
    "Stopped here with the unpooled model because EOFError produced on apple silicon as [discussed here](https://github.com/bambinos/bambi/issues/700) without solution."
   ]
  },
  {
   "cell_type": "code",
   "execution_count": null,
   "metadata": {},
   "outputs": [],
   "source": [
    "# We can add the hyper-priors inside the prior dictionary parameter of the model constructor\n",
    "partial_pooling_priors = {\n",
    "    \"Intercept\": bmb.Prior(\"Normal\", mu=0, sigma=10),\n",
    "    \"1|county\": bmb.Prior(\"Normal\", mu=0, sigma=bmb.Prior(\"Exponential\", lam=1)),\n",
    "    \"sigma\": bmb.Prior(\"Exponential\", lam=1),\n",
    "}\n",
    "\n",
    "partial_pooling_model = bmb.Model(\n",
    "    formula=\"log_radon ~ 1 + (1|county)\",\n",
    "    data=df,\n",
    "    priors=partial_pooling_priors,\n",
    "    noncentered=False,\n",
    ")\n",
    "partial_pooling_model"
   ]
  },
  {
   "cell_type": "code",
   "execution_count": null,
   "metadata": {},
   "outputs": [],
   "source": [
    "partial_pooling_results = partial_pooling_model.fit()"
   ]
  },
  {
   "cell_type": "code",
   "execution_count": null,
   "metadata": {},
   "outputs": [],
   "source": [
    "partial_pooling_model.graph()"
   ]
  },
  {
   "cell_type": "code",
   "execution_count": null,
   "metadata": {},
   "outputs": [],
   "source": [
    "az.plot_trace(data=partial_pooling_results, compact=True, chain_prop={\"ls\": \"-\"})\n",
    "plt.suptitle(\"Partial Pooling Model Trace\");"
   ]
  },
  {
   "cell_type": "code",
   "execution_count": null,
   "metadata": {},
   "outputs": [],
   "source": [
    "partial_pooling_model.predict(partial_pooling_results, kind=\"pps\")\n",
    "\n",
    "# Stack chains and draws. pps stands for posterior predictive samples\n",
    "pps = az.extract_dataset(partial_pooling_results, group=\"posterior_predictive\")[\n",
    "    \"log_radon\"\n",
    "].values\n",
    "\n",
    "pps_df = pd.DataFrame(data=pps).assign(county=df[\"county\"])\n",
    "y_pred = pps_df.groupby(\"county\").mean().mean(axis=1)\n",
    "y_sample = df.groupby(\"county\")[\"log_radon\"].mean()\n",
    "\n",
    "fig, ax = plt.subplots(figsize=(8, 7))\n",
    "sns.regplot(x=y_sample, y=y_pred, ax=ax)\n",
    "ax.axline(xy1=(1, 1), slope=1, color=\"black\", linestyle=\"--\", label=\"diagonal\")\n",
    "ax.axhline(y=y_pred.mean(), color=\"C3\", linestyle=\"--\", label=\"predicted global mean\")\n",
    "ax.legend(loc=\"lower right\")\n",
    "ax.set(\n",
    "    title=\"log(Radon + 0.1) Mean per County (Partial Pooling Model)\",\n",
    "    xlabel=\"observed (sample)\",\n",
    "    ylabel=\"prediction\",\n",
    "    xlim=(0.3, 2.7),\n",
    "    ylim=(0.3, 2.7),\n",
    ");"
   ]
  },
  {
   "cell_type": "code",
   "execution_count": null,
   "metadata": {},
   "outputs": [],
   "source": [
    "varying_intercept_priors = {\n",
    "    \"floor\": bmb.Prior(\"Normal\", mu=0, sigma=10),\n",
    "    \"1|county\": bmb.Prior(\"Normal\", mu=0, sigma=bmb.Prior(\"Exponential\", lam=1)),\n",
    "    \"sigma\": bmb.Prior(\"Exponential\", lam=1),\n",
    "}\n",
    "\n",
    "varying_intercept_model = bmb.Model(\n",
    "    formula=\"log_radon ~ 0 + floor + (1|county)\",\n",
    "    data=df,\n",
    "    priors=varying_intercept_priors,\n",
    "    noncentered=False,\n",
    ")\n",
    "\n",
    "varying_intercept_model"
   ]
  },
  {
   "cell_type": "code",
   "execution_count": null,
   "metadata": {},
   "outputs": [],
   "source": [
    "varying_intercept_results = varying_intercept_model.fit()"
   ]
  },
  {
   "cell_type": "code",
   "execution_count": null,
   "metadata": {},
   "outputs": [],
   "source": [
    "varying_intercept_model.graph()"
   ]
  },
  {
   "cell_type": "code",
   "execution_count": null,
   "metadata": {},
   "outputs": [],
   "source": [
    "az.plot_trace(data=varying_intercept_results, compact=True, chain_prop={\"ls\": \"-\"})\n",
    "plt.suptitle(\"Varying Intercepts Model Trace\");"
   ]
  },
  {
   "cell_type": "code",
   "execution_count": null,
   "metadata": {},
   "outputs": [],
   "source": [
    "varying_intercept_slope_priors = {\n",
    "    \"floor\": bmb.Prior(\"Normal\", mu=0, sigma=10),\n",
    "    \"floor|county\": bmb.Prior(\"Normal\", mu=0, sigma=bmb.Prior(\"Exponential\", lam=1)),\n",
    "    \"sigma\": bmb.Prior(\"Exponential\", lam=1),\n",
    "}\n",
    "\n",
    "varying_intercept_slope_model = bmb.Model(\n",
    "    formula=\"log_radon ~ 0 + floor + (0 + floor|county)\",\n",
    "    data=df,\n",
    "    priors=varying_intercept_slope_priors,\n",
    "    noncentered=True,\n",
    ")\n",
    "\n",
    "varying_intercept_slope_model"
   ]
  },
  {
   "cell_type": "code",
   "execution_count": null,
   "metadata": {},
   "outputs": [],
   "source": [
    "varying_intercept_slope_results = varying_intercept_slope_model.fit(\n",
    "    draws=2000, tune=2000, target_accept=0.9\n",
    ")"
   ]
  },
  {
   "cell_type": "code",
   "execution_count": null,
   "metadata": {},
   "outputs": [],
   "source": [
    "varying_intercept_slope_model.graph()"
   ]
  },
  {
   "cell_type": "code",
   "execution_count": null,
   "metadata": {},
   "outputs": [],
   "source": [
    "var_names = [\"floor\", \"floor|county\", \"floor|county_sigma\", \"sigma\"]\n",
    "az.plot_trace(\n",
    "    data=varying_intercept_slope_results,\n",
    "    var_names=var_names,\n",
    "    compact=True,\n",
    "    chain_prop={\"ls\": \"-\"},\n",
    ");"
   ]
  },
  {
   "cell_type": "code",
   "execution_count": null,
   "metadata": {},
   "outputs": [],
   "source": [
    "covariate_priors = {\n",
    "    \"floor\": bmb.Prior(\"Normal\", mu=0, sigma=10),\n",
    "    \"log_u\": bmb.Prior(\"Normal\", mu=0, sigma=10),\n",
    "    \"floor|county\": bmb.Prior(\"Normal\", mu=0, sigma=bmb.Prior(\"Exponential\", lam=1)),\n",
    "    \"sigma\": bmb.Prior(\"Exponential\", lam=1),\n",
    "}\n",
    "\n",
    "covariate_model = bmb.Model(\n",
    "    formula=\"log_radon ~ 0 + floor + log_u + (0 + floor|county)\",\n",
    "    data=df,\n",
    "    priors=covariate_priors,\n",
    "    noncentered=True,\n",
    ")\n",
    "\n",
    "covariate_model"
   ]
  },
  {
   "cell_type": "code",
   "execution_count": null,
   "metadata": {},
   "outputs": [],
   "source": [
    "covariate_results = covariate_model.fit(\n",
    "    draws=2000, tune=2000, target_accept=0.9, chains=2\n",
    ")"
   ]
  },
  {
   "cell_type": "code",
   "execution_count": null,
   "metadata": {},
   "outputs": [],
   "source": [
    "covariate_model.graph()"
   ]
  },
  {
   "cell_type": "code",
   "execution_count": null,
   "metadata": {},
   "outputs": [],
   "source": [
    "var_names = [\"floor\", \"log_u\", \"floor|county\", \"floor|county_sigma\", \"sigma\"]\n",
    "az.plot_trace(\n",
    "    data=covariate_results, var_names=var_names, compact=True, chain_prop={\"ls\": \"-\"}\n",
    ");"
   ]
  },
  {
   "cell_type": "code",
   "execution_count": null,
   "metadata": {},
   "outputs": [],
   "source": [
    "# get log_u values per county\n",
    "log_u_sample = df.groupby([\"county\"])[\"log_u\"].mean().values\n",
    "\n",
    "# compute the slope posterior samples\n",
    "log_u_slope = covariate_results.posterior[\"log_u\"].values[..., None] * log_u_sample\n",
    "\n",
    "# Compute the posterior for the floor coefficient when it is Basement\n",
    "intercepts = (\n",
    "    covariate_results.posterior.sel(floor_dim=\"Basement\")[\"floor\"]\n",
    "    + covariate_results.posterior.sel(floor__expr_dim=\"Basement\")[\"floor|county\"]\n",
    ").values\n",
    "\n",
    "y_predicted = (intercepts + log_u_slope).reshape(4000, n_counties).T\n",
    "\n",
    "# reduce the intercepts posterior samples to the mean per county\n",
    "mean_intercept = intercepts.mean(axis=2)[..., None] + log_u_slope"
   ]
  },
  {
   "cell_type": "code",
   "execution_count": null,
   "metadata": {},
   "outputs": [],
   "source": [
    "fig, ax = plt.subplots()\n",
    "\n",
    "y_predicted_bounds = np.quantile(y_predicted, q=[0.03, 0.96], axis=1)\n",
    "\n",
    "sns.scatterplot(\n",
    "    x=log_u_sample,\n",
    "    y=y_predicted.mean(axis=1),\n",
    "    alpha=0.8,\n",
    "    color=\"C0\",\n",
    "    s=50,\n",
    "    label=\"Mean county-intercept\",\n",
    "    ax=ax,\n",
    ")\n",
    "ax.vlines(\n",
    "    log_u_sample, y_predicted_bounds[0], y_predicted_bounds[1], color=\"C1\", alpha=0.5\n",
    ")\n",
    "\n",
    "az.plot_hdi(\n",
    "    x=log_u_sample,\n",
    "    y=mean_intercept,\n",
    "    color=\"black\",\n",
    "    fill_kwargs={\"alpha\": 0.1, \"label\": \"Mean intercept HPD\"},\n",
    "    ax=ax,\n",
    ")\n",
    "\n",
    "sns.lineplot(\n",
    "    x=log_u_sample,\n",
    "    y=mean_intercept.reshape(4000, n_counties).mean(axis=0),\n",
    "    color=\"black\",\n",
    "    alpha=0.6,\n",
    "    label=\"Mean intercept\",\n",
    "    ax=ax,\n",
    ")\n",
    "\n",
    "ax.legend(loc=\"upper left\")\n",
    "ax.set(\n",
    "    title=\"County Intercepts (Covariance Model)\",\n",
    "    xlabel=\"County-level log uranium\",\n",
    "    ylabel=\"Intercept estimate\",\n",
    ");"
   ]
  },
  {
   "cell_type": "code",
   "execution_count": null,
   "metadata": {},
   "outputs": [],
   "source": [
    "# generate posterior predictive samples\n",
    "pooled_model.predict(pooled_results, kind=\"response\")\n",
    "partial_pooling_model.predict(partial_pooling_results, kind=\"response\")\n",
    "\n",
    "# stack chain and draw values\n",
    "pooled_pps = az.extract(pooled_results, group=\"posterior_predictive\")[\n",
    "    \"log_radon\"\n",
    "].values\n",
    "partial_pooling_pps = az.extract(partial_pooling_results, group=\"posterior_predictive\")[\n",
    "    \"log_radon\"\n",
    "].values\n",
    "\n",
    "# Generate predictions per county\n",
    "pooled_pps_df = pd.DataFrame(data=pooled_pps).assign(county=df[\"county\"])\n",
    "y_pred_pooled = pooled_pps_df.groupby(\"county\").mean().mean(axis=1)\n",
    "\n",
    "partial_pooling_pps_df = pd.DataFrame(data=partial_pooling_pps).assign(\n",
    "    county=df[\"county\"]\n",
    ")\n",
    "y_pred_partial_pooling = partial_pooling_pps_df.groupby(\"county\").mean().mean(axis=1)\n",
    "\n",
    "# observed values\n",
    "y_sample = df.groupby(\"county\")[\"log_radon\"].mean()"
   ]
  },
  {
   "cell_type": "code",
   "execution_count": null,
   "metadata": {},
   "outputs": [],
   "source": [
    "fig, ax = plt.subplots(figsize=(8, 8))\n",
    "\n",
    "sns.regplot(x=y_sample, y=y_pred_pooled, label=\"pooled\", color=\"C0\", ax=ax)\n",
    "sns.regplot(\n",
    "    x=y_sample, y=y_pred_partial_pooling, label=\"partial pooling\", color=\"C2\", ax=ax\n",
    ")\n",
    "ax.axhline(y=df[\"log_radon\"].mean(), color=\"C0\", linestyle=\"--\", label=\"sample mean\")\n",
    "ax.axline(xy1=(1, 1), slope=1, color=\"black\", linestyle=\"--\", label=\"diagonal\")\n",
    "ax.axhline(\n",
    "    y=y_pred_partial_pooling.mean(),\n",
    "    color=\"C3\",\n",
    "    linestyle=\"--\",\n",
    "    label=\"predicted global mean (partial pooling)\",\n",
    ")\n",
    "ax.legend(loc=\"upper center\", bbox_to_anchor=(0.5, -0.1), ncol=2)\n",
    "ax.set(\n",
    "    title=\"log(Radon + 0.1) Mean per County - Model Comparison\",\n",
    "    xlabel=\"observed (sample)\",\n",
    "    ylabel=\"prediction\",\n",
    "    xlim=(0.2, 2.8),\n",
    "    ylim=(0.2, 2.8),\n",
    ");"
   ]
  },
  {
   "cell_type": "code",
   "execution_count": null,
   "metadata": {},
   "outputs": [],
   "source": []
  }
 ],
 "metadata": {
  "language_info": {
   "codemirror_mode": {
    "name": "ipython",
    "version": 3
   },
   "file_extension": ".py",
   "mimetype": "text/x-python",
   "name": "python",
   "nbconvert_exporter": "python",
   "pygments_lexer": "ipython3",
   "version": "3.13.1"
  }
 },
 "nbformat": 4,
 "nbformat_minor": 2
}
