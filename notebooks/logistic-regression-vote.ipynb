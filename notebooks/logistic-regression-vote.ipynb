{
 "cells": [
  {
   "cell_type": "markdown",
   "metadata": {},
   "source": [
    "Based on https://bambinos.github.io/bambi/notebooks/logistic_regression.html"
   ]
  },
  {
   "cell_type": "code",
   "execution_count": null,
   "metadata": {},
   "outputs": [],
   "source": [
    "import arviz as az\n",
    "import bambi as bmb\n",
    "import matplotlib.pyplot as plt\n",
    "import numpy as np\n",
    "import pandas as pd"
   ]
  },
  {
   "cell_type": "code",
   "execution_count": null,
   "metadata": {},
   "outputs": [],
   "source": [
    "az.style.use(\"arviz-darkgrid\")\n",
    "SEED = 7355608"
   ]
  },
  {
   "cell_type": "code",
   "execution_count": null,
   "metadata": {},
   "outputs": [],
   "source": [
    "data = bmb.load_data(\"ANES\")\n",
    "data.head()"
   ]
  },
  {
   "cell_type": "code",
   "execution_count": null,
   "metadata": {},
   "outputs": [],
   "source": [
    "data[\"vote\"].value_counts()"
   ]
  },
  {
   "cell_type": "code",
   "execution_count": null,
   "metadata": {},
   "outputs": [],
   "source": [
    "data[\"party_id\"].value_counts()"
   ]
  },
  {
   "cell_type": "code",
   "execution_count": null,
   "metadata": {},
   "outputs": [],
   "source": [
    "fig, ax = plt.subplots(1, 3, figsize=(10, 4), sharey=True, constrained_layout=True)\n",
    "key = dict(zip(data[\"party_id\"].unique(), range(3)))\n",
    "for label, df in data.groupby(\"party_id\"):\n",
    "    ax[key[label]].hist(df[\"age\"])\n",
    "    ax[key[label]].set_xlim([18, 90])\n",
    "    ax[key[label]].set_xlabel(\"Age\")\n",
    "    ax[key[label]].set_ylabel(\"Frequency\")\n",
    "    ax[key[label]].set_title(label)\n",
    "    ax[key[label]].axvline(df[\"age\"].mean(), color=\"C1\")"
   ]
  },
  {
   "cell_type": "code",
   "execution_count": null,
   "metadata": {},
   "outputs": [],
   "source": [
    "pd.crosstab(data[\"vote\"], data[\"party_id\"])"
   ]
  },
  {
   "cell_type": "code",
   "execution_count": null,
   "metadata": {},
   "outputs": [],
   "source": [
    "clinton_data = data.loc[data[\"vote\"].isin([\"clinton\", \"trump\"]), :]\n",
    "clinton_data.head()"
   ]
  },
  {
   "cell_type": "code",
   "execution_count": null,
   "metadata": {},
   "outputs": [],
   "source": [
    "clinton_model = bmb.Model(\n",
    "    \"vote['clinton'] ~ party_id + party_id:age\", clinton_data, family=\"bernoulli\"\n",
    ")\n",
    "clinton_fitted = clinton_model.fit(\n",
    "    draws=2000,\n",
    "    target_accept=0.85,\n",
    "    random_seed=SEED,\n",
    "    idata_kwargs={\"log_likelihood\": True},\n",
    ")"
   ]
  },
  {
   "cell_type": "code",
   "execution_count": null,
   "metadata": {},
   "outputs": [],
   "source": [
    "clinton_model"
   ]
  },
  {
   "cell_type": "code",
   "execution_count": null,
   "metadata": {},
   "outputs": [],
   "source": [
    "clinton_model.plot_priors();"
   ]
  },
  {
   "cell_type": "code",
   "execution_count": null,
   "metadata": {},
   "outputs": [],
   "source": [
    "az.plot_trace(clinton_fitted, compact=False);"
   ]
  },
  {
   "cell_type": "code",
   "execution_count": null,
   "metadata": {},
   "outputs": [],
   "source": [
    "az.summary(clinton_fitted)"
   ]
  },
  {
   "cell_type": "code",
   "execution_count": null,
   "metadata": {},
   "outputs": [],
   "source": [
    "clinton_model.predict(clinton_fitted, kind=\"response\")"
   ]
  },
  {
   "cell_type": "code",
   "execution_count": null,
   "metadata": {},
   "outputs": [],
   "source": [
    "ax = az.plot_separation(clinton_fitted, y=\"vote\", figsize=(9, 0.5));"
   ]
  },
  {
   "cell_type": "code",
   "execution_count": null,
   "metadata": {},
   "outputs": [],
   "source": [
    "# compute pointwise LOO\n",
    "loo = az.loo(clinton_fitted, pointwise=True)"
   ]
  },
  {
   "cell_type": "code",
   "execution_count": null,
   "metadata": {},
   "outputs": [],
   "source": [
    "# plot kappa values\n",
    "az.plot_khat(loo.pareto_k);"
   ]
  },
  {
   "cell_type": "code",
   "execution_count": null,
   "metadata": {},
   "outputs": [],
   "source": [
    "ax = az.plot_khat(loo.pareto_k.values.ravel())\n",
    "sorted_kappas = np.sort(loo.pareto_k.values.ravel())\n",
    "\n",
    "# find observation where the kappa value exceeds the threshold\n",
    "threshold = sorted_kappas[-1:]\n",
    "ax.axhline(threshold, ls=\"--\", color=\"orange\")\n",
    "influential_observations = clinton_data.reset_index()[\n",
    "    loo.pareto_k.values >= threshold\n",
    "].index\n",
    "\n",
    "for x in influential_observations:\n",
    "    y = loo.pareto_k.values[x]\n",
    "    ax.text(x, y + 0.01, str(x), ha=\"center\", va=\"baseline\")"
   ]
  },
  {
   "cell_type": "code",
   "execution_count": null,
   "metadata": {},
   "outputs": [],
   "source": [
    "clinton_data.reset_index()[loo.pareto_k.values >= threshold]"
   ]
  },
  {
   "cell_type": "code",
   "execution_count": null,
   "metadata": {},
   "outputs": [],
   "source": [
    "ax = az.plot_khat(loo.pareto_k)\n",
    "\n",
    "# find observation where the kappa value exceeds the threshold\n",
    "threshold = sorted_kappas[-6:].min()\n",
    "ax.axhline(threshold, ls=\"--\", color=\"orange\")\n",
    "influential_observations = clinton_data.reset_index()[\n",
    "    loo.pareto_k.values >= threshold\n",
    "].index\n",
    "\n",
    "for x in influential_observations:\n",
    "    y = loo.pareto_k.values[x]\n",
    "    ax.text(x, y + 0.01, str(x), ha=\"center\", va=\"baseline\")"
   ]
  },
  {
   "cell_type": "code",
   "execution_count": null,
   "metadata": {},
   "outputs": [],
   "source": [
    "clinton_data.reset_index()[loo.pareto_k.values >= threshold]"
   ]
  },
  {
   "cell_type": "code",
   "execution_count": null,
   "metadata": {},
   "outputs": [],
   "source": [
    "clinton_data[clinton_data.age > 80]"
   ]
  },
  {
   "cell_type": "code",
   "execution_count": null,
   "metadata": {},
   "outputs": [],
   "source": [
    "clinton_data[(clinton_data.vote == \"clinton\") & (clinton_data.party_id == \"republican\")]"
   ]
  },
  {
   "cell_type": "code",
   "execution_count": null,
   "metadata": {},
   "outputs": [],
   "source": [
    "import matplotlib.patheffects as pe\n",
    "\n",
    "ax = az.plot_separation(clinton_fitted, y=\"vote\", figsize=(9, 0.5))\n",
    "\n",
    "y = np.random.uniform(0.1, 0.5, size=len(influential_observations))\n",
    "\n",
    "for x, y in zip(influential_observations, y):\n",
    "    text = str(x)\n",
    "    x = x / len(clinton_data)\n",
    "    ax.scatter(x, y, marker=\"+\", s=50, color=\"red\", zorder=3)\n",
    "    ax.text(\n",
    "        x,\n",
    "        y + 0.1,\n",
    "        text,\n",
    "        color=\"white\",\n",
    "        ha=\"center\",\n",
    "        va=\"bottom\",\n",
    "        path_effects=[pe.withStroke(linewidth=2, foreground=\"black\")],\n",
    "    )"
   ]
  },
  {
   "cell_type": "code",
   "execution_count": null,
   "metadata": {},
   "outputs": [],
   "source": [
    "parties = [\"democrat\", \"independent\", \"republican\"]\n",
    "dem, ind, rep = [\n",
    "    clinton_fitted.posterior[\"party_id:age\"].sel({\"party_id:age_dim\": party})\n",
    "    for party in parties\n",
    "]"
   ]
  },
  {
   "cell_type": "code",
   "execution_count": null,
   "metadata": {},
   "outputs": [],
   "source": [
    "_, ax = plt.subplots()\n",
    "for idx, x in enumerate([dem, ind, rep]):\n",
    "    az.plot_dist(\n",
    "        x, label=x[\"party_id:age_dim\"].item(), plot_kwargs={\"color\": f\"C{idx}\"}, ax=ax\n",
    "    )\n",
    "ax.legend(loc=\"upper left\");"
   ]
  },
  {
   "cell_type": "code",
   "execution_count": null,
   "metadata": {},
   "outputs": [],
   "source": [
    "age = np.arange(18, 91)\n",
    "new_data = pd.DataFrame(\n",
    "    {\n",
    "        \"age\": np.tile(age, 3),\n",
    "        \"party_id\": np.repeat([\"democrat\", \"republican\", \"independent\"], len(age)),\n",
    "    }\n",
    ")\n",
    "new_data"
   ]
  },
  {
   "cell_type": "code",
   "execution_count": null,
   "metadata": {},
   "outputs": [],
   "source": [
    "clinton_model.predict(clinton_fitted, data=new_data)"
   ]
  },
  {
   "cell_type": "code",
   "execution_count": null,
   "metadata": {},
   "outputs": [],
   "source": [
    "# Select a sample of posterior values for the mean probability of voting for Clinton\n",
    "vote_posterior = az.extract_dataset(clinton_fitted, num_samples=2000)[\"p\"]"
   ]
  },
  {
   "cell_type": "code",
   "execution_count": null,
   "metadata": {},
   "outputs": [],
   "source": [
    "_, ax = plt.subplots(figsize=(7, 5))\n",
    "\n",
    "for i, party in enumerate([\"democrat\", \"republican\", \"independent\"]):\n",
    "    # Which rows in new_data correspond to party?\n",
    "    idx = new_data.index[new_data[\"party_id\"] == party].tolist()\n",
    "    ax.plot(age, vote_posterior[idx], alpha=0.04, color=f\"C{i}\")\n",
    "\n",
    "ax.set_ylabel(\"P(vote='clinton' | age)\")\n",
    "ax.set_xlabel(\"Age\", fontsize=15)\n",
    "ax.set_ylim(0, 1)\n",
    "ax.set_xlim(18, 90);"
   ]
  },
  {
   "cell_type": "code",
   "execution_count": null,
   "metadata": {},
   "outputs": [],
   "source": []
  }
 ],
 "metadata": {
  "language_info": {
   "codemirror_mode": {
    "name": "ipython",
    "version": 3
   },
   "file_extension": ".py",
   "mimetype": "text/x-python",
   "name": "python",
   "nbconvert_exporter": "python",
   "pygments_lexer": "ipython3",
   "version": "3.13.1"
  }
 },
 "nbformat": 4,
 "nbformat_minor": 2
}
