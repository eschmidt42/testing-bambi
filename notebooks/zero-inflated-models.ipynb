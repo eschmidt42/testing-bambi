{
 "cells": [
  {
   "cell_type": "markdown",
   "metadata": {},
   "source": [
    "Based on https://bambinos.github.io/bambi/notebooks/zero_inflated_regression.html"
   ]
  },
  {
   "cell_type": "code",
   "execution_count": null,
   "metadata": {},
   "outputs": [],
   "source": [
    "import arviz as az\n",
    "import matplotlib.pyplot as plt\n",
    "from matplotlib.lines import Line2D\n",
    "import numpy as np\n",
    "import pandas as pd\n",
    "import scipy.stats as stats\n",
    "import seaborn as sns\n",
    "import warnings\n",
    "\n",
    "import bambi as bmb\n",
    "\n",
    "warnings.simplefilter(action=\"ignore\", category=FutureWarning)"
   ]
  },
  {
   "cell_type": "code",
   "execution_count": null,
   "metadata": {},
   "outputs": [],
   "source": [
    "x = np.arange(0, 22)\n",
    "psis = [0.7, 0.4]\n",
    "mus = [10, 4]\n",
    "plt.figure(figsize=(7, 3))\n",
    "for psi, mu in zip(psis, mus):\n",
    "    pmf = stats.poisson.pmf(x, mu)\n",
    "    pmf[0] = (1 - psi) + pmf[0]  # 1.) generate zeros\n",
    "    pmf[1:] = psi * pmf[1:]  # 2.) generate counts\n",
    "    pmf /= pmf.sum()  # normalize to get probabilities\n",
    "    plt.plot(x, pmf, \"-o\", label=\"$\\\\psi$ = {}, $\\\\mu$ = {}\".format(psi, mu))\n",
    "\n",
    "plt.title(\"Zero Inflated Poisson Process\")\n",
    "plt.xlabel(\"x\", fontsize=12)\n",
    "plt.ylabel(\"f(x)\", fontsize=12)\n",
    "plt.legend(loc=1)\n",
    "plt.show()"
   ]
  },
  {
   "cell_type": "code",
   "execution_count": null,
   "metadata": {},
   "outputs": [],
   "source": [
    "fish_data = pd.read_csv(\"https://stats.idre.ucla.edu/stat/data/fish.csv\")\n",
    "cols = [\"count\", \"livebait\", \"camper\", \"persons\", \"child\"]\n",
    "fish_data = fish_data[cols]\n",
    "fish_data[\"livebait\"] = pd.Categorical(fish_data[\"livebait\"])\n",
    "fish_data[\"camper\"] = pd.Categorical(fish_data[\"camper\"])\n",
    "fish_data = fish_data[fish_data[\"count\"] < 60]  # remove outliers"
   ]
  },
  {
   "cell_type": "code",
   "execution_count": null,
   "metadata": {},
   "outputs": [],
   "source": [
    "# Excess zeros, and skewed count\n",
    "plt.figure(figsize=(7, 3))\n",
    "sns.histplot(fish_data[\"count\"], discrete=True)\n",
    "plt.xlabel(\"Number of Fish Caught\");"
   ]
  },
  {
   "cell_type": "code",
   "execution_count": null,
   "metadata": {},
   "outputs": [],
   "source": [
    "zip_model = bmb.Model(\n",
    "    \"count ~ livebait + camper + persons + child\",\n",
    "    fish_data,\n",
    "    family=\"zero_inflated_poisson\",\n",
    ")\n",
    "\n",
    "zip_idata = zip_model.fit(draws=1000, target_accept=0.95, random_seed=1234, chains=4)"
   ]
  },
  {
   "cell_type": "markdown",
   "metadata": {},
   "source": [
    "Above cell raises `TypeError: unsupported operand type(s) for -: 'int' and 'method'`, skipping"
   ]
  },
  {
   "cell_type": "code",
   "execution_count": null,
   "metadata": {},
   "outputs": [],
   "source": [
    "formula = bmb.Formula(\n",
    "    \"count ~ livebait + camper + persons + child\",  # parent parameter mu\n",
    "    \"psi ~ livebait + camper + persons + child\",  # non-parent parameter psi\n",
    ")\n",
    "\n",
    "zip_model = bmb.Model(formula, fish_data, family=\"zero_inflated_poisson\")\n",
    "\n",
    "zip_idata = zip_model.fit(draws=1000, target_accept=0.95, random_seed=1234, chains=4)"
   ]
  },
  {
   "cell_type": "markdown",
   "metadata": {},
   "source": [
    "Above cell raises `TypeError: unsupported operand type(s) for -: 'int' and 'method'`, skipping"
   ]
  },
  {
   "cell_type": "code",
   "execution_count": null,
   "metadata": {},
   "outputs": [],
   "source": [
    "x = np.arange(0, 22)\n",
    "psis = [0.7, 0.4]\n",
    "mus = [10, 4]\n",
    "\n",
    "plt.figure(figsize=(7, 3))\n",
    "for psi, mu in zip(psis, mus):\n",
    "    pmf = stats.poisson.pmf(x, mu)  # pmf evaluated at x given mu\n",
    "    cdf = stats.poisson.cdf(0, mu)  # cdf evaluated at 0 given mu\n",
    "    pmf[0] = 1 - psi  # 1.) generate zeros\n",
    "    pmf[1:] = (psi * pmf[1:]) / (1 - cdf)  # 2.) generate counts\n",
    "    pmf /= pmf.sum()  # normalize to get probabilities\n",
    "    plt.plot(x, pmf, \"-o\", label=\"$\\\\psi$ = {}, $\\\\mu$ = {}\".format(psi, mu))\n",
    "\n",
    "plt.title(\"Hurdle Poisson Process\")\n",
    "plt.xlabel(\"x\", fontsize=12)\n",
    "plt.ylabel(\"f(x)\", fontsize=12)\n",
    "plt.legend(loc=1)\n",
    "plt.show()"
   ]
  },
  {
   "cell_type": "code",
   "execution_count": null,
   "metadata": {},
   "outputs": [],
   "source": [
    "hurdle_formula = bmb.Formula(\n",
    "    \"count ~ livebait + camper + persons + child\",  # parent parameter mu\n",
    "    \"psi ~ livebait + camper + persons + child\",  # non-parent parameter psi\n",
    ")\n",
    "\n",
    "hurdle_model = bmb.Model(hurdle_formula, fish_data, family=\"hurdle_poisson\")\n",
    "\n",
    "hurdle_idata = hurdle_model.fit(\n",
    "    draws=1000, target_accept=0.95, random_seed=1234, chains=4\n",
    ")"
   ]
  },
  {
   "cell_type": "markdown",
   "metadata": {},
   "source": [
    "Above cell raises `TypeError: unsupported operand type(s) for -: 'int' and 'method'`, skipping"
   ]
  }
 ],
 "metadata": {
  "language_info": {
   "codemirror_mode": {
    "name": "ipython",
    "version": 3
   },
   "file_extension": ".py",
   "mimetype": "text/x-python",
   "name": "python",
   "nbconvert_exporter": "python",
   "pygments_lexer": "ipython3",
   "version": "3.13.1"
  }
 },
 "nbformat": 4,
 "nbformat_minor": 2
}
