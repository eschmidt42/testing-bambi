{
 "cells": [
  {
   "cell_type": "markdown",
   "metadata": {},
   "source": [
    "Based on https://bambinos.github.io/bambi/notebooks/distributional_models.html"
   ]
  },
  {
   "cell_type": "code",
   "execution_count": null,
   "metadata": {},
   "outputs": [],
   "source": [
    "import arviz as az\n",
    "import bambi as bmb\n",
    "import matplotlib.pyplot as plt\n",
    "import numpy as np\n",
    "import pandas as pd\n",
    "\n",
    "from matplotlib.lines import Line2D"
   ]
  },
  {
   "cell_type": "code",
   "execution_count": null,
   "metadata": {},
   "outputs": [],
   "source": [
    "import warnings\n",
    "\n",
    "warnings.simplefilter(action=\"ignore\", category=FutureWarning)  # ArviZ\n",
    "\n",
    "az.style.use(\"arviz-doc\")"
   ]
  },
  {
   "cell_type": "code",
   "execution_count": null,
   "metadata": {},
   "outputs": [],
   "source": [
    "rng = np.random.default_rng(121195)\n",
    "N = 200\n",
    "a, b = 0.5, 1.1\n",
    "x = rng.uniform(-1.5, 1.5, N)\n",
    "shape = np.exp(0.3 + x * 0.5 + rng.normal(scale=0.1, size=N))\n",
    "y = rng.gamma(shape, np.exp(a + b * x) / shape, N)\n",
    "data = pd.DataFrame({\"x\": x, \"y\": y})\n",
    "new_data = pd.DataFrame({\"x\": np.linspace(-1.5, 1.5, num=50)})"
   ]
  },
  {
   "cell_type": "code",
   "execution_count": null,
   "metadata": {},
   "outputs": [],
   "source": [
    "formula = bmb.Formula(\"y ~ x\")\n",
    "model_constant = bmb.Model(formula, data, family=\"gamma\", link=\"log\")\n",
    "model_constant"
   ]
  },
  {
   "cell_type": "code",
   "execution_count": null,
   "metadata": {},
   "outputs": [],
   "source": [
    "model_constant.build()\n",
    "model_constant.graph()"
   ]
  },
  {
   "cell_type": "code",
   "execution_count": null,
   "metadata": {},
   "outputs": [],
   "source": [
    "idata_constant = model_constant.fit(\n",
    "    random_seed=121195, idata_kwargs={\"log_likelihood\": True}\n",
    ")"
   ]
  },
  {
   "cell_type": "code",
   "execution_count": null,
   "metadata": {},
   "outputs": [],
   "source": [
    "model_constant.predict(idata_constant, kind=\"response_params\", data=new_data)\n",
    "model_constant.predict(idata_constant, kind=\"response\", data=new_data)\n",
    "\n",
    "qts_constant = (\n",
    "    az.extract(idata_constant.posterior_predictive, var_names=\"y\")\n",
    "    .quantile([0.025, 0.975], \"sample\")\n",
    "    .to_numpy()\n",
    ")\n",
    "mean_constant = (\n",
    "    az.extract(idata_constant.posterior_predictive, var_names=\"y\")\n",
    "    .mean(\"sample\")\n",
    "    .to_numpy()\n",
    ")"
   ]
  },
  {
   "cell_type": "code",
   "execution_count": null,
   "metadata": {},
   "outputs": [],
   "source": [
    "fig, ax = plt.subplots(figsize=(8, 4.5), dpi=120)\n",
    "\n",
    "az.plot_hdi(new_data[\"x\"], qts_constant, ax=ax, fill_kwargs={\"alpha\": 0.4})\n",
    "ax.plot(new_data[\"x\"], mean_constant, color=\"C0\", lw=2)\n",
    "ax.scatter(data[\"x\"], data[\"y\"], color=\"k\", alpha=0.2)\n",
    "ax.set(xlabel=\"Predictor\", ylabel=\"Outcome\");"
   ]
  },
  {
   "cell_type": "code",
   "execution_count": null,
   "metadata": {},
   "outputs": [],
   "source": [
    "formula_varying = bmb.Formula(\"y ~ x\", \"alpha ~ x\")\n",
    "model_varying = bmb.Model(\n",
    "    formula_varying, data, family=\"gamma\", link={\"mu\": \"log\", \"alpha\": \"log\"}\n",
    ")\n",
    "model_varying"
   ]
  },
  {
   "cell_type": "code",
   "execution_count": null,
   "metadata": {},
   "outputs": [],
   "source": [
    "model_varying.build()\n",
    "model_varying.graph()"
   ]
  },
  {
   "cell_type": "code",
   "execution_count": null,
   "metadata": {},
   "outputs": [],
   "source": [
    "idata_varying = model_varying.fit(\n",
    "    random_seed=121195,\n",
    "    idata_kwargs={\"log_likelihood\": True},\n",
    "    include_response_params=True,\n",
    ")"
   ]
  },
  {
   "cell_type": "code",
   "execution_count": null,
   "metadata": {},
   "outputs": [],
   "source": [
    "fig, ax = plt.subplots(figsize=(8, 4.5), dpi=120)\n",
    "\n",
    "for idx in idata_varying.posterior.coords.get(\"__obs__\"):\n",
    "    values = idata_varying.posterior[\"alpha\"].sel(__obs__=idx).to_numpy().flatten()\n",
    "    grid, pdf = az.kde(values)\n",
    "    ax.plot(grid, pdf, lw=0.05, color=\"k\")\n",
    "\n",
    "values = idata_constant.posterior[\"alpha\"].to_numpy().flatten()\n",
    "grid, pdf = az.kde(values)\n",
    "ax.plot(grid, pdf, lw=2, color=\"C0\")\n",
    "# Create legend\n",
    "handles = [\n",
    "    Line2D([0], [0], label=\"Varying alpha\", lw=1.5, color=\"k\", alpha=0.6),\n",
    "    Line2D([0], [0], label=\"Constant alpha\", lw=1.5, color=\"C0\"),\n",
    "]\n",
    "\n",
    "legend = ax.legend(handles=handles, loc=\"upper right\", fontsize=14)\n",
    "\n",
    "ax.set(xlabel=\"Alpha posterior\", ylabel=\"Density\");"
   ]
  },
  {
   "cell_type": "code",
   "execution_count": null,
   "metadata": {},
   "outputs": [],
   "source": [
    "model_varying.predict(idata_varying, kind=\"response_params\", data=new_data)\n",
    "model_varying.predict(idata_varying, kind=\"response\", data=new_data)\n",
    "\n",
    "qts_varying = (\n",
    "    az.extract(idata_varying.posterior_predictive, var_names=\"y\")\n",
    "    .quantile([0.025, 0.975], \"sample\")\n",
    "    .to_numpy()\n",
    ")\n",
    "mean_varying = (\n",
    "    az.extract(idata_varying.posterior_predictive, var_names=\"y\")\n",
    "    .mean(\"sample\")\n",
    "    .to_numpy()\n",
    ")"
   ]
  },
  {
   "cell_type": "code",
   "execution_count": null,
   "metadata": {},
   "outputs": [],
   "source": [
    "fig, ax = plt.subplots(figsize=(8, 4.5), dpi=120)\n",
    "\n",
    "az.plot_hdi(new_data[\"x\"], qts_constant, ax=ax, fill_kwargs={\"alpha\": 0.4})\n",
    "ax.plot(new_data[\"x\"], mean_constant, color=\"C1\", label=\"constant\")\n",
    "\n",
    "az.plot_hdi(new_data[\"x\"], qts_varying, ax=ax, fill_kwargs={\"alpha\": 0.4, \"color\": \"k\"})\n",
    "ax.plot(new_data[\"x\"], mean_varying, color=\"k\", label=\"varying\")\n",
    "ax.set(xlabel=\"Predictor\", ylabel=\"Outcome\")\n",
    "plt.legend();"
   ]
  },
  {
   "cell_type": "code",
   "execution_count": null,
   "metadata": {},
   "outputs": [],
   "source": [
    "data = bmb.load_data(\"bikes\")\n",
    "# Remove data, you may later try to refit the model to the whole data\n",
    "data = data[::50]\n",
    "data = data.reset_index(drop=True)"
   ]
  },
  {
   "cell_type": "code",
   "execution_count": null,
   "metadata": {},
   "outputs": [],
   "source": [
    "formula = bmb.Formula(\n",
    "    \"count ~ 0 + bs(hour, 8, intercept=True)\", \"alpha ~ 0 + bs(hour, 8, intercept=True)\"\n",
    ")\n",
    "model_bikes = bmb.Model(formula, data, family=\"negativebinomial\")\n",
    "model_bikes"
   ]
  },
  {
   "cell_type": "code",
   "execution_count": null,
   "metadata": {},
   "outputs": [],
   "source": [
    "idata_bikes = model_bikes.fit()"
   ]
  },
  {
   "cell_type": "code",
   "execution_count": null,
   "metadata": {},
   "outputs": [],
   "source": [
    "hour = np.linspace(0, 23, num=200)\n",
    "new_data = pd.DataFrame({\"hour\": hour})\n",
    "model_bikes.predict(idata_bikes, data=new_data, kind=\"response\")"
   ]
  },
  {
   "cell_type": "code",
   "execution_count": null,
   "metadata": {},
   "outputs": [],
   "source": [
    "q = [0.025, 0.975]\n",
    "dims = (\"chain\", \"draw\")\n",
    "\n",
    "mean = idata_bikes.posterior[\"mu\"].mean(dims).to_numpy()\n",
    "mean_interval = idata_bikes.posterior[\"mu\"].quantile(q, dims).to_numpy()\n",
    "y_interval = idata_bikes.posterior_predictive[\"count\"].quantile(q, dims).to_numpy()\n",
    "\n",
    "fig, ax = plt.subplots(figsize=(12, 4))\n",
    "ax.scatter(data[\"hour\"], data[\"count\"], alpha=0.3, color=\"k\")\n",
    "ax.plot(hour, mean, color=\"C3\")\n",
    "ax.fill_between(hour, mean_interval[0], mean_interval[1], alpha=0.5, color=\"C1\")\n",
    "az.plot_hdi(hour, y_interval, fill_kwargs={\"color\": \"C1\", \"alpha\": 0.3}, ax=ax);"
   ]
  },
  {
   "cell_type": "code",
   "execution_count": null,
   "metadata": {},
   "outputs": [],
   "source": []
  }
 ],
 "metadata": {
  "language_info": {
   "codemirror_mode": {
    "name": "ipython",
    "version": 3
   },
   "file_extension": ".py",
   "mimetype": "text/x-python",
   "name": "python",
   "nbconvert_exporter": "python",
   "pygments_lexer": "ipython3",
   "version": "3.13.1"
  }
 },
 "nbformat": 4,
 "nbformat_minor": 2
}
