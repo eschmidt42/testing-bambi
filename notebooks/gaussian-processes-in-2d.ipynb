{
 "cells": [
  {
   "cell_type": "markdown",
   "metadata": {},
   "source": [
    "Based on https://bambinos.github.io/bambi/notebooks/hsgp_2d.html"
   ]
  },
  {
   "cell_type": "code",
   "execution_count": null,
   "metadata": {},
   "outputs": [],
   "source": [
    "import arviz as az\n",
    "import bambi as bmb\n",
    "import matplotlib.pyplot as plt\n",
    "import numpy as np\n",
    "import pandas as pd\n",
    "import pymc as pm"
   ]
  },
  {
   "cell_type": "code",
   "execution_count": null,
   "metadata": {},
   "outputs": [],
   "source": [
    "x1 = np.linspace(0, 10, 12)\n",
    "x2 = np.linspace(0, 10, 12)\n",
    "xx, yy = np.meshgrid(x1, x2)\n",
    "X = np.column_stack([xx.flatten(), yy.flatten()])\n",
    "X.shape"
   ]
  },
  {
   "cell_type": "code",
   "execution_count": null,
   "metadata": {},
   "outputs": [],
   "source": [
    "rng = np.random.default_rng(1234)\n",
    "\n",
    "ell = 2\n",
    "cov = 1.2 * pm.gp.cov.ExpQuad(2, ls=ell)\n",
    "K = cov(X).eval()\n",
    "mu = np.zeros(X.shape[0])\n",
    "print(mu.shape, K.shape)\n",
    "\n",
    "f = rng.multivariate_normal(mu, K)\n",
    "\n",
    "fig, ax = plt.subplots()\n",
    "ax.scatter(xx, yy, c=f, s=900, marker=\"s\");"
   ]
  },
  {
   "cell_type": "code",
   "execution_count": null,
   "metadata": {},
   "outputs": [],
   "source": [
    "data = pd.DataFrame(\n",
    "    {\n",
    "        \"x\": np.tile(xx.flatten(), 1),\n",
    "        \"y\": np.tile(yy.flatten(), 1),\n",
    "        \"outcome\": f.flatten(),\n",
    "    }\n",
    ")"
   ]
  },
  {
   "cell_type": "code",
   "execution_count": null,
   "metadata": {},
   "outputs": [],
   "source": [
    "prior_hsgp = {\n",
    "    \"sigma\": bmb.Prior(\"Exponential\", lam=3),\n",
    "    \"ell\": bmb.Prior(\"InverseGamma\", mu=2, sigma=0.2),\n",
    "}\n",
    "priors = {\n",
    "    \"hsgp(x, y, c=1.5, m=10)\": prior_hsgp,\n",
    "    \"sigma\": bmb.Prior(\"HalfNormal\", sigma=2),\n",
    "}\n",
    "model = bmb.Model(\"outcome ~ 0 + hsgp(x, y, c=1.5, m=10)\", data, priors=priors)\n",
    "model.set_alias({\"hsgp(x, y, c=1.5, m=10)\": \"hsgp\"})\n",
    "model"
   ]
  },
  {
   "cell_type": "code",
   "execution_count": null,
   "metadata": {},
   "outputs": [],
   "source": [
    "model.build()\n",
    "model.graph()"
   ]
  },
  {
   "cell_type": "code",
   "execution_count": null,
   "metadata": {},
   "outputs": [],
   "source": [
    "idata = model.fit(inference_method=\"numpyro_nuts\", target_accept=0.9, num_chains=4)\n",
    "print(idata.sample_stats.diverging.sum().item())"
   ]
  },
  {
   "cell_type": "markdown",
   "metadata": {},
   "source": [
    "Above cell raises `NotImplementedError: 'numpyro_nuts' method has not been implemented`. Since all the cells seem to be using that, stopping the notebook here."
   ]
  }
 ],
 "metadata": {
  "language_info": {
   "codemirror_mode": {
    "name": "ipython",
    "version": 3
   },
   "file_extension": ".py",
   "mimetype": "text/x-python",
   "name": "python",
   "nbconvert_exporter": "python",
   "pygments_lexer": "ipython3",
   "version": "3.13.1"
  }
 },
 "nbformat": 4,
 "nbformat_minor": 2
}
