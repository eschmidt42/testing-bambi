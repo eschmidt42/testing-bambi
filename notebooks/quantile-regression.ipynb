{
 "cells": [
  {
   "cell_type": "markdown",
   "metadata": {},
   "source": [
    "Based on https://bambinos.github.io/bambi/notebooks/quantile_regression.html"
   ]
  },
  {
   "cell_type": "code",
   "execution_count": null,
   "metadata": {},
   "outputs": [],
   "source": [
    "import arviz as az\n",
    "import bambi as bmb\n",
    "import matplotlib.pyplot as plt\n",
    "import numpy as np\n",
    "import pandas as pd\n",
    "from scipy import stats\n",
    "from data_utils import download_single_csv\n",
    "from pathlib import Path"
   ]
  },
  {
   "cell_type": "code",
   "execution_count": null,
   "metadata": {},
   "outputs": [],
   "source": [
    "az.style.use(\"arviz-darkgrid\")\n",
    "SEED = 12947"
   ]
  },
  {
   "cell_type": "code",
   "execution_count": null,
   "metadata": {},
   "outputs": [],
   "source": [
    "download_single_csv(Path(\"./data\"), \"bmi.csv\")"
   ]
  },
  {
   "cell_type": "code",
   "execution_count": null,
   "metadata": {},
   "outputs": [],
   "source": [
    "x = np.linspace(-6, 6, 2000)\n",
    "quantiles = np.array([0.2, 0.5, 0.8])\n",
    "for q, m in zip(quantiles, [0, 0, -1]):\n",
    "    κ = (q / (1 - q)) ** 0.5\n",
    "    plt.plot(x, stats.laplace_asymmetric(κ, m, 1).pdf(x), label=f\"q={q:}, μ={m}, σ=1\")\n",
    "plt.yticks([])\n",
    "plt.legend();"
   ]
  },
  {
   "cell_type": "code",
   "execution_count": null,
   "metadata": {},
   "outputs": [],
   "source": [
    "data = pd.read_csv(\"data/bmi.csv\")\n",
    "data.head()"
   ]
  },
  {
   "cell_type": "code",
   "execution_count": null,
   "metadata": {},
   "outputs": [],
   "source": [
    "plt.plot(data.age, data.bmi, \"k.\")\n",
    "plt.xlabel(\"Age\")\n",
    "plt.ylabel(\"BMI\");"
   ]
  },
  {
   "cell_type": "code",
   "execution_count": null,
   "metadata": {},
   "outputs": [],
   "source": [
    "data"
   ]
  },
  {
   "cell_type": "code",
   "execution_count": null,
   "metadata": {},
   "outputs": [],
   "source": [
    "quantiles = np.array([0.1, 0.5, 0.9])\n",
    "kappas = (quantiles / (1 - quantiles)) ** 0.5\n",
    "\n",
    "knots = np.quantile(data.age, np.linspace(0, 1, 10))[1:-1]\n",
    "\n",
    "idatas = []\n",
    "for κ in kappas:\n",
    "    model = bmb.Model(\n",
    "        \"bmi ~ bs(age, knots=knots)\",\n",
    "        data=data,\n",
    "        family=\"asymmetriclaplace\",\n",
    "        priors={\"kappa\": κ},\n",
    "    )\n",
    "    idata = model.fit()\n",
    "    model.predict(idata)\n",
    "    idatas.append(idata)"
   ]
  },
  {
   "cell_type": "markdown",
   "metadata": {},
   "source": [
    "Above cell broken: \n",
    "```\n",
    "---------------------------------------------------------------------------\n",
    "TypeError                                 Traceback (most recent call last)\n",
    "Cell In[19], line 11\n",
    "      8 print(f\"{κ=}\")\n",
    "      9 model = bmb.Model(\"bmi ~ bs(age, knots=knots)\",\n",
    "     10                   data=data.sample(n=200,replace=False), family=\"asymmetriclaplace\", priors={\"kappa\": κ})\n",
    "---> 11 idata = model.fit()\n",
    "     12 model.predict(idata)\n",
    "     13 idatas.append(idata)\n",
    "\n",
    "File ~/PetProjects/testing-bambi/.venv/lib/python3.13/site-packages/bambi/models.py:330, in Model.fit(self, draws, tune, discard_tuned_samples, omit_offsets, include_mean, include_response_params, inference_method, init, n_init, chains, cores, random_seed, **kwargs)\n",
    "    327         inference_method = method\n",
    "    329 if not self.built:\n",
    "--> 330     self.build()\n",
    "    332 # Tell user which event is being modeled\n",
    "    333 if isinstance(self.family, univariate.Bernoulli):\n",
    "\n",
    "File ~/PetProjects/testing-bambi/.venv/lib/python3.13/site-packages/bambi/models.py:373, in Model.build(self)\n",
    "    364 \"\"\"Set up the model for sampling/fitting.\n",
    "    365 \n",
    "    366 Creates an instance of the underlying PyMC model and adds all the necessary terms to it.\n",
    "   (...)\n",
    "    370 None\n",
    "    371 \"\"\"\n",
    "    372 self.backend = PyMCModel()\n",
    "--> 373 self.backend.build(self)\n",
    "    374 self.built = True\n",
    "\n",
    "File ~/PetProjects/testing-bambi/.venv/lib/python3.13/site-packages/bambi/backend/pymc.py:89, in PyMCModel.build(self, spec)\n",
    "     87 # Add response\n",
    "     88 self.response_component = ResponseComponent(spec.response_component)\n",
    "---> 89 self.response_component.build(self, spec)\n",
    "     91 # Add potentials\n",
    "     92 self.build_potentials(spec)\n",
    "\n",
    "File ~/PetProjects/testing-bambi/.venv/lib/python3.13/site-packages/bambi/backend/model_components.py:168, in ResponseComponent.build(self, pymc_backend, bmb_model)\n",
    "    165 def build(self, pymc_backend, bmb_model):\n",
    "    166     # Create and build the response term\n",
    "    167     response_term = ResponseTerm(self.component.term, bmb_model.family)\n",
    "--> 168     response_term.build(pymc_backend, bmb_model)\n",
    "\n",
    "File ~/PetProjects/testing-bambi/.venv/lib/python3.13/site-packages/bambi/backend/terms.py:275, in ResponseTerm.build(self, pymc_backend, bmb_model)\n",
    "    272     kwargs[name] = pm.Deterministic(aliased_name, linkinv(output), dims=dims)\n",
    "    274 # Build the response distribution\n",
    "--> 275 dist = self.build_response_distribution(kwargs, pymc_backend)\n",
    "    277 return dist\n",
    "\n",
    "File ~/PetProjects/testing-bambi/.venv/lib/python3.13/site-packages/bambi/backend/terms.py:383, in ResponseTerm.build_response_distribution(self, kwargs, pymc_backend)\n",
    "    380     dist_rv = weighted_dist(self.name, weights, **kwargs, observed=observed, dims=dims)\n",
    "    381 # All of the other response kinds are \"not special\" and thus are handled the same way\n",
    "    382 else:\n",
    "--> 383     dist_rv = distribution(self.name, **kwargs)\n",
    "    385 return dist_rv\n",
    "\n",
    "File ~/PetProjects/testing-bambi/.venv/lib/python3.13/site-packages/pymc/distributions/distribution.py:511, in Distribution.__new__(cls, name, rng, dims, initval, observed, total_size, transform, default_transform, *args, **kwargs)\n",
    "    508     elif observed is not None:\n",
    "    509         kwargs[\"shape\"] = tuple(observed.shape)\n",
    "--> 511 rv_out = cls.dist(*args, **kwargs)\n",
    "    513 rv_out = model.register_rv(\n",
    "    514     rv_out,\n",
    "    515     name,\n",
    "   (...)\n",
    "    521     initval=initval,\n",
    "    522 )\n",
    "    524 # add in pretty-printing support\n",
    "\n",
    "File ~/PetProjects/testing-bambi/.venv/lib/python3.13/site-packages/pymc/distributions/continuous.py:1600, in AsymmetricLaplace.dist(cls, kappa, mu, b, q, *args, **kwargs)\n",
    "   1597 @classmethod\n",
    "   1598 def dist(cls, kappa=None, mu=None, b=None, q=None, *args, **kwargs):\n",
    "   1599     kappa = cls.get_kappa(kappa, q)\n",
    "-> 1600     return super().dist([b, kappa, mu], *args, **kwargs)\n",
    "\n",
    "File ~/PetProjects/testing-bambi/.venv/lib/python3.13/site-packages/pymc/distributions/distribution.py:579, in Distribution.dist(cls, dist_params, shape, **kwargs)\n",
    "    575 if ndim_supp is None:\n",
    "    576     # Initialize Ops and check the ndim_supp that is now required to exist\n",
    "    577     ndim_supp = cls.rv_op(*dist_params, **kwargs).owner.op.ndim_supp\n",
    "--> 579 create_size = find_size(shape=shape, size=size, ndim_supp=ndim_supp)\n",
    "    580 rv_out = cls.rv_op(*dist_params, size=create_size, **kwargs)\n",
    "    582 _add_future_warning_tag(rv_out)\n",
    "\n",
    "File ~/PetProjects/testing-bambi/.venv/lib/python3.13/site-packages/pymc/distributions/shape_utils.py:200, in find_size(shape, size, ndim_supp)\n",
    "    198 if shape is not None:\n",
    "    199     ndim_expected = len(tuple(shape))\n",
    "--> 200     ndim_batch = ndim_expected - ndim_supp\n",
    "    201     return tuple(shape)[:ndim_batch]\n",
    "    203 return None\n",
    "\n",
    "TypeError: unsupported operand type(s) for -: 'int' and 'method'\n",
    "```"
   ]
  }
 ],
 "metadata": {
  "language_info": {
   "codemirror_mode": {
    "name": "ipython",
    "version": 3
   },
   "file_extension": ".py",
   "mimetype": "text/x-python",
   "name": "python",
   "nbconvert_exporter": "python",
   "pygments_lexer": "ipython3",
   "version": "3.13.1"
  }
 },
 "nbformat": 4,
 "nbformat_minor": 2
}
