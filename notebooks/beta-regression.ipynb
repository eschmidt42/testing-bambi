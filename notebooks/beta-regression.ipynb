{
 "cells": [
  {
   "cell_type": "markdown",
   "metadata": {},
   "source": [
    "Based on https://bambinos.github.io/bambi/notebooks/beta_regression.html"
   ]
  },
  {
   "cell_type": "code",
   "execution_count": null,
   "metadata": {},
   "outputs": [],
   "source": [
    "import arviz as az\n",
    "import bambi as bmb\n",
    "import matplotlib.pyplot as plt\n",
    "import numpy as np\n",
    "import pandas as pd\n",
    "from scipy import stats\n",
    "from scipy.special import expit"
   ]
  },
  {
   "cell_type": "code",
   "execution_count": null,
   "metadata": {},
   "outputs": [],
   "source": [
    "az.style.use(\"arviz-darkgrid\")"
   ]
  },
  {
   "cell_type": "code",
   "execution_count": null,
   "metadata": {},
   "outputs": [],
   "source": [
    "alpha = 1_000\n",
    "beta = 1_000\n",
    "p = np.random.beta(alpha, beta, size=10_000)\n",
    "az.plot_kde(p)\n",
    "plt.xlabel(\"$p$\");"
   ]
  },
  {
   "cell_type": "code",
   "execution_count": null,
   "metadata": {},
   "outputs": [],
   "source": [
    "data = pd.DataFrame({\"probabilities\": p})\n",
    "model = bmb.Model(\"probabilities ~ 1\", data, family=\"beta\")\n",
    "fitted = model.fit()"
   ]
  },
  {
   "cell_type": "code",
   "execution_count": null,
   "metadata": {},
   "outputs": [],
   "source": [
    "az.plot_trace(fitted);"
   ]
  },
  {
   "cell_type": "code",
   "execution_count": null,
   "metadata": {},
   "outputs": [],
   "source": [
    "az.summary(fitted)"
   ]
  },
  {
   "cell_type": "code",
   "execution_count": null,
   "metadata": {},
   "outputs": [],
   "source": [
    "def mukappa_to_alphabeta(mu, kappa):\n",
    "    # Calculate alpha and beta\n",
    "    alpha = mu * kappa\n",
    "    beta = (1 - mu) * kappa\n",
    "\n",
    "    # Get mean values and 95% HDIs\n",
    "    alpha_mean = alpha.mean((\"chain\", \"draw\")).item()\n",
    "    alpha_hdi = az.hdi(alpha, hdi_prob=0.95)[\"x\"].values\n",
    "    beta_mean = beta.mean((\"chain\", \"draw\")).item()\n",
    "    beta_hdi = az.hdi(beta, hdi_prob=0.95)[\"x\"].values\n",
    "\n",
    "    return alpha_mean, alpha_hdi, beta_mean, beta_hdi\n",
    "\n",
    "\n",
    "alpha, alpha_hdi, beta, beta_hdi = mukappa_to_alphabeta(\n",
    "    expit(fitted.posterior[\"Intercept\"]), fitted.posterior[\"kappa\"]\n",
    ")\n",
    "\n",
    "print(\n",
    "    f\"Alpha - mean: {np.round(alpha)}, 95% HDI: {np.round(alpha_hdi[0])} - {np.round(alpha_hdi[1])}\"\n",
    ")\n",
    "print(\n",
    "    f\"Beta - mean: {np.round(beta)}, 95% HDI: {np.round(beta_hdi[0])} - {np.round(beta_hdi[1])}\"\n",
    ")"
   ]
  },
  {
   "cell_type": "code",
   "execution_count": null,
   "metadata": {},
   "outputs": [],
   "source": [
    "effect_per_micron = 5.0\n",
    "\n",
    "# Clean Coin\n",
    "alpha = 1_000\n",
    "beta = 1_000\n",
    "p = np.random.beta(alpha, beta, size=10_000)\n",
    "\n",
    "# Add two std to tails side (heads more likely)\n",
    "p_heads = np.random.beta(alpha + 50 * effect_per_micron, beta, size=10_000)\n",
    "# Add two std to heads side (tails more likely)\n",
    "p_tails = np.random.beta(alpha - 50 * effect_per_micron, beta, size=10_000)\n",
    "\n",
    "az.plot_kde(p, label=\"Clean Coin\")\n",
    "az.plot_kde(p_heads, label=\"Biased toward heads\", plot_kwargs={\"color\": \"C1\"})\n",
    "az.plot_kde(p_tails, label=\"Biased toward tails\", plot_kwargs={\"color\": \"C2\"})\n",
    "plt.xlabel(\"$p$\")\n",
    "plt.ylim(top=plt.ylim()[1] * 1.25);"
   ]
  },
  {
   "cell_type": "code",
   "execution_count": null,
   "metadata": {},
   "outputs": [],
   "source": [
    "# Create amount of dirt on top and bottom\n",
    "heads_bias_dirt = stats.halfnorm(loc=0, scale=25).rvs(size=1_000)\n",
    "tails_bias_dirt = stats.halfnorm(loc=0, scale=25).rvs(size=1_000)\n",
    "\n",
    "# Create the probability per coin\n",
    "alpha = np.repeat(1_000, 1_000)\n",
    "alpha = (\n",
    "    alpha + effect_per_micron * heads_bias_dirt - effect_per_micron * tails_bias_dirt\n",
    ")\n",
    "beta = np.repeat(1_000, 1_000)\n",
    "\n",
    "p = np.random.beta(alpha, beta)\n",
    "\n",
    "df = pd.DataFrame(\n",
    "    {\n",
    "        \"p\": p,\n",
    "        \"heads_bias_dirt\": heads_bias_dirt.round(),\n",
    "        \"tails_bias_dirt\": tails_bias_dirt.round(),\n",
    "    }\n",
    ")\n",
    "df.head()"
   ]
  },
  {
   "cell_type": "code",
   "execution_count": null,
   "metadata": {},
   "outputs": [],
   "source": [
    "fig, ax = plt.subplots(1, 3, figsize=(16, 5))\n",
    "\n",
    "df[\"p\"].plot.kde(ax=ax[0])\n",
    "ax[0].set_xlabel(\"$p$\")\n",
    "\n",
    "df[\"heads_bias_dirt\"].plot.hist(\n",
    "    ax=ax[1], bins=np.arange(0, df[\"heads_bias_dirt\"].max())\n",
    ")\n",
    "ax[1].set_xlabel(\"Measured Dirt Biasing Toward Heads ($\\mu m$)\")\n",
    "df[\"tails_bias_dirt\"].plot.hist(\n",
    "    ax=ax[2], bins=np.arange(0, df[\"tails_bias_dirt\"].max())\n",
    ")\n",
    "ax[2].set_xlabel(\"Measured Dirt Biasing Toward Tails ($\\mu m$)\");"
   ]
  },
  {
   "cell_type": "code",
   "execution_count": null,
   "metadata": {},
   "outputs": [],
   "source": [
    "df[\"delta_d\"] = df[\"heads_bias_dirt\"] - df[\"tails_bias_dirt\"]\n",
    "dirt_model = bmb.Model(\"p ~ delta_d\", df, family=\"beta\")\n",
    "dirt_fitted = dirt_model.fit()\n",
    "dirt_model.predict(dirt_fitted, kind=\"response\")"
   ]
  },
  {
   "cell_type": "code",
   "execution_count": null,
   "metadata": {},
   "outputs": [],
   "source": [
    "az.summary(dirt_fitted)"
   ]
  },
  {
   "cell_type": "code",
   "execution_count": null,
   "metadata": {},
   "outputs": [],
   "source": [
    "az.plot_ppc(dirt_fitted);"
   ]
  },
  {
   "cell_type": "code",
   "execution_count": null,
   "metadata": {},
   "outputs": [],
   "source": [
    "mean_effect = expit(dirt_fitted.posterior.delta_d.mean())\n",
    "hdi = az.hdi(dirt_fitted.posterior.delta_d, hdi_prob=0.95)\n",
    "lower = expit(hdi.delta_d[0])\n",
    "upper = expit(hdi.delta_d[1])\n",
    "print(f\"Mean effect: {mean_effect.item():.4f}\")\n",
    "print(f\"95% interval {lower.item():.4f} - {upper.item():.4f}\")"
   ]
  },
  {
   "cell_type": "code",
   "execution_count": null,
   "metadata": {},
   "outputs": [],
   "source": [
    "batting = bmb.load_data(\"batting\")"
   ]
  },
  {
   "cell_type": "code",
   "execution_count": null,
   "metadata": {},
   "outputs": [],
   "source": [
    "batting[\"batting_avg\"] = batting[\"H\"] / batting[\"AB\"]\n",
    "batting = batting[batting[\"AB\"] > 100]\n",
    "df = batting[(batting[\"yearID\"] > 1990) & (batting[\"yearID\"] < 2018)]"
   ]
  },
  {
   "cell_type": "code",
   "execution_count": null,
   "metadata": {},
   "outputs": [],
   "source": [
    "df.batting_avg.hist(bins=30)\n",
    "plt.xlabel(\"Batting Average\")\n",
    "plt.ylabel(\"Count\");"
   ]
  },
  {
   "cell_type": "code",
   "execution_count": null,
   "metadata": {},
   "outputs": [],
   "source": [
    "model_avg = bmb.Model(\"batting_avg ~ 1\", df, family=\"beta\")\n",
    "avg_fitted = model_avg.fit()"
   ]
  },
  {
   "cell_type": "code",
   "execution_count": null,
   "metadata": {},
   "outputs": [],
   "source": [
    "az.summary(avg_fitted)"
   ]
  },
  {
   "cell_type": "code",
   "execution_count": null,
   "metadata": {},
   "outputs": [],
   "source": [
    "posterior_predictive = model_avg.predict(avg_fitted, kind=\"response\")"
   ]
  },
  {
   "cell_type": "code",
   "execution_count": null,
   "metadata": {},
   "outputs": [],
   "source": [
    "az.plot_ppc(avg_fitted);"
   ]
  },
  {
   "cell_type": "code",
   "execution_count": null,
   "metadata": {},
   "outputs": [],
   "source": [
    "# Add the player's batting average in the n-1 year\n",
    "batting[\"batting_avg_shift\"] = np.where(\n",
    "    batting[\"playerID\"] == batting[\"playerID\"].shift(),\n",
    "    batting[\"batting_avg\"].shift(),\n",
    "    np.nan,\n",
    ")\n",
    "df_shift = batting[(batting[\"yearID\"] > 1990) & (batting[\"yearID\"] < 2018)]\n",
    "df_shift = df_shift[~df_shift[\"batting_avg_shift\"].isna()]\n",
    "df_shift[[\"batting_avg_shift\", \"batting_avg\"]].corr()"
   ]
  },
  {
   "cell_type": "code",
   "execution_count": null,
   "metadata": {},
   "outputs": [],
   "source": [
    "model_avg = bmb.Model(\"batting_avg ~ 1\", df_shift, family=\"beta\")\n",
    "avg_fitted = model_avg.fit(idata_kwargs={\"log_likelihood\": True})\n",
    "\n",
    "model_lag = bmb.Model(\"batting_avg ~ batting_avg_shift\", df_shift, family=\"beta\")\n",
    "lag_fitted = model_lag.fit(idata_kwargs={\"log_likelihood\": True})"
   ]
  },
  {
   "cell_type": "code",
   "execution_count": null,
   "metadata": {},
   "outputs": [],
   "source": [
    "az.summary(lag_fitted)"
   ]
  },
  {
   "cell_type": "code",
   "execution_count": null,
   "metadata": {},
   "outputs": [],
   "source": [
    "az.compare({\"intercept-only\": avg_fitted, \"lag-model\": lag_fitted})"
   ]
  },
  {
   "cell_type": "code",
   "execution_count": null,
   "metadata": {},
   "outputs": [],
   "source": [
    "ppc = model_lag.predict(lag_fitted, kind=\"response\")\n",
    "az.plot_ppc(lag_fitted);"
   ]
  },
  {
   "cell_type": "code",
   "execution_count": null,
   "metadata": {},
   "outputs": [],
   "source": [
    "mean_effect = lag_fitted.posterior.batting_avg_shift.mean().item()\n",
    "hdi = az.hdi(lag_fitted.posterior.batting_avg_shift, hdi_prob=0.95)\n",
    "\n",
    "lower = expit(hdi.batting_avg_shift[0]).item()\n",
    "upper = expit(hdi.batting_avg_shift[1]).item()\n",
    "print(f\"Mean effect: {expit(mean_effect):.4f}\")\n",
    "print(f\"95% interval {lower:.4f} - {upper:.4f}\")"
   ]
  },
  {
   "cell_type": "code",
   "execution_count": null,
   "metadata": {},
   "outputs": [],
   "source": [
    "az.plot_hdi(\n",
    "    df_shift.batting_avg_shift,\n",
    "    lag_fitted.posterior_predictive.batting_avg,\n",
    "    hdi_prob=0.95,\n",
    "    color=\"goldenrod\",\n",
    "    fill_kwargs={\"alpha\": 0.8},\n",
    ")\n",
    "az.plot_hdi(\n",
    "    df_shift.batting_avg_shift,\n",
    "    lag_fitted.posterior_predictive.batting_avg,\n",
    "    hdi_prob=0.68,\n",
    "    color=\"forestgreen\",\n",
    "    fill_kwargs={\"alpha\": 0.8},\n",
    ")\n",
    "\n",
    "intercept = lag_fitted.posterior.Intercept.values.mean()\n",
    "x = np.linspace(df_shift.batting_avg_shift.min(), df_shift.batting_avg_shift.max(), 100)\n",
    "linear = mean_effect * x + intercept\n",
    "plt.plot(x, expit(linear), c=\"black\")\n",
    "plt.xlabel(\"Previous Year's Batting Average\")\n",
    "plt.ylabel(\"Batting Average\");"
   ]
  },
  {
   "cell_type": "code",
   "execution_count": null,
   "metadata": {},
   "outputs": [],
   "source": []
  }
 ],
 "metadata": {
  "language_info": {
   "codemirror_mode": {
    "name": "ipython",
    "version": 3
   },
   "file_extension": ".py",
   "mimetype": "text/x-python",
   "name": "python",
   "nbconvert_exporter": "python",
   "pygments_lexer": "ipython3",
   "version": "3.13.1"
  }
 },
 "nbformat": 4,
 "nbformat_minor": 2
}
