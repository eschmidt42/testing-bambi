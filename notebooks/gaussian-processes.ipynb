{
 "cells": [
  {
   "cell_type": "markdown",
   "metadata": {},
   "source": [
    "Based on https://bambinos.github.io/bambi/notebooks/hsgp_1d.html"
   ]
  },
  {
   "cell_type": "code",
   "execution_count": null,
   "metadata": {},
   "outputs": [],
   "source": [
    "from formulae import design_matrices\n",
    "\n",
    "import arviz as az\n",
    "import bambi as bmb\n",
    "import matplotlib.pyplot as plt\n",
    "import numpy as np\n",
    "import pandas as pd\n",
    "\n",
    "from bambi.interpret import plot_predictions\n",
    "from matplotlib.lines import Line2D\n",
    "from pathlib import Path\n",
    "from data_utils import download_single_csv"
   ]
  },
  {
   "cell_type": "code",
   "execution_count": null,
   "metadata": {},
   "outputs": [],
   "source": [
    "rng = np.random.default_rng(seed=121195)\n",
    "\n",
    "size = 100\n",
    "x = np.linspace(0, 50, size)\n",
    "b = 0.1 * rng.normal(size=6)\n",
    "sigma = 0.15\n",
    "\n",
    "dm = design_matrices(\"0 + bs(x, df=6, intercept=True)\", pd.DataFrame({\"x\": x}))\n",
    "X = np.array(dm.common)\n",
    "f = 10 * X @ b\n",
    "y = f + rng.normal(size=size) * sigma\n",
    "df = pd.DataFrame({\"x\": x, \"y\": y})\n",
    "\n",
    "fig, ax = plt.subplots(figsize=(9, 6))\n",
    "ax.scatter(x, y, s=30, alpha=0.8)\n",
    "ax.plot(x, f, color=\"black\");"
   ]
  },
  {
   "cell_type": "code",
   "execution_count": null,
   "metadata": {},
   "outputs": [],
   "source": [
    "model = bmb.Model(\"y ~ 0 + hsgp(x, m=10, c=2)\", df)\n",
    "model"
   ]
  },
  {
   "cell_type": "code",
   "execution_count": null,
   "metadata": {},
   "outputs": [],
   "source": [
    "idata = model.fit(random_seed=121195)\n",
    "print(idata.sample_stats[\"diverging\"].sum().to_numpy())"
   ]
  },
  {
   "cell_type": "code",
   "execution_count": null,
   "metadata": {},
   "outputs": [],
   "source": [
    "az.plot_trace(idata, backend_kwargs={\"layout\": \"constrained\"});"
   ]
  },
  {
   "cell_type": "code",
   "execution_count": null,
   "metadata": {},
   "outputs": [],
   "source": [
    "prior_hsgp = {\n",
    "    \"sigma\": bmb.Prior(\"Exponential\", lam=2),  # amplitude\n",
    "    \"ell\": bmb.Prior(\"InverseGamma\", mu=10, sigma=1),  # lengthscale\n",
    "}\n",
    "\n",
    "# This is the dictionary we pass to Bambi\n",
    "priors = {\"hsgp(x, m=10, c=2)\": prior_hsgp, \"sigma\": bmb.Prior(\"HalfNormal\", sigma=10)}\n",
    "model = bmb.Model(\"y ~ 0 + hsgp(x, m=10, c=2)\", df, priors=priors)\n",
    "model"
   ]
  },
  {
   "cell_type": "code",
   "execution_count": null,
   "metadata": {},
   "outputs": [],
   "source": [
    "idata = model.fit(random_seed=121195)\n",
    "print(idata.sample_stats[\"diverging\"].sum().to_numpy())"
   ]
  },
  {
   "cell_type": "code",
   "execution_count": null,
   "metadata": {},
   "outputs": [],
   "source": [
    "az.plot_trace(idata, backend_kwargs={\"layout\": \"constrained\"});"
   ]
  },
  {
   "cell_type": "code",
   "execution_count": null,
   "metadata": {},
   "outputs": [],
   "source": [
    "prior_hsgp = {\n",
    "    \"sigma\": bmb.Prior(\"Exponential\", lam=2),  # amplitude\n",
    "    \"ell\": bmb.Prior(\"InverseGamma\", mu=10, sigma=1),  # lengthscale\n",
    "}\n",
    "\n",
    "# This is the dictionary we pass to Bambi\n",
    "priors = {\n",
    "    \"hsgp(x, m=10, c=2, centered=True)\": prior_hsgp,\n",
    "    \"sigma\": bmb.Prior(\"HalfNormal\", sigma=10),\n",
    "}\n",
    "model = bmb.Model(\"y ~ 0 + hsgp(x, m=10, c=2, centered=True)\", df, priors=priors)\n",
    "model"
   ]
  },
  {
   "cell_type": "code",
   "execution_count": null,
   "metadata": {},
   "outputs": [],
   "source": [
    "idata = model.fit(random_seed=121195)\n",
    "print(idata.sample_stats[\"diverging\"].sum().to_numpy())"
   ]
  },
  {
   "cell_type": "code",
   "execution_count": null,
   "metadata": {},
   "outputs": [],
   "source": [
    "az.plot_trace(idata, backend_kwargs={\"layout\": \"constrained\"});"
   ]
  },
  {
   "cell_type": "code",
   "execution_count": null,
   "metadata": {},
   "outputs": [],
   "source": [
    "fig, ax = plt.subplots(figsize=(9, 6))\n",
    "ax.scatter(df[\"x\"], df[\"y\"], s=30, color=\"0.5\", alpha=0.5)\n",
    "plot_predictions(model, idata, \"x\", ax=ax)\n",
    "ax.set(xlabel=\"Predictor\", ylabel=\"Observed\");"
   ]
  },
  {
   "cell_type": "code",
   "execution_count": null,
   "metadata": {},
   "outputs": [],
   "source": [
    "new_data = pd.DataFrame({\"x\": np.linspace(0, 50, num=500)})\n",
    "model.predict(idata, kind=\"response\", data=new_data)\n",
    "pps = idata.posterior_predictive[\"y\"].to_numpy().reshape(2000, 500)\n",
    "qts = np.quantile(pps, q=(0.025, 0.975), axis=0)\n",
    "\n",
    "fig, ax = plt.subplots(figsize=(9, 6))\n",
    "ax.fill_between(new_data[\"x\"], qts[0], qts[1], color=\"C0\", alpha=0.6)\n",
    "ax.scatter(df[\"x\"], df[\"y\"], s=30, color=\"C1\", alpha=0.9)\n",
    "ax.plot(x, f, color=\"black\", ls=\"--\")\n",
    "ax.set(xlabel=\"Predictor\", ylabel=\"Observed\")\n",
    "handles = [Line2D([], [], color=\"black\", ls=\"--\"), Line2D([], [], color=\"C0\")]\n",
    "labels = [\"True curve\", \"Posterior predictive distribution\"]\n",
    "ax.legend(handles, labels);"
   ]
  },
  {
   "cell_type": "markdown",
   "metadata": {},
   "source": [
    "above cell errors with `ValueError: cannot reshape array of size 2000000 into shape (2000,500)`"
   ]
  },
  {
   "cell_type": "code",
   "execution_count": null,
   "metadata": {},
   "outputs": [],
   "source": [
    "download_single_csv(Path(\"./data\"), \"gam_data.csv\")"
   ]
  },
  {
   "cell_type": "code",
   "execution_count": null,
   "metadata": {},
   "outputs": [],
   "source": [
    "data = pd.read_csv(\"data/gam_data.csv\")\n",
    "data[\"fac\"] = pd.Categorical(data[\"fac\"])\n",
    "data.head()[[\"x2\", \"y\", \"fac\"]]"
   ]
  },
  {
   "cell_type": "code",
   "execution_count": null,
   "metadata": {},
   "outputs": [],
   "source": [
    "fig, ax = plt.subplots(figsize=(9, 5))\n",
    "colors = [f\"C{i}\" for i in pd.Categorical(data[\"fac\"]).codes]\n",
    "ax.scatter(data[\"x2\"], data[\"y\"], color=colors, alpha=0.6)\n",
    "ax.set(xlabel=\"x2\", ylabel=\"y\");"
   ]
  },
  {
   "cell_type": "code",
   "execution_count": null,
   "metadata": {},
   "outputs": [],
   "source": [
    "prior_hsgp = {\n",
    "    \"sigma\": bmb.Prior(\"Exponential\", lam=3),\n",
    "    \"ell\": bmb.Prior(\"Exponential\", lam=3),\n",
    "}\n",
    "priors = {\n",
    "    \"hsgp(x2, by=fac, m=12, c=1.5)\": prior_hsgp,\n",
    "    \"sigma\": bmb.Prior(\"HalfNormal\", sigma=1),\n",
    "}\n",
    "model = bmb.Model(\"y ~ 0 + hsgp(x2, by=fac, m=12, c=1.5)\", data, priors=priors)\n",
    "model.set_alias({\"hsgp(x2, by=fac, m=12, c=1.5)\": \"hsgp\"})\n",
    "model"
   ]
  },
  {
   "cell_type": "code",
   "execution_count": null,
   "metadata": {},
   "outputs": [],
   "source": [
    "model.build()\n",
    "model.graph()"
   ]
  },
  {
   "cell_type": "code",
   "execution_count": null,
   "metadata": {},
   "outputs": [],
   "source": [
    "idata = model.fit(target_accept=0.95, random_seed=121195)\n",
    "print(idata.sample_stats.diverging.sum().item())"
   ]
  },
  {
   "cell_type": "code",
   "execution_count": null,
   "metadata": {},
   "outputs": [],
   "source": [
    "az.plot_trace(\n",
    "    idata,\n",
    "    var_names=[\"hsgp_weights\", \"hsgp_sigma\", \"hsgp_ell\", \"sigma\"],\n",
    "    backend_kwargs={\"layout\": \"constrained\"},\n",
    ");"
   ]
  },
  {
   "cell_type": "code",
   "execution_count": null,
   "metadata": {},
   "outputs": [],
   "source": [
    "fig, ax = plt.subplots(figsize=(9, 5))\n",
    "colors = [f\"C{i}\" for i in pd.Categorical(data[\"fac\"]).codes]\n",
    "ax.scatter(data[\"x2\"], data[\"y\"], color=colors, alpha=0.6)\n",
    "plot_predictions(model, idata, [\"x2\", \"fac\"], ax=ax);"
   ]
  },
  {
   "cell_type": "code",
   "execution_count": null,
   "metadata": {},
   "outputs": [],
   "source": [
    "prior_hsgp = {\n",
    "    \"sigma\": bmb.Prior(\"Exponential\", lam=1),\n",
    "    \"ell\": bmb.Prior(\"Exponential\", lam=3),\n",
    "}\n",
    "priors = {\n",
    "    \"hsgp(x2, by=fac, m=12, c=1.5, share_cov=False)\": prior_hsgp,\n",
    "    \"sigma\": bmb.Prior(\"HalfNormal\", sigma=1),\n",
    "}\n",
    "model = bmb.Model(\n",
    "    \"y ~ 0 + hsgp(x2, by=fac, m=12, c=1.5, share_cov=False)\", data, priors=priors\n",
    ")\n",
    "model.set_alias({\"hsgp(x2, by=fac, m=12, c=1.5, share_cov=False)\": \"hsgp\"})\n",
    "model"
   ]
  },
  {
   "cell_type": "code",
   "execution_count": null,
   "metadata": {},
   "outputs": [],
   "source": [
    "model.build()\n",
    "model.graph()"
   ]
  },
  {
   "cell_type": "code",
   "execution_count": null,
   "metadata": {},
   "outputs": [],
   "source": [
    "idata = model.fit(target_accept=0.95, random_seed=121195)"
   ]
  },
  {
   "cell_type": "code",
   "execution_count": null,
   "metadata": {},
   "outputs": [],
   "source": [
    "az.plot_trace(\n",
    "    idata,\n",
    "    var_names=[\"hsgp_ell\", \"hsgp_sigma\", \"sigma\"],\n",
    "    backend_kwargs={\"layout\": \"constrained\"},\n",
    ");"
   ]
  },
  {
   "cell_type": "code",
   "execution_count": null,
   "metadata": {},
   "outputs": [],
   "source": [
    "az.plot_trace(\n",
    "    idata, var_names=[\"hsgp_weights\"], backend_kwargs={\"layout\": \"constrained\"}\n",
    ");"
   ]
  },
  {
   "cell_type": "code",
   "execution_count": null,
   "metadata": {},
   "outputs": [],
   "source": [
    "basis_n = 6\n",
    "fig, axes = plt.subplots(3, 1, figsize=(7, 10))\n",
    "for i in range(3):\n",
    "    ax = axes[i]\n",
    "    values = idata.posterior[\"hsgp_weights\"].sel({\"hsgp_by\": i + 1})\n",
    "    for j in range(basis_n):\n",
    "        az.plot_kde(\n",
    "            values.sel({\"hsgp_weights_dim\": j}).to_numpy().flatten(),\n",
    "            ax=ax,\n",
    "            plot_kwargs={\"color\": f\"C{j}\"},\n",
    "        )"
   ]
  },
  {
   "cell_type": "code",
   "execution_count": null,
   "metadata": {},
   "outputs": [],
   "source": [
    "basis_n = 9\n",
    "fig, axes = plt.subplots(3, 1, figsize=(7, 10))\n",
    "for i in range(3):\n",
    "    ax = axes[i]\n",
    "    values = idata.posterior[\"hsgp_weights\"].sel({\"hsgp_by\": i + 1})\n",
    "    for j in range(basis_n):\n",
    "        az.plot_kde(\n",
    "            values.sel({\"hsgp_weights_dim\": j}).to_numpy().flatten(),\n",
    "            ax=ax,\n",
    "            plot_kwargs={\"color\": f\"C{j}\"},\n",
    "        )"
   ]
  },
  {
   "cell_type": "code",
   "execution_count": null,
   "metadata": {},
   "outputs": [],
   "source": [
    "basis_n = 9\n",
    "fig, axes = plt.subplots(3, 1, figsize=(7, 10))\n",
    "for i in range(3):\n",
    "    ax = axes[i]\n",
    "    values = idata.posterior[\"hsgp_weights\"].sel({\"hsgp_by\": i + 1})\n",
    "    for j in range(basis_n):\n",
    "        az.plot_kde(\n",
    "            values.sel({\"hsgp_weights_dim\": j}).to_numpy().flatten(),\n",
    "            ax=ax,\n",
    "            plot_kwargs={\"color\": f\"C{j}\"},\n",
    "        )"
   ]
  },
  {
   "cell_type": "code",
   "execution_count": null,
   "metadata": {},
   "outputs": [],
   "source": []
  }
 ],
 "metadata": {
  "language_info": {
   "codemirror_mode": {
    "name": "ipython",
    "version": 3
   },
   "file_extension": ".py",
   "mimetype": "text/x-python",
   "name": "python",
   "nbconvert_exporter": "python",
   "pygments_lexer": "ipython3",
   "version": "3.13.1"
  }
 },
 "nbformat": 4,
 "nbformat_minor": 2
}
