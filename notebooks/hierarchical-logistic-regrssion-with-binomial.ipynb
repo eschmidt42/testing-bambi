{
 "cells": [
  {
   "cell_type": "markdown",
   "metadata": {},
   "source": [
    "Based on https://bambinos.github.io/bambi/notebooks/hierarchical_binomial_bambi.html"
   ]
  },
  {
   "cell_type": "code",
   "execution_count": null,
   "metadata": {},
   "outputs": [],
   "source": [
    "import arviz as az\n",
    "import bambi as bmb\n",
    "import matplotlib.pyplot as plt\n",
    "import numpy as np\n",
    "\n",
    "from matplotlib.lines import Line2D\n",
    "from matplotlib.patches import Patch"
   ]
  },
  {
   "cell_type": "code",
   "execution_count": null,
   "metadata": {},
   "outputs": [],
   "source": [
    "random_seed = 1234"
   ]
  },
  {
   "cell_type": "code",
   "execution_count": null,
   "metadata": {},
   "outputs": [],
   "source": [
    "df = bmb.load_data(\"batting\")\n",
    "\n",
    "# Then clean some of the data\n",
    "df[\"AB\"] = df[\"AB\"].replace(0, np.nan)\n",
    "df = df.dropna()\n",
    "df[\"batting_avg\"] = df[\"H\"] / df[\"AB\"]\n",
    "df = df[df[\"yearID\"] >= 2016]\n",
    "df = df.iloc[0:15]\n",
    "df.head(5)"
   ]
  },
  {
   "cell_type": "code",
   "execution_count": null,
   "metadata": {},
   "outputs": [],
   "source": [
    "BLUE = \"#2a5674\"\n",
    "RED = \"#b13f64\""
   ]
  },
  {
   "cell_type": "code",
   "execution_count": null,
   "metadata": {},
   "outputs": [],
   "source": [
    "_, ax = plt.subplots(figsize=(10, 6))\n",
    "\n",
    "# Customize x limits.\n",
    "# This adds space on the left side to indicate percentage of hits.\n",
    "ax.set_xlim(-120, 320)\n",
    "\n",
    "# Add dots for the the number of hits and the times at bat\n",
    "ax.scatter(df[\"H\"], list(range(15)), s=140, color=RED, zorder=10)\n",
    "ax.scatter(df[\"AB\"], list(range(15)), s=140, color=BLUE, zorder=10)\n",
    "\n",
    "# Also a line connecting them\n",
    "ax.hlines(list(range(15)), df[\"H\"], df[\"AB\"], color=\"#b3b3b3\", lw=4)\n",
    "\n",
    "ax.axvline(ls=\"--\", lw=1.4, color=\"#a3a3a3\")\n",
    "ax.hlines(list(range(15)), -110, -50, lw=6, color=\"#b3b3b3\", capstyle=\"round\")\n",
    "ax.scatter(60 * df[\"batting_avg\"] - 110, list(range(15)), s=28, color=RED, zorder=10)\n",
    "\n",
    "# Add the percentage of hits\n",
    "for j in range(15):\n",
    "    text = f\"{round(df['batting_avg'].iloc[j] * 100)}%\"\n",
    "    ax.text(-12, j, text, ha=\"right\", va=\"center\", fontsize=14, color=\"#333\")\n",
    "\n",
    "# Customize tick positions and labels\n",
    "ax.yaxis.set_ticks(list(range(15)))\n",
    "ax.yaxis.set_ticklabels(df[\"playerID\"])\n",
    "ax.xaxis.set_ticks(range(0, 400, 100))\n",
    "\n",
    "# Create handles for the legend (just dots and labels)\n",
    "handles = [\n",
    "    Line2D(\n",
    "        [0],\n",
    "        [0],\n",
    "        label=\"Hits\",\n",
    "        marker=\"o\",\n",
    "        color=\"None\",\n",
    "        markeredgewidth=0,\n",
    "        markerfacecolor=RED,\n",
    "        markersize=13,\n",
    "    ),\n",
    "    Line2D(\n",
    "        [0],\n",
    "        [0],\n",
    "        label=\"At Bat\",\n",
    "        marker=\"o\",\n",
    "        color=\"None\",\n",
    "        markeredgewidth=0,\n",
    "        markerfacecolor=BLUE,\n",
    "        markersize=12,\n",
    "    ),\n",
    "]\n",
    "\n",
    "# Add legend on top-right corner\n",
    "legend = ax.legend(handles=handles, loc=1, fontsize=14, handletextpad=0.4, frameon=True)\n",
    "\n",
    "# Finally add labels and a title\n",
    "ax.set_xlabel(\"Count\", fontsize=14)\n",
    "ax.set_ylabel(\"Player\", fontsize=14)\n",
    "ax.set_title(\"How often do batters hit the ball?\", fontsize=20);"
   ]
  },
  {
   "cell_type": "code",
   "execution_count": null,
   "metadata": {},
   "outputs": [],
   "source": [
    "model_non_hierarchical = bmb.Model(\"p(H, AB) ~ 0 + playerID\", df, family=\"binomial\")\n",
    "model_non_hierarchical"
   ]
  },
  {
   "cell_type": "code",
   "execution_count": null,
   "metadata": {},
   "outputs": [],
   "source": [
    "idata_non_hierarchical = model_non_hierarchical.fit(random_seed=random_seed)"
   ]
  },
  {
   "cell_type": "code",
   "execution_count": null,
   "metadata": {},
   "outputs": [],
   "source": [
    "az.plot_trace(\n",
    "    idata_non_hierarchical, compact=False, backend_kwargs={\"layout\": \"constrained\"}\n",
    ");"
   ]
  },
  {
   "cell_type": "code",
   "execution_count": null,
   "metadata": {},
   "outputs": [],
   "source": [
    "model_hierarchical = bmb.Model(\"p(H, AB) ~ 1 + (1|playerID)\", df, family=\"binomial\")\n",
    "model_hierarchical"
   ]
  },
  {
   "cell_type": "code",
   "execution_count": null,
   "metadata": {},
   "outputs": [],
   "source": [
    "idata_hierarchical = model_hierarchical.fit(random_seed=random_seed)"
   ]
  },
  {
   "cell_type": "code",
   "execution_count": null,
   "metadata": {},
   "outputs": [],
   "source": [
    "idata_prior = model_hierarchical.prior_predictive()\n",
    "prior = az.extract_dataset(idata_prior, group=\"prior_predictive\")[\"p(H, AB)\"]"
   ]
  },
  {
   "cell_type": "code",
   "execution_count": null,
   "metadata": {},
   "outputs": [],
   "source": [
    "# We define this function because this plot is going to be repeated below.\n",
    "def plot_prior_predictive(df, prior):\n",
    "    AB = df[\"AB\"].values\n",
    "    H = df[\"H\"].values\n",
    "\n",
    "    fig, axes = plt.subplots(5, 3, figsize=(10, 6), sharex=\"col\")\n",
    "\n",
    "    for idx, ax in enumerate(axes.ravel()):\n",
    "        pps = prior.sel({\"__obs__\": idx})\n",
    "        ab = AB[idx]\n",
    "        h = H[idx]\n",
    "        hist = ax.hist(pps / ab, bins=25, color=\"#a3a3a3\")\n",
    "        ax.axvline(h / ab, color=RED, lw=2)\n",
    "        ax.set_yticks([])\n",
    "        ax.tick_params(labelsize=12)\n",
    "\n",
    "    fig.subplots_adjust(left=0.025, right=0.975, hspace=0.05, wspace=0.05, bottom=0.125)\n",
    "    fig.legend(\n",
    "        handles=[Line2D([0], [0], label=\"Observed proportion\", color=RED, linewidth=2)],\n",
    "        handlelength=1.5,\n",
    "        handletextpad=0.8,\n",
    "        borderaxespad=0,\n",
    "        frameon=True,\n",
    "        fontsize=11,\n",
    "        bbox_to_anchor=(0.975, 0.92),\n",
    "        loc=\"right\",\n",
    "    )\n",
    "    fig.text(\n",
    "        0.5,\n",
    "        0.05,\n",
    "        \"Prior probability of hitting\",\n",
    "        fontsize=15,\n",
    "        ha=\"center\",\n",
    "        va=\"baseline\",\n",
    "    )"
   ]
  },
  {
   "cell_type": "code",
   "execution_count": null,
   "metadata": {},
   "outputs": [],
   "source": [
    "plot_prior_predictive(df, prior)"
   ]
  },
  {
   "cell_type": "code",
   "execution_count": null,
   "metadata": {},
   "outputs": [],
   "source": [
    "priors = {\n",
    "    \"Intercept\": bmb.Prior(\"Normal\", mu=0, sigma=1),\n",
    "    \"1|playerID\": bmb.Prior(\"Normal\", mu=0, sigma=bmb.Prior(\"HalfNormal\", sigma=1)),\n",
    "}\n",
    "model_hierarchical = bmb.Model(\n",
    "    \"p(H, AB) ~ 1 + (1|playerID)\", df, family=\"binomial\", priors=priors\n",
    ")\n",
    "model_hierarchical"
   ]
  },
  {
   "cell_type": "code",
   "execution_count": null,
   "metadata": {},
   "outputs": [],
   "source": [
    "model_hierarchical.build()\n",
    "idata_prior = model_hierarchical.prior_predictive()\n",
    "prior = az.extract_dataset(idata_prior, group=\"prior_predictive\")[\"p(H, AB)\"]\n",
    "plot_prior_predictive(df, prior)"
   ]
  },
  {
   "cell_type": "code",
   "execution_count": null,
   "metadata": {},
   "outputs": [],
   "source": [
    "idata_hierarchical = model_hierarchical.fit(random_seed=random_seed)"
   ]
  },
  {
   "cell_type": "code",
   "execution_count": null,
   "metadata": {},
   "outputs": [],
   "source": [
    "idata_hierarchical = model_hierarchical.fit(\n",
    "    tune=2000, draws=2000, target_accept=0.95, random_seed=random_seed\n",
    ")"
   ]
  },
  {
   "cell_type": "code",
   "execution_count": null,
   "metadata": {},
   "outputs": [],
   "source": [
    "var_names = [\"Intercept\", \"1|playerID\", \"1|playerID_sigma\"]\n",
    "az.plot_trace(\n",
    "    idata_hierarchical,\n",
    "    var_names=var_names,\n",
    "    compact=False,\n",
    "    backend_kwargs={\"layout\": \"constrained\"},\n",
    ");"
   ]
  },
  {
   "cell_type": "code",
   "execution_count": null,
   "metadata": {},
   "outputs": [],
   "source": [
    "model_non_hierarchical.predict(idata_non_hierarchical)\n",
    "model_hierarchical.predict(idata_hierarchical)"
   ]
  },
  {
   "cell_type": "code",
   "execution_count": null,
   "metadata": {},
   "outputs": [],
   "source": [
    "_, ax = plt.subplots(figsize=(8, 8))\n",
    "\n",
    "# Add vertical line for the global probability of hitting\n",
    "ax.axvline(x=(df[\"H\"] / df[\"AB\"]).mean(), ls=\"--\", color=\"black\", alpha=0.5)\n",
    "\n",
    "# Create forestplot with ArviZ, only for the mean.\n",
    "az.plot_forest(\n",
    "    [idata_non_hierarchical, idata_hierarchical],\n",
    "    var_names=\"p\",\n",
    "    combined=True,\n",
    "    colors=[\"#666666\", RED],\n",
    "    linewidth=2.6,\n",
    "    markersize=8,\n",
    "    ax=ax,\n",
    ")\n",
    "\n",
    "# Create custom y axis tick labels\n",
    "ylabels = [\n",
    "    f\"H: {round(h)}, AB: {round(ab)}\" for h, ab in zip(df[\"H\"].values, df[\"AB\"].values)\n",
    "]\n",
    "ylabels = list(reversed(ylabels))\n",
    "\n",
    "# Put the labels for the y axis in the mid of the original location of the tick marks.\n",
    "ax.set_yticklabels(ylabels, ha=\"right\")\n",
    "\n",
    "# Create legend\n",
    "handles = [\n",
    "    Patch(label=\"Non-hierarchical\", facecolor=\"#666666\"),\n",
    "    Patch(label=\"Hierarchical\", facecolor=RED),\n",
    "    Line2D([0], [0], label=\"Mean probability\", ls=\"--\", color=\"black\", alpha=0.5),\n",
    "]\n",
    "\n",
    "legend = ax.legend(handles=handles, loc=4, fontsize=14, frameon=True, framealpha=0.8);"
   ]
  },
  {
   "cell_type": "code",
   "execution_count": null,
   "metadata": {},
   "outputs": [],
   "source": []
  }
 ],
 "metadata": {
  "language_info": {
   "codemirror_mode": {
    "name": "ipython",
    "version": 3
   },
   "file_extension": ".py",
   "mimetype": "text/x-python",
   "name": "python",
   "nbconvert_exporter": "python",
   "pygments_lexer": "ipython3",
   "version": "3.13.1"
  }
 },
 "nbformat": 4,
 "nbformat_minor": 2
}
