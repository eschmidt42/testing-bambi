{
 "cells": [
  {
   "cell_type": "markdown",
   "metadata": {},
   "source": [
    "Based on https://bambinos.github.io/bambi/notebooks/polynomial_regression.html"
   ]
  },
  {
   "cell_type": "code",
   "execution_count": null,
   "metadata": {},
   "outputs": [],
   "source": [
    "import arviz as az\n",
    "import bambi as bmb\n",
    "import matplotlib.pyplot as plt\n",
    "import numpy as np\n",
    "import pandas as pd\n",
    "\n",
    "plt.style.use(\"arviz-darkgrid\")\n",
    "SEED = 1234"
   ]
  },
  {
   "cell_type": "code",
   "execution_count": null,
   "metadata": {},
   "outputs": [],
   "source": [
    "# Temporary fix to make outputs cleaner\n",
    "import warnings\n",
    "\n",
    "warnings.filterwarnings(\"ignore\")"
   ]
  },
  {
   "cell_type": "code",
   "execution_count": null,
   "metadata": {},
   "outputs": [],
   "source": [
    "g = -9.81  # acceleration due to gravity (m/s^2)\n",
    "t = np.linspace(0, 2, 100)  # time in seconds\n",
    "inital_height = 50\n",
    "x_falling = 0.5 * g * t**2 + inital_height\n",
    "\n",
    "rng = np.random.default_rng(SEED)\n",
    "noise = rng.normal(0, 0.3, x_falling.shape)\n",
    "x_obs_falling = x_falling + noise\n",
    "df_falling = pd.DataFrame({\"t\": t, \"x\": x_obs_falling})\n",
    "\n",
    "fig, ax = plt.subplots(figsize=(10, 6))\n",
    "ax.scatter(t, x_obs_falling, label=\"Observed Displacement\", color=\"C0\")\n",
    "ax.plot(t, x_falling, label=\"True Function\", color=\"C1\")\n",
    "ax.set(xlabel=\"Time (s)\", ylabel=\"Displacement (m)\")\n",
    "ax.legend();"
   ]
  },
  {
   "cell_type": "code",
   "execution_count": null,
   "metadata": {},
   "outputs": [],
   "source": [
    "model_falling = bmb.Model(\"x ~ I(t**2) + 1\", df_falling)\n",
    "results_falling = model_falling.fit(\n",
    "    idata_kwargs={\"log_likelihood\": True}, random_seed=SEED\n",
    ")"
   ]
  },
  {
   "cell_type": "code",
   "execution_count": null,
   "metadata": {},
   "outputs": [],
   "source": [
    "model_falling_variation1 = bmb.Model(\n",
    "    \"x ~ {t**2} + 1\",  # Using {t**2} syntax\n",
    "    df_falling,\n",
    ")\n",
    "results_variation1 = model_falling_variation1.fit(random_seed=SEED)\n",
    "\n",
    "model_falling_variation2 = bmb.Model(\n",
    "    \"x ~ tsquared + 1\",  # Using data with the t variable squared\n",
    "    df_falling.assign(\n",
    "        tsquared=t**2\n",
    "    ),  # Creating the tsquared variable for use in the formula\n",
    ")\n",
    "results_variation2 = model_falling_variation2.fit(random_seed=SEED)\n",
    "\n",
    "print(\n",
    "    \"I{t**2} coefficient: \",\n",
    "    round(results_falling.posterior[\"I(t ** 2)\"].values.mean(), 4),\n",
    ")\n",
    "print(\n",
    "    \"{t**2} coefficient: \",\n",
    "    round(results_variation1.posterior[\"I(t ** 2)\"].values.mean(), 4),\n",
    ")\n",
    "print(\n",
    "    \"tsquared coefficient: \",\n",
    "    round(results_variation2.posterior[\"tsquared\"].values.mean(), 4),\n",
    ")"
   ]
  },
  {
   "cell_type": "code",
   "execution_count": null,
   "metadata": {},
   "outputs": [],
   "source": [
    "az.summary(results_falling)"
   ]
  },
  {
   "cell_type": "code",
   "execution_count": null,
   "metadata": {},
   "outputs": [],
   "source": [
    "calculated_x0 = results_falling.posterior[\"Intercept\"].values.mean()\n",
    "calculated_g = -2 * results_falling.posterior[\"I(t ** 2)\"].values.mean()\n",
    "calculated_land = np.sqrt(2 * calculated_x0 / calculated_g)\n",
    "print(f\"The ball will land at {round(calculated_land, 2)} seconds\")"
   ]
  },
  {
   "cell_type": "code",
   "execution_count": null,
   "metadata": {},
   "outputs": [],
   "source": [
    "calculated_x0_posterior = results_falling.posterior[\"Intercept\"].values\n",
    "calculated_g_posterior = -2 * results_falling.posterior[\"I(t ** 2)\"].values\n",
    "calculated_land_posterior = np.sqrt(\n",
    "    2 * calculated_x0_posterior / calculated_g_posterior\n",
    ")\n",
    "lower_est = round(np.quantile(calculated_land_posterior, 0.025), 2)\n",
    "upper_est = round(np.quantile(calculated_land_posterior, 0.975), 2)\n",
    "print(f\"The ball landing will be measured between {lower_est} and {upper_est} seconds\")"
   ]
  },
  {
   "cell_type": "code",
   "execution_count": null,
   "metadata": {},
   "outputs": [],
   "source": [
    "v0 = 7\n",
    "x0 = 1.5\n",
    "x_projectile = (1 / 2) * g * t**2 + v0 * t + x0\n",
    "noise = rng.normal(0, 0.2, x_projectile.shape)\n",
    "x_obs_projectile = x_projectile + noise\n",
    "df_projectile = pd.DataFrame(\n",
    "    {\"t\": t, \"tsq\": t**2, \"x\": x_obs_projectile, \"x_true\": x_projectile}\n",
    ")\n",
    "df_projectile = df_projectile[df_projectile[\"x\"] >= 0]\n",
    "\n",
    "fig, ax = plt.subplots(figsize=(10, 6))\n",
    "\n",
    "ax.scatter(df_projectile.t, df_projectile.x, label=\"Observed Displacement\", color=\"C0\")\n",
    "ax.plot(df_projectile.t, df_projectile.x_true, label=\"True Function\", color=\"C1\")\n",
    "ax.set(xlabel=\"Time (s)\", ylabel=\"Displacement (m)\", ylim=(0, None))\n",
    "ax.legend();"
   ]
  },
  {
   "cell_type": "code",
   "execution_count": null,
   "metadata": {},
   "outputs": [],
   "source": [
    "model_projectile_all_terms = bmb.Model(\"x ~ I(t**2) + t + 1\", df_projectile)\n",
    "fit_projectile_all_terms = model_projectile_all_terms.fit(\n",
    "    idata_kwargs={\"log_likelihood\": True}, target_accept=0.9, random_seed=SEED\n",
    ")"
   ]
  },
  {
   "cell_type": "code",
   "execution_count": null,
   "metadata": {},
   "outputs": [],
   "source": [
    "az.summary(fit_projectile_all_terms)"
   ]
  },
  {
   "cell_type": "code",
   "execution_count": null,
   "metadata": {},
   "outputs": [],
   "source": [
    "hdi = az.hdi(fit_projectile_all_terms.posterior, hdi_prob=0.95)\n",
    "print(\n",
    "    f\"Initial height: {hdi['Intercept'].sel(hdi='lower'):.2f} to {hdi['Intercept'].sel(hdi='higher'):.2f} meters (True: {x0} m)\"\n",
    ")\n",
    "print(\n",
    "    f\"Initial velocity: {hdi['t'].sel(hdi='lower'):.2f} to {hdi['t'].sel(hdi='higher'):.2f} meters per second (True: {v0} m/s)\"\n",
    ")\n",
    "print(\n",
    "    f\"Acceleration: {2*hdi['I(t ** 2)'].sel(hdi='lower'):.2f} to {2*hdi['I(t ** 2)'].sel(hdi='higher'):.2f} meters per second squared (True: {g} m/s^2)\"\n",
    ")"
   ]
  },
  {
   "cell_type": "code",
   "execution_count": null,
   "metadata": {},
   "outputs": [],
   "source": [
    "model_poly_raw = bmb.Model(\"x ~ poly(t, 2, raw=True)\", df_projectile)\n",
    "fit_poly_raw = model_poly_raw.fit(\n",
    "    idata_kwargs={\"log_likelihood\": True}, random_seed=SEED\n",
    ")\n",
    "az.summary(fit_poly_raw)"
   ]
  },
  {
   "cell_type": "code",
   "execution_count": null,
   "metadata": {},
   "outputs": [],
   "source": [
    "def simulate_throw(v0, g, noise_std, time_step=0.25, max_time=10, seed=1234):\n",
    "    rng = np.random.default_rng(seed)\n",
    "    times = np.arange(0, max_time, time_step)\n",
    "    heights = v0 * times - 0.5 * g * times**2\n",
    "    heights_with_noise = heights + rng.normal(0, noise_std, len(times))\n",
    "    valid_indices = heights_with_noise >= 0\n",
    "    return (\n",
    "        times[valid_indices],\n",
    "        heights_with_noise[valid_indices],\n",
    "        heights[valid_indices],\n",
    "    )\n",
    "\n",
    "\n",
    "# Define the parameters\n",
    "v0 = 20  # Initial velocity (m/s)\n",
    "g_planets = {\n",
    "    \"Earth\": 9.81,\n",
    "    \"Mars\": 3.72,\n",
    "    \"PlanetX\": 6.0,\n",
    "}  # Gravitational acceleration (m/s^2)\n",
    "noise_std = 1.5  # Standard deviation for noise\n",
    "\n",
    "# Generate data\n",
    "records = []\n",
    "for planet, g in g_planets.items():\n",
    "    times, heights, heights_true = simulate_throw(v0, g, noise_std)\n",
    "    for time, height, height_true in zip(times, heights, heights_true):\n",
    "        records.append([planet, time, height, height_true])\n",
    "\n",
    "# Convert to a DataFrame\n",
    "df = pd.DataFrame(records, columns=[\"Planet\", \"Time\", \"Height\", \"Height_true\"])\n",
    "df[\"Planet\"] = df[\"Planet\"].astype(\"category\")"
   ]
  },
  {
   "cell_type": "code",
   "execution_count": null,
   "metadata": {},
   "outputs": [],
   "source": [
    "fig, ax = plt.subplots(figsize=(10, 6))\n",
    "\n",
    "for i, planet in enumerate(df[\"Planet\"].cat.categories):\n",
    "    subset = df[df[\"Planet\"] == planet]\n",
    "    ax.plot(subset[\"Time\"], subset[\"Height_true\"], alpha=0.7, color=f\"C{i}\")\n",
    "    ax.scatter(subset[\"Time\"], subset[\"Height\"], alpha=0.7, label=planet, color=f\"C{i}\")\n",
    "\n",
    "ax.set(\n",
    "    xlabel=\"Time (seconds)\",\n",
    "    ylabel=\"Height (meters)\",\n",
    "    title=\"Trajectory Comparison\",\n",
    "    ylim=(0, None),\n",
    ")\n",
    "ax.legend(title=\"Planet\");"
   ]
  },
  {
   "cell_type": "code",
   "execution_count": null,
   "metadata": {},
   "outputs": [],
   "source": [
    "planet_model = bmb.Model(\"Height ~ I(Time**2):Planet + Time + 0\", df)\n",
    "planet_model.build()\n",
    "planet_model.graph()"
   ]
  },
  {
   "cell_type": "code",
   "execution_count": null,
   "metadata": {},
   "outputs": [],
   "source": [
    "planet_fit = planet_model.fit(\n",
    "    chains=4, idata_kwargs={\"log_likelihood\": True}, random_seed=SEED\n",
    ")"
   ]
  },
  {
   "cell_type": "code",
   "execution_count": null,
   "metadata": {},
   "outputs": [],
   "source": [
    "az.summary(planet_fit)"
   ]
  },
  {
   "cell_type": "code",
   "execution_count": null,
   "metadata": {},
   "outputs": [],
   "source": [
    "hdi = az.hdi(planet_fit.posterior, hdi_prob=0.95)\n",
    "print(\n",
    "    f\"g for Earth: {2*hdi['I(Time ** 2):Planet'].sel({'I(Time ** 2):Planet_dim':'Earth', 'hdi':'lower'}):.2f} to {2*hdi['I(Time ** 2):Planet'].sel({'I(Time ** 2):Planet_dim':'Earth', 'hdi':'higher'}):.2f} meters (True: -9.81 m)\"\n",
    ")\n",
    "print(\n",
    "    f\"g for Mars: {2*hdi['I(Time ** 2):Planet'].sel({'I(Time ** 2):Planet_dim':'Mars', 'hdi':'lower'}):.2f} to {2*hdi['I(Time ** 2):Planet'].sel({'I(Time ** 2):Planet_dim':'Mars', 'hdi':'higher'}):.2f} meters (True: -3.72 m)\"\n",
    ")\n",
    "print(\n",
    "    f\"g for PlanetX: {2*hdi['I(Time ** 2):Planet'].sel({'I(Time ** 2):Planet_dim':'PlanetX', 'hdi':'lower'}):.2f} to {2*hdi['I(Time ** 2):Planet'].sel({'I(Time ** 2):Planet_dim':'PlanetX', 'hdi':'higher'}):.2f} meters (True: -6.0 m)\"\n",
    ")\n",
    "print(\n",
    "    f\"Initial velocity: {hdi['Time'].sel(hdi='lower'):.2f} to {hdi['Time'].sel(hdi='higher'):.2f} meters per second (True: 20 m/s)\"\n",
    ")"
   ]
  },
  {
   "cell_type": "code",
   "execution_count": null,
   "metadata": {},
   "outputs": [],
   "source": [
    "earth_posterior = -2 * planet_fit.posterior[\"I(Time ** 2):Planet\"].sel(\n",
    "    {\"I(Time ** 2):Planet_dim\": \"Earth\"}\n",
    ")\n",
    "planetx_posterior = -2 * planet_fit.posterior[\"I(Time ** 2):Planet\"].sel(\n",
    "    {\"I(Time ** 2):Planet_dim\": \"PlanetX\"}\n",
    ")\n",
    "mars_posterior = -2 * planet_fit.posterior[\"I(Time ** 2):Planet\"].sel(\n",
    "    {\"I(Time ** 2):Planet_dim\": \"Mars\"}\n",
    ")\n",
    "\n",
    "fig, axs = plt.subplots(1, 3, figsize=(12, 6))\n",
    "az.plot_posterior(earth_posterior, ref_val=9.81, ax=axs[0])\n",
    "axs[0].set_title(\"Posterior $g$ on Earth\")\n",
    "az.plot_posterior(mars_posterior, ref_val=3.72, ax=axs[1])\n",
    "axs[1].set_title(\"Posterior $g$ on Mars\")\n",
    "az.plot_posterior(planetx_posterior, ref_val=6.0, ax=axs[2])\n",
    "axs[2].set_title(\"Posterior $g$ on PlanetX\");"
   ]
  },
  {
   "cell_type": "code",
   "execution_count": null,
   "metadata": {},
   "outputs": [],
   "source": [
    "priors = {\n",
    "    \"I(Time ** 2):Planet\": bmb.Prior(\n",
    "        \"TruncatedNormal\",\n",
    "        mu=[\n",
    "            -9.81 / 2,  # Earth\n",
    "            -3.72 / 2,  # Mars\n",
    "            -6.77 / 2,  # PlanetX\n",
    "        ],\n",
    "        sigma=[\n",
    "            0.025 / 2,  # Earth\n",
    "            0.02 / 2,  # Mars\n",
    "            3 / 2,  # PlanetX\n",
    "        ],\n",
    "        upper=[0, 0, 0],\n",
    "    )\n",
    "}\n",
    "\n",
    "planet_model_with_prior = bmb.Model(\n",
    "    \"Height ~ I(Time**2):Planet + Time + 0\", df, priors=priors\n",
    ")\n",
    "\n",
    "planet_model_with_prior.build()\n",
    "idata = planet_model_with_prior.prior_predictive()\n",
    "az.summary(idata.prior, kind=\"stats\")"
   ]
  },
  {
   "cell_type": "code",
   "execution_count": null,
   "metadata": {},
   "outputs": [],
   "source": [
    "planet_fit_with_prior = planet_model_with_prior.fit(\n",
    "    chains=4, idata_kwargs={\"log_likelihood\": True}, random_seed=SEED\n",
    ")\n",
    "az.summary(planet_fit_with_prior)\n",
    "planet_model_with_prior.predict(planet_fit_with_prior, kind=\"pps\");"
   ]
  },
  {
   "cell_type": "code",
   "execution_count": null,
   "metadata": {},
   "outputs": [],
   "source": [
    "az.summary(planet_fit_with_prior)[0:5]"
   ]
  },
  {
   "cell_type": "code",
   "execution_count": null,
   "metadata": {},
   "outputs": [],
   "source": [
    "earth_posterior_2 = -2 * planet_fit_with_prior.posterior[\"I(Time ** 2):Planet\"].sel(\n",
    "    {\"I(Time ** 2):Planet_dim\": \"Earth\"}\n",
    ")\n",
    "mars_posterior_2 = -2 * planet_fit_with_prior.posterior[\"I(Time ** 2):Planet\"].sel(\n",
    "    {\"I(Time ** 2):Planet_dim\": \"Mars\"}\n",
    ")\n",
    "planetx_posterior_2 = -2 * planet_fit_with_prior.posterior[\"I(Time ** 2):Planet\"].sel(\n",
    "    {\"I(Time ** 2):Planet_dim\": \"PlanetX\"}\n",
    ")\n",
    "\n",
    "fig, axs = plt.subplots(2, 3, figsize=(12, 6), sharex=\"col\")\n",
    "az.plot_posterior(earth_posterior, ref_val=9.81, ax=axs[0, 0])\n",
    "axs[0, 0].set_title(\"Earth $g$ - No Prior\")\n",
    "az.plot_posterior(mars_posterior, ref_val=3.72, ax=axs[0, 1])\n",
    "axs[0, 1].set_title(\"Mars $g$ - No Prior\")\n",
    "az.plot_posterior(planetx_posterior, ref_val=6.0, ax=axs[0, 2])\n",
    "axs[0, 2].set_title(\"PlanetX $g$ - No Prior\")\n",
    "\n",
    "az.plot_posterior(earth_posterior_2, ref_val=9.81, ax=axs[1, 0])\n",
    "axs[1, 0].set_title(\"Earth $g$ - Priors Used\")\n",
    "az.plot_posterior(mars_posterior_2, ref_val=3.72, ax=axs[1, 1])\n",
    "axs[1, 1].set_title(\"Mars $g$ - Priors Used\")\n",
    "az.plot_posterior(planetx_posterior_2, ref_val=6.0, ax=axs[1, 2])\n",
    "axs[1, 2].set_title(\"PlanetX $g$ - Priors Used\");"
   ]
  },
  {
   "cell_type": "code",
   "execution_count": null,
   "metadata": {},
   "outputs": [],
   "source": []
  }
 ],
 "metadata": {
  "language_info": {
   "codemirror_mode": {
    "name": "ipython",
    "version": 3
   },
   "file_extension": ".py",
   "mimetype": "text/x-python",
   "name": "python",
   "nbconvert_exporter": "python",
   "pygments_lexer": "ipython3",
   "version": "3.13.1"
  }
 },
 "nbformat": 4,
 "nbformat_minor": 2
}
