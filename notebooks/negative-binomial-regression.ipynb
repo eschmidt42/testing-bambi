{
 "cells": [
  {
   "cell_type": "markdown",
   "metadata": {},
   "source": [
    "Based on https://bambinos.github.io/bambi/notebooks/negative_binomial.html"
   ]
  },
  {
   "cell_type": "code",
   "execution_count": null,
   "metadata": {},
   "outputs": [],
   "source": [
    "import arviz as az\n",
    "import bambi as bmb\n",
    "import matplotlib.pyplot as plt\n",
    "import numpy as np\n",
    "import pandas as pd\n",
    "\n",
    "from scipy.stats import nbinom"
   ]
  },
  {
   "cell_type": "code",
   "execution_count": null,
   "metadata": {},
   "outputs": [],
   "source": [
    "az.style.use(\"arviz-darkgrid\")"
   ]
  },
  {
   "cell_type": "code",
   "execution_count": null,
   "metadata": {},
   "outputs": [],
   "source": [
    "import warnings\n",
    "\n",
    "warnings.simplefilter(action=\"ignore\", category=FutureWarning)"
   ]
  },
  {
   "cell_type": "code",
   "execution_count": null,
   "metadata": {},
   "outputs": [],
   "source": [
    "y = np.arange(0, 30)\n",
    "k = 3\n",
    "p1 = 0.5\n",
    "p2 = 0.3"
   ]
  },
  {
   "cell_type": "code",
   "execution_count": null,
   "metadata": {},
   "outputs": [],
   "source": [
    "fig, ax = plt.subplots(1, 2, figsize=(12, 4), sharey=True)\n",
    "\n",
    "ax[0].bar(y, nbinom.pmf(y, k, p1))\n",
    "ax[0].set_xticks(np.linspace(0, 30, num=11))\n",
    "ax[0].set_title(f\"k = {k}, p = {p1}\")\n",
    "\n",
    "ax[1].bar(y, nbinom.pmf(y, k, p2))\n",
    "ax[1].set_xticks(np.linspace(0, 30, num=11))\n",
    "ax[1].set_title(f\"k = {k}, p = {p2}\")\n",
    "\n",
    "fig.suptitle(\"Y = Number of failures until k successes\", fontsize=16);"
   ]
  },
  {
   "cell_type": "code",
   "execution_count": null,
   "metadata": {},
   "outputs": [],
   "source": [
    "print(nbinom.pmf(y, k, p1)[0])\n",
    "print(nbinom.pmf(y, k, p1)[3])"
   ]
  },
  {
   "cell_type": "code",
   "execution_count": null,
   "metadata": {},
   "outputs": [],
   "source": [
    "fig, ax = plt.subplots(1, 2, figsize=(12, 4), sharey=True)\n",
    "\n",
    "ax[0].bar(y + k, nbinom.pmf(y, k, p1))\n",
    "ax[0].set_xticks(np.linspace(3, 30, num=10))\n",
    "ax[0].set_title(f\"k = {k}, p = {p1}\")\n",
    "\n",
    "ax[1].bar(y + k, nbinom.pmf(y, k, p2))\n",
    "ax[1].set_xticks(np.linspace(3, 30, num=10))\n",
    "ax[1].set_title(f\"k = {k}, p = {p2}\")\n",
    "\n",
    "fig.suptitle(\"Y = Number of trials until k successes\", fontsize=16);"
   ]
  },
  {
   "cell_type": "code",
   "execution_count": null,
   "metadata": {},
   "outputs": [],
   "source": [
    "data = pd.read_stata(\"https://stats.idre.ucla.edu/stat/stata/dae/nb_data.dta\")"
   ]
  },
  {
   "cell_type": "code",
   "execution_count": null,
   "metadata": {},
   "outputs": [],
   "source": [
    "data.head()"
   ]
  },
  {
   "cell_type": "code",
   "execution_count": null,
   "metadata": {},
   "outputs": [],
   "source": [
    "data[\"prog\"] = data[\"prog\"].map({1: \"General\", 2: \"Academic\", 3: \"Vocational\"})\n",
    "data.head()"
   ]
  },
  {
   "cell_type": "code",
   "execution_count": null,
   "metadata": {},
   "outputs": [],
   "source": [
    "data[\"prog\"].value_counts()"
   ]
  },
  {
   "cell_type": "code",
   "execution_count": null,
   "metadata": {},
   "outputs": [],
   "source": [
    "fig, ax = plt.subplots(3, 2, figsize=(8, 6), sharex=\"col\")\n",
    "programs = list(data[\"prog\"].unique())\n",
    "programs.sort()\n",
    "\n",
    "for idx, program in enumerate(programs):\n",
    "    # Histogram\n",
    "    ax[idx, 0].hist(data[data[\"prog\"] == program][\"math\"], edgecolor=\"black\", alpha=0.9)\n",
    "    ax[idx, 0].axvline(data[data[\"prog\"] == program][\"math\"].mean(), color=\"C1\")\n",
    "\n",
    "    # Barplot\n",
    "    days = data[data[\"prog\"] == program][\"daysabs\"]\n",
    "    days_mean = days.mean()\n",
    "    days_counts = days.value_counts()\n",
    "    values = list(days_counts.index)\n",
    "    count = days_counts.values\n",
    "    ax[idx, 1].bar(values, count, edgecolor=\"black\", alpha=0.9)\n",
    "    ax[idx, 1].axvline(days_mean, color=\"C1\")\n",
    "\n",
    "    # Titles\n",
    "    ax[idx, 0].set_title(program)\n",
    "    ax[idx, 1].set_title(program)\n",
    "\n",
    "plt.setp(ax[-1, 0], xlabel=\"Math score\")\n",
    "plt.setp(ax[-1, 1], xlabel=\"Days of absence\");"
   ]
  },
  {
   "cell_type": "code",
   "execution_count": null,
   "metadata": {},
   "outputs": [],
   "source": [
    "model_additive = bmb.Model(\n",
    "    \"daysabs ~ 0 + prog + scale(math)\", data, family=\"negativebinomial\"\n",
    ")\n",
    "idata_additive = model_additive.fit()"
   ]
  },
  {
   "cell_type": "code",
   "execution_count": null,
   "metadata": {},
   "outputs": [],
   "source": [
    "model_interaction = bmb.Model(\n",
    "    \"daysabs ~ 0 + prog + scale(math) + prog:scale(math)\",\n",
    "    data,\n",
    "    family=\"negativebinomial\",\n",
    ")\n",
    "idata_interaction = model_interaction.fit()"
   ]
  },
  {
   "cell_type": "code",
   "execution_count": null,
   "metadata": {},
   "outputs": [],
   "source": [
    "az.summary(idata_additive)"
   ]
  },
  {
   "cell_type": "code",
   "execution_count": null,
   "metadata": {},
   "outputs": [],
   "source": [
    "az.summary(idata_interaction)"
   ]
  },
  {
   "cell_type": "code",
   "execution_count": null,
   "metadata": {},
   "outputs": [],
   "source": [
    "az.plot_forest(\n",
    "    [idata_additive, idata_interaction],\n",
    "    model_names=[\"Additive\", \"Interaction\"],\n",
    "    var_names=[\"prog\", \"scale(math)\"],\n",
    "    combined=True,\n",
    "    figsize=(8, 4),\n",
    ");"
   ]
  },
  {
   "cell_type": "code",
   "execution_count": null,
   "metadata": {},
   "outputs": [],
   "source": [
    "az.plot_forest(\n",
    "    idata_interaction, var_names=[\"prog:scale(math)\"], combined=True, figsize=(8, 4)\n",
    ")\n",
    "plt.axvline(0);"
   ]
  },
  {
   "cell_type": "code",
   "execution_count": null,
   "metadata": {},
   "outputs": [],
   "source": [
    "math_score = np.arange(1, 100)\n",
    "\n",
    "\n",
    "# This function takes a model and an InferenceData object.\n",
    "# It returns of length 3 with predictions for each type of program.\n",
    "def predict(model, idata):\n",
    "    predictions = []\n",
    "    for program in programs:\n",
    "        new_data = pd.DataFrame(\n",
    "            {\"math\": math_score, \"prog\": [program] * len(math_score)}\n",
    "        )\n",
    "        new_idata = model.predict(idata, data=new_data, inplace=False)\n",
    "        prediction = new_idata.posterior[\"mu\"]\n",
    "        predictions.append(prediction)\n",
    "\n",
    "    return predictions"
   ]
  },
  {
   "cell_type": "code",
   "execution_count": null,
   "metadata": {},
   "outputs": [],
   "source": [
    "prediction_additive = predict(model_additive, idata_additive)\n",
    "prediction_interaction = predict(model_interaction, idata_interaction)"
   ]
  },
  {
   "cell_type": "code",
   "execution_count": null,
   "metadata": {},
   "outputs": [],
   "source": [
    "mu_additive = [prediction.mean((\"chain\", \"draw\")) for prediction in prediction_additive]\n",
    "mu_interaction = [\n",
    "    prediction.mean((\"chain\", \"draw\")) for prediction in prediction_interaction\n",
    "]"
   ]
  },
  {
   "cell_type": "code",
   "execution_count": null,
   "metadata": {},
   "outputs": [],
   "source": [
    "fig, ax = plt.subplots(1, 2, sharex=True, sharey=True, figsize=(10, 4))\n",
    "\n",
    "for idx, program in enumerate(programs):\n",
    "    ax[0].plot(math_score, mu_additive[idx], label=f\"{program}\", color=f\"C{idx}\", lw=2)\n",
    "    az.plot_hdi(math_score, prediction_additive[idx], color=f\"C{idx}\", ax=ax[0])\n",
    "\n",
    "    ax[1].plot(\n",
    "        math_score, mu_interaction[idx], label=f\"{program}\", color=f\"C{idx}\", lw=2\n",
    "    )\n",
    "    az.plot_hdi(math_score, prediction_interaction[idx], color=f\"C{idx}\", ax=ax[1])\n",
    "\n",
    "ax[0].set_title(\"Additive\")\n",
    "ax[1].set_title(\"Interaction\")\n",
    "ax[0].set_xlabel(\"Math score\")\n",
    "ax[1].set_xlabel(\"Math score\")\n",
    "ax[0].set_ylim(0, 25)\n",
    "ax[0].legend(loc=\"upper right\");"
   ]
  },
  {
   "cell_type": "code",
   "execution_count": null,
   "metadata": {},
   "outputs": [],
   "source": []
  }
 ],
 "metadata": {
  "language_info": {
   "codemirror_mode": {
    "name": "ipython",
    "version": 3
   },
   "file_extension": ".py",
   "mimetype": "text/x-python",
   "name": "python",
   "nbconvert_exporter": "python",
   "pygments_lexer": "ipython3",
   "version": "3.13.1"
  }
 },
 "nbformat": 4,
 "nbformat_minor": 2
}
