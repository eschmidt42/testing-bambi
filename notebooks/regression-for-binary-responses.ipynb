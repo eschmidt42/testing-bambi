{
 "cells": [
  {
   "cell_type": "markdown",
   "metadata": {},
   "source": [
    "Based on https://bambinos.github.io/bambi/notebooks/alternative_links_binary.html"
   ]
  },
  {
   "cell_type": "code",
   "execution_count": null,
   "metadata": {},
   "outputs": [],
   "source": [
    "import arviz as az\n",
    "import bambi as bmb\n",
    "import matplotlib.pyplot as plt\n",
    "import numpy as np\n",
    "import pandas as pd\n",
    "\n",
    "from scipy.special import expit as invlogit\n",
    "from scipy.stats import norm"
   ]
  },
  {
   "cell_type": "code",
   "execution_count": null,
   "metadata": {},
   "outputs": [],
   "source": [
    "az.style.use(\"arviz-darkgrid\")\n",
    "np.random.seed(1234)"
   ]
  },
  {
   "cell_type": "code",
   "execution_count": null,
   "metadata": {},
   "outputs": [],
   "source": [
    "def invcloglog(x):\n",
    "    return 1 - np.exp(-np.exp(x))"
   ]
  },
  {
   "cell_type": "code",
   "execution_count": null,
   "metadata": {},
   "outputs": [],
   "source": [
    "x = np.linspace(-5, 5, num=200)\n",
    "\n",
    "# inverse of the logit function\n",
    "logit = invlogit(x)\n",
    "\n",
    "# cumulative density function of standard gaussian\n",
    "probit = norm.cdf(x)\n",
    "\n",
    "# inverse of the cloglog function\n",
    "cloglog = invcloglog(x)\n",
    "\n",
    "plt.plot(x, logit, color=\"C0\", lw=2, label=\"Logit\")\n",
    "plt.plot(x, probit, color=\"C1\", lw=2, label=\"Probit\")\n",
    "plt.plot(x, cloglog, color=\"C2\", lw=2, label=\"CLogLog\")\n",
    "plt.axvline(0, c=\"k\", alpha=0.5, ls=\"--\")\n",
    "plt.axhline(0.5, c=\"k\", alpha=0.5, ls=\"--\")\n",
    "plt.xlabel(r\"$x$\")\n",
    "plt.ylabel(r\"$\\pi$\")\n",
    "plt.legend();"
   ]
  },
  {
   "cell_type": "code",
   "execution_count": null,
   "metadata": {},
   "outputs": [],
   "source": [
    "x = np.array([1.6907, 1.7242, 1.7552, 1.7842, 1.8113, 1.8369, 1.8610, 1.8839])\n",
    "n = np.array([59, 60, 62, 56, 63, 59, 62, 60])\n",
    "y = np.array([6, 13, 18, 28, 52, 53, 61, 60])\n",
    "\n",
    "data = pd.DataFrame({\"x\": x, \"n\": n, \"y\": y})"
   ]
  },
  {
   "cell_type": "code",
   "execution_count": null,
   "metadata": {},
   "outputs": [],
   "source": [
    "formula = \"p(y, n) ~ x\""
   ]
  },
  {
   "cell_type": "code",
   "execution_count": null,
   "metadata": {},
   "outputs": [],
   "source": [
    "model_logit = bmb.Model(formula, data, family=\"binomial\")\n",
    "idata_logit = model_logit.fit(draws=2000)"
   ]
  },
  {
   "cell_type": "code",
   "execution_count": null,
   "metadata": {},
   "outputs": [],
   "source": [
    "model_probit = bmb.Model(formula, data, family=\"binomial\", link=\"probit\")\n",
    "idata_probit = model_probit.fit(draws=2000)"
   ]
  },
  {
   "cell_type": "code",
   "execution_count": null,
   "metadata": {},
   "outputs": [],
   "source": [
    "model_cloglog = bmb.Model(formula, data, family=\"binomial\", link=\"cloglog\")\n",
    "idata_cloglog = model_cloglog.fit(draws=2000)"
   ]
  },
  {
   "cell_type": "code",
   "execution_count": null,
   "metadata": {},
   "outputs": [],
   "source": [
    "def get_predictions(model, idata, seq):\n",
    "    # Create a data frame with the new data\n",
    "    new_data = pd.DataFrame({\"x\": seq})\n",
    "\n",
    "    # Predict probability of dying using out of sample data\n",
    "    model.predict(idata, data=new_data)\n",
    "\n",
    "    # Get posterior mean across all chains and draws\n",
    "    mu = idata.posterior[\"p\"].mean((\"chain\", \"draw\"))\n",
    "    return mu"
   ]
  },
  {
   "cell_type": "code",
   "execution_count": null,
   "metadata": {},
   "outputs": [],
   "source": [
    "x_seq = np.linspace(1.6, 2, num=200)\n",
    "\n",
    "mu_logit = get_predictions(model_logit, idata_logit, x_seq)\n",
    "mu_probit = get_predictions(model_probit, idata_probit, x_seq)\n",
    "mu_cloglog = get_predictions(model_cloglog, idata_cloglog, x_seq)"
   ]
  },
  {
   "cell_type": "code",
   "execution_count": null,
   "metadata": {},
   "outputs": [],
   "source": [
    "plt.scatter(x, y / n, c=\"white\", edgecolors=\"black\", s=100)\n",
    "plt.plot(x_seq, mu_logit, lw=2, label=\"Logit\")\n",
    "plt.plot(x_seq, mu_probit, lw=2, label=\"Probit\")\n",
    "plt.plot(x_seq, mu_cloglog, lw=2, label=\"CLogLog\")\n",
    "plt.axhline(0.5, c=\"k\", alpha=0.5, ls=\"--\")\n",
    "plt.xlabel(r\"Dose $\\log_{10}CS_2mgl^{-1}$\")\n",
    "plt.ylabel(\"Probability of death\")\n",
    "plt.legend();"
   ]
  },
  {
   "cell_type": "code",
   "execution_count": null,
   "metadata": {},
   "outputs": [],
   "source": []
  }
 ],
 "metadata": {
  "language_info": {
   "codemirror_mode": {
    "name": "ipython",
    "version": 3
   },
   "file_extension": ".py",
   "mimetype": "text/x-python",
   "name": "python",
   "nbconvert_exporter": "python",
   "pygments_lexer": "ipython3",
   "version": "3.13.1"
  }
 },
 "nbformat": 4,
 "nbformat_minor": 2
}
