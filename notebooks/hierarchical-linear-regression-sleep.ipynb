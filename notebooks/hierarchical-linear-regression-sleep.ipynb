{
 "cells": [
  {
   "cell_type": "markdown",
   "metadata": {},
   "source": [
    "Based on https://bambinos.github.io/bambi/notebooks/sleepstudy.html"
   ]
  },
  {
   "cell_type": "code",
   "execution_count": null,
   "metadata": {},
   "outputs": [],
   "source": [
    "import arviz as az\n",
    "import bambi as bmb\n",
    "import matplotlib.pyplot as plt\n",
    "import numpy as np\n",
    "import pandas as pd"
   ]
  },
  {
   "cell_type": "code",
   "execution_count": null,
   "metadata": {},
   "outputs": [],
   "source": [
    "az.style.use(\"arviz-darkgrid\")\n",
    "SEED = 7355608"
   ]
  },
  {
   "cell_type": "code",
   "execution_count": null,
   "metadata": {},
   "outputs": [],
   "source": [
    "data = bmb.load_data(\"sleepstudy\")\n",
    "data"
   ]
  },
  {
   "cell_type": "code",
   "execution_count": null,
   "metadata": {},
   "outputs": [],
   "source": [
    "def plot_data(data):\n",
    "    fig, axes = plt.subplots(\n",
    "        2,\n",
    "        9,\n",
    "        figsize=(16, 7.5),\n",
    "        sharey=True,\n",
    "        sharex=True,\n",
    "        dpi=300,\n",
    "        constrained_layout=False,\n",
    "    )\n",
    "    fig.subplots_adjust(left=0.075, right=0.975, bottom=0.075, top=0.925, wspace=0.03)\n",
    "\n",
    "    axes_flat = axes.ravel()\n",
    "\n",
    "    for i, subject in enumerate(data[\"Subject\"].unique()):\n",
    "        ax = axes_flat[i]\n",
    "        idx = data.index[data[\"Subject\"] == subject].tolist()\n",
    "        days = data.loc[idx, \"Days\"].values\n",
    "        reaction = data.loc[idx, \"Reaction\"].values\n",
    "\n",
    "        # Plot observed data points\n",
    "        ax.scatter(days, reaction, color=\"C0\", ec=\"black\", alpha=0.7)\n",
    "\n",
    "        # Add a title\n",
    "        ax.set_title(f\"Subject: {subject}\", fontsize=14)\n",
    "\n",
    "    ax.xaxis.set_ticks([0, 2, 4, 6, 8])\n",
    "    fig.text(0.5, 0.02, \"Days\", fontsize=14)\n",
    "    fig.text(0.03, 0.5, \"Reaction time (ms)\", rotation=90, fontsize=14, va=\"center\")\n",
    "\n",
    "    return axes"
   ]
  },
  {
   "cell_type": "code",
   "execution_count": null,
   "metadata": {},
   "outputs": [],
   "source": [
    "plot_data(data);"
   ]
  },
  {
   "cell_type": "code",
   "execution_count": null,
   "metadata": {},
   "outputs": [],
   "source": [
    "model = bmb.Model(\"Reaction ~ 1 + Days + (Days | Subject)\", data, categorical=\"Subject\")"
   ]
  },
  {
   "cell_type": "code",
   "execution_count": null,
   "metadata": {},
   "outputs": [],
   "source": [
    "model"
   ]
  },
  {
   "cell_type": "code",
   "execution_count": null,
   "metadata": {},
   "outputs": [],
   "source": [
    "idata = model.fit(draws=2000, random_seed=SEED)"
   ]
  },
  {
   "cell_type": "code",
   "execution_count": null,
   "metadata": {},
   "outputs": [],
   "source": [
    "az.summary(idata, var_names=[\"Intercept\", \"Days\"], kind=\"stats\")"
   ]
  },
  {
   "cell_type": "code",
   "execution_count": null,
   "metadata": {},
   "outputs": [],
   "source": [
    "az.plot_trace(idata, var_names=[\"1|Subject\", \"Days|Subject\"]);"
   ]
  },
  {
   "cell_type": "code",
   "execution_count": null,
   "metadata": {},
   "outputs": [],
   "source": [
    "#  extract a subsample from the posterior and stack the chain and draw dims\n",
    "posterior = az.extract(idata, num_samples=500)\n",
    "\n",
    "_, ax = plt.subplots()\n",
    "\n",
    "idata.posterior.plot.scatter(\n",
    "    x=\"1|Subject\",\n",
    "    y=\"Days|Subject\",\n",
    "    hue=\"Subject__factor_dim\",\n",
    "    add_colorbar=False,\n",
    "    add_legend=False,\n",
    "    cmap=\"tab20\",\n",
    "    edgecolors=None,\n",
    ")\n",
    "\n",
    "ax.axhline(c=\"0.25\", ls=\"--\")\n",
    "ax.axvline(c=\"0.25\", ls=\"--\")\n",
    "ax.set_xlabel(\"Subject-specific intercept\")\n",
    "ax.set_ylabel(\"Subject-specific slope\");"
   ]
  },
  {
   "cell_type": "code",
   "execution_count": null,
   "metadata": {},
   "outputs": [],
   "source": [
    "# Obtain the posterior of the mean\n",
    "model.predict(idata)\n",
    "\n",
    "# Plot the data\n",
    "axes = plot_data(data)\n",
    "\n",
    "# Take the posterior of the mean reaction time\n",
    "reaction_mean = az.extract(idata)[\"mu\"].values\n",
    "\n",
    "for subject, ax in zip(data[\"Subject\"].unique(), axes.ravel()):\n",
    "    idx = data.index[data[\"Subject\"] == subject].tolist()\n",
    "    days = data.loc[idx, \"Days\"].values\n",
    "\n",
    "    # Plot highest density interval / credibility interval\n",
    "    az.plot_hdi(days, reaction_mean[idx].T[np.newaxis], color=\"C0\", ax=ax)\n",
    "\n",
    "    # Plot mean regression line\n",
    "    ax.plot(days, reaction_mean[idx].mean(axis=1), color=\"C0\")"
   ]
  },
  {
   "cell_type": "code",
   "execution_count": null,
   "metadata": {},
   "outputs": [],
   "source": []
  }
 ],
 "metadata": {
  "language_info": {
   "codemirror_mode": {
    "name": "ipython",
    "version": 3
   },
   "file_extension": ".py",
   "mimetype": "text/x-python",
   "name": "python",
   "nbconvert_exporter": "python",
   "pygments_lexer": "ipython3",
   "version": "3.13.1"
  }
 },
 "nbformat": 4,
 "nbformat_minor": 2
}
