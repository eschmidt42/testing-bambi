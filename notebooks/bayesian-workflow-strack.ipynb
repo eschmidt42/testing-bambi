{
 "cells": [
  {
   "cell_type": "markdown",
   "metadata": {},
   "source": [
    "Based on https://bambinos.github.io/bambi/notebooks/Strack_RRR_re_analysis.html"
   ]
  },
  {
   "cell_type": "code",
   "execution_count": null,
   "metadata": {},
   "outputs": [],
   "source": [
    "from glob import glob\n",
    "\n",
    "import arviz as az\n",
    "import bambi as bmb\n",
    "import pandas as pd\n",
    "from pathlib import Path\n",
    "from data_utils import get_csv_list, download_csvs"
   ]
  },
  {
   "cell_type": "code",
   "execution_count": null,
   "metadata": {},
   "outputs": [],
   "source": [
    "az.style.use(\"arviz-darkgrid\")"
   ]
  },
  {
   "cell_type": "code",
   "execution_count": null,
   "metadata": {},
   "outputs": [],
   "source": [
    "bambi_data_url = (\n",
    "    \"https://github.com/bambinos/bambi/tree/main/docs/notebooks/data/facial_feedback\"\n",
    ")\n",
    "data_dir = Path(\"./data\")\n",
    "data_dir.mkdir(parents=True, exist_ok=True)"
   ]
  },
  {
   "cell_type": "code",
   "execution_count": null,
   "metadata": {},
   "outputs": [],
   "source": [
    "csv_list = get_csv_list(bambi_data_url)\n",
    "csv_list"
   ]
  },
  {
   "cell_type": "code",
   "execution_count": null,
   "metadata": {},
   "outputs": [],
   "source": [
    "download_csvs(csv_list, data_dir)"
   ]
  },
  {
   "cell_type": "code",
   "execution_count": null,
   "metadata": {},
   "outputs": [],
   "source": [
    "DL_PATH = \"data/facial_feedback/*csv\"\n",
    "\n",
    "dfs = []\n",
    "columns = [\n",
    "    \"subject\",\n",
    "    \"cond_id\",\n",
    "    \"condition\",\n",
    "    \"correct_c1\",\n",
    "    \"correct_c2\",\n",
    "    \"correct_c3\",\n",
    "    \"correct_c4\",\n",
    "    \"correct_total\",\n",
    "    \"rating_t1\",\n",
    "    \"rating_t2\",\n",
    "    \"rating_c1\",\n",
    "    \"rating_c2\",\n",
    "    \"rating_c3\",\n",
    "    \"rating_c4\",\n",
    "    \"self_perf\",\n",
    "    \"comprehension\",\n",
    "    \"awareness\",\n",
    "    \"transcript\",\n",
    "    \"age\",\n",
    "    \"gender\",\n",
    "    \"student\",\n",
    "    \"occupation\",\n",
    "]\n",
    "\n",
    "count = 0\n",
    "for idx, study in enumerate(glob(DL_PATH)):\n",
    "    data = pd.read_csv(\n",
    "        study, encoding=\"latin1\", skiprows=2, header=None, index_col=False\n",
    "    ).iloc[:, :22]\n",
    "    data.columns = columns\n",
    "    # Add study name\n",
    "    data[\"study\"] = idx\n",
    "    # Some sites used the same subject id numbering schemes, so prepend with study to create unique ids.\n",
    "    # Note that if we don't do this, Bambi would have no way of distinguishing two subjects who share\n",
    "    # the same id, which would hose our results.\n",
    "    data[\"uid\"] = data[\"subject\"].astype(float) + count\n",
    "    dfs.append(data)\n",
    "\n",
    "\n",
    "data = pd.concat(dfs, axis=0).apply(pd.to_numeric, errors=\"coerce\", axis=1)"
   ]
  },
  {
   "cell_type": "code",
   "execution_count": null,
   "metadata": {},
   "outputs": [],
   "source": [
    "data"
   ]
  },
  {
   "cell_type": "code",
   "execution_count": null,
   "metadata": {},
   "outputs": [],
   "source": [
    "# Keep only subjects who (i) respond appropriately on all trials,\n",
    "# (ii) understand the cartoons, and (iii) don't report any awareness\n",
    "# of the hypothesis or underlying theory.\n",
    "valid = data.query(\"correct_total==4 and comprehension==1 and awareness==0\")\n",
    "long = pd.melt(\n",
    "    valid,\n",
    "    [\"uid\", \"condition\", \"gender\", \"age\", \"study\", \"self_perf\"],\n",
    "    [\"rating_c1\", \"rating_c2\", \"rating_c3\", \"rating_c4\"],\n",
    "    var_name=\"stimulus\",\n",
    ")"
   ]
  },
  {
   "cell_type": "code",
   "execution_count": null,
   "metadata": {},
   "outputs": [],
   "source": [
    "long"
   ]
  },
  {
   "cell_type": "code",
   "execution_count": null,
   "metadata": {},
   "outputs": [],
   "source": [
    "# Initialize the model, passing in the dataset we want to use.\n",
    "model = bmb.Model(\"value ~ condition + (1|uid)\", long, dropna=True)\n",
    "\n",
    "# Set a custom prior on group specific factor variances—just for illustration\n",
    "group_specific_sd = bmb.Prior(\"HalfNormal\", sigma=10)\n",
    "group_specific_prior = bmb.Prior(\"Normal\", mu=0, sigma=group_specific_sd)\n",
    "model.set_priors(group_specific=group_specific_prior)\n",
    "\n",
    "# Fit the model, drawing 1,000 MCMC draws per chain\n",
    "results = model.fit(draws=1000)"
   ]
  },
  {
   "cell_type": "code",
   "execution_count": null,
   "metadata": {},
   "outputs": [],
   "source": [
    "model.plot_priors();"
   ]
  },
  {
   "cell_type": "code",
   "execution_count": null,
   "metadata": {},
   "outputs": [],
   "source": [
    "az.plot_trace(\n",
    "    results,\n",
    "    var_names=[\"Intercept\", \"condition\", \"sigma\", \"1|uid_sigma\"],\n",
    "    compact=False,\n",
    ");"
   ]
  },
  {
   "cell_type": "code",
   "execution_count": null,
   "metadata": {},
   "outputs": [],
   "source": [
    "az.summary(results, var_names=[\"Intercept\", \"condition\", \"sigma\", \"1|uid_sigma\"])"
   ]
  },
  {
   "cell_type": "code",
   "execution_count": null,
   "metadata": {},
   "outputs": [],
   "source": [
    "model = bmb.Model(\n",
    "    \"value ~ condition + age + gender + (1|uid) + (condition|study) + (condition|stimulus)\",\n",
    "    long,\n",
    "    dropna=True,\n",
    ")\n",
    "\n",
    "group_specific_sd = bmb.Prior(\"HalfNormal\", sigma=10)\n",
    "group_specific_prior = bmb.Prior(\"Normal\", mu=0, sigma=group_specific_sd)\n",
    "model.set_priors(group_specific=group_specific_prior)\n",
    "\n",
    "# Not we use 2000 samples for tuning and increase the taget_accept to 0.99.\n",
    "# The default values result in divergences.\n",
    "results = model.fit(draws=1000, tune=2000, target_accept=0.99)"
   ]
  },
  {
   "cell_type": "code",
   "execution_count": null,
   "metadata": {},
   "outputs": [],
   "source": [
    "az.plot_trace(\n",
    "    results,\n",
    "    var_names=[\n",
    "        \"Intercept\",\n",
    "        \"age\",\n",
    "        \"gender\",\n",
    "        \"condition\",\n",
    "        \"sigma\",\n",
    "        \"1|study\",\n",
    "        \"1|stimulus\",\n",
    "        \"condition|study\",\n",
    "        \"condition|stimulus\",\n",
    "        \"1|study_sigma\",\n",
    "        \"1|stimulus_sigma\",\n",
    "        \"condition|study_sigma\",\n",
    "    ],\n",
    "    compact=True,\n",
    ");"
   ]
  },
  {
   "cell_type": "code",
   "execution_count": null,
   "metadata": {},
   "outputs": [],
   "source": []
  }
 ],
 "metadata": {
  "language_info": {
   "codemirror_mode": {
    "name": "ipython",
    "version": 3
   },
   "file_extension": ".py",
   "mimetype": "text/x-python",
   "name": "python",
   "nbconvert_exporter": "python",
   "pygments_lexer": "ipython3",
   "version": "3.13.1"
  }
 },
 "nbformat": 4,
 "nbformat_minor": 2
}
