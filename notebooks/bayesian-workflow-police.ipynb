{
 "cells": [
  {
   "cell_type": "markdown",
   "metadata": {},
   "source": [
    "Based on https://bambinos.github.io/bambi/notebooks/shooter_crossed_random_ANOVA.html"
   ]
  },
  {
   "cell_type": "code",
   "execution_count": null,
   "metadata": {},
   "outputs": [],
   "source": [
    "import arviz as az\n",
    "import bambi as bmb\n",
    "import matplotlib.pyplot as plt\n",
    "import numpy as np\n",
    "import pandas as pd\n",
    "from data_utils import download_single_csv\n",
    "from pathlib import Path"
   ]
  },
  {
   "cell_type": "code",
   "execution_count": null,
   "metadata": {},
   "outputs": [],
   "source": [
    "az.style.use(\"arviz-darkgrid\")\n",
    "SEED = 1234"
   ]
  },
  {
   "cell_type": "code",
   "execution_count": null,
   "metadata": {},
   "outputs": [],
   "source": [
    "path = Path(\"./data\")\n",
    "name = \"shooter.csv\"\n",
    "download_single_csv(path, name)"
   ]
  },
  {
   "cell_type": "code",
   "execution_count": null,
   "metadata": {},
   "outputs": [],
   "source": [
    "shooter = pd.read_csv(\"data/shooter.csv\", na_values=\".\")\n",
    "shooter.head(10)"
   ]
  },
  {
   "cell_type": "code",
   "execution_count": null,
   "metadata": {},
   "outputs": [],
   "source": [
    "shooter[\"rate\"] = 1000.0 / shooter[\"time\"]"
   ]
  },
  {
   "cell_type": "code",
   "execution_count": null,
   "metadata": {},
   "outputs": [],
   "source": [
    "plt.hist(shooter[\"rate\"].dropna());"
   ]
  },
  {
   "cell_type": "code",
   "execution_count": null,
   "metadata": {},
   "outputs": [],
   "source": [
    "subj_model = bmb.Model(\n",
    "    \"rate ~ S(race) * S(object) + (S(race) * S(object) | subject)\", shooter, dropna=True\n",
    ")\n",
    "subj_fitted = subj_model.fit(random_seed=SEED)"
   ]
  },
  {
   "cell_type": "code",
   "execution_count": null,
   "metadata": {},
   "outputs": [],
   "source": [
    "subj_model.plot_priors();"
   ]
  },
  {
   "cell_type": "code",
   "execution_count": null,
   "metadata": {},
   "outputs": [],
   "source": [
    "az.plot_trace(subj_fitted);"
   ]
  },
  {
   "cell_type": "code",
   "execution_count": null,
   "metadata": {},
   "outputs": [],
   "source": [
    "az.summary(subj_fitted)"
   ]
  },
  {
   "cell_type": "code",
   "execution_count": null,
   "metadata": {},
   "outputs": [],
   "source": [
    "stim_model = bmb.Model(\n",
    "    \"rate ~ S(race) * S(object) + (S(race) * S(object) | subject) + (S(object) | target)\",\n",
    "    shooter,\n",
    "    dropna=True,\n",
    ")\n",
    "stim_fitted = stim_model.fit(random_seed=SEED)"
   ]
  },
  {
   "cell_type": "code",
   "execution_count": null,
   "metadata": {},
   "outputs": [],
   "source": [
    "az.plot_trace(stim_fitted);"
   ]
  },
  {
   "cell_type": "code",
   "execution_count": null,
   "metadata": {},
   "outputs": [],
   "source": [
    "az.summary(stim_fitted)"
   ]
  },
  {
   "cell_type": "code",
   "execution_count": null,
   "metadata": {},
   "outputs": [],
   "source": [
    "shooter[\"shoot_or_not\"] = shooter[\"response\"].astype(str)\n",
    "\n",
    "# armed targets\n",
    "new_values = {\"correct\": \"shoot\", \"incorrect\": \"dontshoot\", \"timeout\": np.nan}\n",
    "shooter.loc[shooter[\"object\"] == \"gun\", \"shoot_or_not\"] = (\n",
    "    shooter.loc[shooter[\"object\"] == \"gun\", \"response\"].astype(str).replace(new_values)\n",
    ")\n",
    "\n",
    "# unarmed targets\n",
    "new_values = {\"correct\": \"dontshoot\", \"incorrect\": \"shoot\", \"timeout\": np.nan}\n",
    "shooter.loc[shooter[\"object\"] == \"nogun\", \"shoot_or_not\"] = (\n",
    "    shooter.loc[shooter[\"object\"] == \"nogun\", \"response\"]\n",
    "    .astype(str)\n",
    "    .replace(new_values)\n",
    ")\n",
    "\n",
    "# view result\n",
    "shooter.head(20)"
   ]
  },
  {
   "cell_type": "code",
   "execution_count": null,
   "metadata": {},
   "outputs": [],
   "source": [
    "stim_response_model = bmb.Model(\n",
    "    \"shoot_or_not[shoot] ~ S(race)*S(object) + (S(race)*S(object) | subject) + (S(object) | target)\",\n",
    "    shooter,\n",
    "    family=\"bernoulli\",\n",
    "    dropna=True,\n",
    ")\n",
    "\n",
    "# Note we increased target_accept from default 0.8 to 0.9 because there were divergences\n",
    "stim_response_fitted = stim_response_model.fit(\n",
    "    draws=2000, target_accept=0.9, random_seed=SEED\n",
    ")"
   ]
  },
  {
   "cell_type": "code",
   "execution_count": null,
   "metadata": {},
   "outputs": [],
   "source": [
    "az.plot_trace(stim_response_fitted);"
   ]
  },
  {
   "cell_type": "code",
   "execution_count": null,
   "metadata": {},
   "outputs": [],
   "source": [
    "az.summary(stim_response_fitted)"
   ]
  },
  {
   "cell_type": "code",
   "execution_count": null,
   "metadata": {},
   "outputs": [],
   "source": [
    "(stim_response_fitted.posterior[\"S(race)\"] < 0).mean()"
   ]
  }
 ],
 "metadata": {
  "language_info": {
   "codemirror_mode": {
    "name": "ipython",
    "version": 3
   },
   "file_extension": ".py",
   "mimetype": "text/x-python",
   "name": "python",
   "nbconvert_exporter": "python",
   "pygments_lexer": "ipython3",
   "version": "3.13.1"
  }
 },
 "nbformat": 4,
 "nbformat_minor": 2
}
