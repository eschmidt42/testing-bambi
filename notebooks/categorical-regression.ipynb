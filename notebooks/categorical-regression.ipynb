{
 "cells": [
  {
   "cell_type": "markdown",
   "metadata": {},
   "source": [
    "Based on https://bambinos.github.io/bambi/notebooks/categorical_regression.html"
   ]
  },
  {
   "cell_type": "code",
   "execution_count": null,
   "metadata": {},
   "outputs": [],
   "source": [
    "import arviz as az\n",
    "import bambi as bmb\n",
    "import matplotlib.pyplot as plt\n",
    "import numpy as np\n",
    "import pandas as pd\n",
    "import seaborn as sns\n",
    "import warnings\n",
    "\n",
    "from matplotlib.lines import Line2D\n",
    "\n",
    "warnings.simplefilter(action=\"ignore\", category=FutureWarning)"
   ]
  },
  {
   "cell_type": "code",
   "execution_count": null,
   "metadata": {},
   "outputs": [],
   "source": [
    "SEED = 1234\n",
    "az.style.use(\"arviz-darkgrid\")"
   ]
  },
  {
   "cell_type": "code",
   "execution_count": null,
   "metadata": {},
   "outputs": [],
   "source": [
    "rng = np.random.default_rng(SEED)\n",
    "x = np.hstack(\n",
    "    [rng.normal(m, s, size=50) for m, s in zip([-2.5, 0, 2.5], [1.2, 0.5, 1.2])]\n",
    ")\n",
    "y = np.array([\"A\"] * 50 + [\"B\"] * 50 + [\"C\"] * 50)\n",
    "\n",
    "colors = [\"C0\"] * 50 + [\"C1\"] * 50 + [\"C2\"] * 50\n",
    "plt.scatter(x, np.random.uniform(size=150), color=colors)\n",
    "plt.xlabel(\"x\")\n",
    "plt.ylabel(\"y\");"
   ]
  },
  {
   "cell_type": "code",
   "execution_count": null,
   "metadata": {},
   "outputs": [],
   "source": [
    "data = pd.DataFrame({\"y\": y, \"x\": x})\n",
    "model = bmb.Model(\"y ~ x\", data, family=\"categorical\")\n",
    "idata = model.fit()"
   ]
  },
  {
   "cell_type": "code",
   "execution_count": null,
   "metadata": {},
   "outputs": [],
   "source": [
    "x_new = np.linspace(-5, 5, num=200)\n",
    "model.predict(idata, data=pd.DataFrame({\"x\": x_new}))\n",
    "p = idata.posterior[\"p\"].sel(draw=slice(0, None, 10))\n",
    "\n",
    "for j, g in enumerate(\"ABC\"):\n",
    "    plt.plot(\n",
    "        x_new,\n",
    "        p.sel({\"y_dim\": g}).stack(samples=(\"chain\", \"draw\")),\n",
    "        color=f\"C{j}\",\n",
    "        alpha=0.2,\n",
    "    )\n",
    "\n",
    "plt.xlabel(\"x\")\n",
    "plt.ylabel(\"y\");"
   ]
  },
  {
   "cell_type": "code",
   "execution_count": null,
   "metadata": {},
   "outputs": [],
   "source": [
    "iris = sns.load_dataset(\"iris\")\n",
    "iris.head(3)"
   ]
  },
  {
   "cell_type": "code",
   "execution_count": null,
   "metadata": {},
   "outputs": [],
   "source": [
    "sns.pairplot(iris, hue=\"species\");"
   ]
  },
  {
   "cell_type": "code",
   "execution_count": null,
   "metadata": {},
   "outputs": [],
   "source": [
    "model = bmb.Model(\n",
    "    \"species ~ sepal_length + sepal_width + petal_length + petal_width\",\n",
    "    iris,\n",
    "    family=\"categorical\",\n",
    ")\n",
    "idata = model.fit()\n",
    "az.summary(idata)"
   ]
  },
  {
   "cell_type": "code",
   "execution_count": null,
   "metadata": {},
   "outputs": [],
   "source": [
    "az.plot_trace(idata);"
   ]
  },
  {
   "cell_type": "code",
   "execution_count": null,
   "metadata": {},
   "outputs": [],
   "source": [
    "length = [\n",
    "    1.3,\n",
    "    1.32,\n",
    "    1.32,\n",
    "    1.4,\n",
    "    1.42,\n",
    "    1.42,\n",
    "    1.47,\n",
    "    1.47,\n",
    "    1.5,\n",
    "    1.52,\n",
    "    1.63,\n",
    "    1.65,\n",
    "    1.65,\n",
    "    1.65,\n",
    "    1.65,\n",
    "    1.68,\n",
    "    1.7,\n",
    "    1.73,\n",
    "    1.78,\n",
    "    1.78,\n",
    "    1.8,\n",
    "    1.85,\n",
    "    1.93,\n",
    "    1.93,\n",
    "    1.98,\n",
    "    2.03,\n",
    "    2.03,\n",
    "    2.31,\n",
    "    2.36,\n",
    "    2.46,\n",
    "    3.25,\n",
    "    3.28,\n",
    "    3.33,\n",
    "    3.56,\n",
    "    3.58,\n",
    "    3.66,\n",
    "    3.68,\n",
    "    3.71,\n",
    "    3.89,\n",
    "    1.24,\n",
    "    1.3,\n",
    "    1.45,\n",
    "    1.45,\n",
    "    1.55,\n",
    "    1.6,\n",
    "    1.6,\n",
    "    1.65,\n",
    "    1.78,\n",
    "    1.78,\n",
    "    1.8,\n",
    "    1.88,\n",
    "    2.16,\n",
    "    2.26,\n",
    "    2.31,\n",
    "    2.36,\n",
    "    2.39,\n",
    "    2.41,\n",
    "    2.44,\n",
    "    2.56,\n",
    "    2.67,\n",
    "    2.72,\n",
    "    2.79,\n",
    "    2.84,\n",
    "]\n",
    "choice = [\n",
    "    \"I\",\n",
    "    \"F\",\n",
    "    \"F\",\n",
    "    \"F\",\n",
    "    \"I\",\n",
    "    \"F\",\n",
    "    \"I\",\n",
    "    \"F\",\n",
    "    \"I\",\n",
    "    \"I\",\n",
    "    \"I\",\n",
    "    \"O\",\n",
    "    \"O\",\n",
    "    \"I\",\n",
    "    \"F\",\n",
    "    \"F\",\n",
    "    \"I\",\n",
    "    \"O\",\n",
    "    \"F\",\n",
    "    \"O\",\n",
    "    \"F\",\n",
    "    \"F\",\n",
    "    \"I\",\n",
    "    \"F\",\n",
    "    \"I\",\n",
    "    \"F\",\n",
    "    \"F\",\n",
    "    \"F\",\n",
    "    \"F\",\n",
    "    \"F\",\n",
    "    \"O\",\n",
    "    \"O\",\n",
    "    \"F\",\n",
    "    \"F\",\n",
    "    \"F\",\n",
    "    \"F\",\n",
    "    \"O\",\n",
    "    \"F\",\n",
    "    \"F\",\n",
    "    \"I\",\n",
    "    \"I\",\n",
    "    \"I\",\n",
    "    \"O\",\n",
    "    \"I\",\n",
    "    \"I\",\n",
    "    \"I\",\n",
    "    \"F\",\n",
    "    \"I\",\n",
    "    \"O\",\n",
    "    \"I\",\n",
    "    \"I\",\n",
    "    \"F\",\n",
    "    \"F\",\n",
    "    \"F\",\n",
    "    \"F\",\n",
    "    \"F\",\n",
    "    \"F\",\n",
    "    \"F\",\n",
    "    \"O\",\n",
    "    \"F\",\n",
    "    \"I\",\n",
    "    \"F\",\n",
    "    \"F\",\n",
    "]\n",
    "\n",
    "sex = [\"Male\"] * 32 + [\"Female\"] * 31\n",
    "data = pd.DataFrame({\"choice\": choice, \"length\": length, \"sex\": sex})\n",
    "data[\"choice\"] = pd.Categorical(\n",
    "    data[\"choice\"].map({\"I\": \"Invertebrates\", \"F\": \"Fish\", \"O\": \"Other\"}),\n",
    "    [\"Other\", \"Invertebrates\", \"Fish\"],\n",
    "    ordered=True,\n",
    ")\n",
    "data.head(3)"
   ]
  },
  {
   "cell_type": "code",
   "execution_count": null,
   "metadata": {},
   "outputs": [],
   "source": [
    "model = bmb.Model(\"choice ~ length + sex\", data, family=\"categorical\")\n",
    "idata = model.fit()"
   ]
  },
  {
   "cell_type": "code",
   "execution_count": null,
   "metadata": {},
   "outputs": [],
   "source": [
    "bmb.interpret.plot_predictions(\n",
    "    model,\n",
    "    idata,\n",
    "    [\"length\", \"sex\"],\n",
    "    subplot_kwargs={\"main\": \"length\", \"group\": \"estimate_dim\", \"panel\": \"sex\"},\n",
    "    fig_kwargs={\"figsize\": (12, 4)},\n",
    "    legend=True,\n",
    ");"
   ]
  },
  {
   "cell_type": "code",
   "execution_count": null,
   "metadata": {},
   "outputs": [],
   "source": [
    "model.predict(idata, kind=\"pps\")\n",
    "\n",
    "ax = az.plot_ppc(idata)\n",
    "ax.set_xticks([0.5, 1.5, 2.5])\n",
    "ax.set_xticklabels(model.response_component.term.levels)\n",
    "ax.set_xlabel(\"Choice\")\n",
    "ax.set_ylabel(\"Probability\");"
   ]
  },
  {
   "cell_type": "code",
   "execution_count": null,
   "metadata": {},
   "outputs": [],
   "source": []
  }
 ],
 "metadata": {
  "language_info": {
   "codemirror_mode": {
    "name": "ipython",
    "version": 3
   },
   "file_extension": ".py",
   "mimetype": "text/x-python",
   "name": "python",
   "nbconvert_exporter": "python",
   "pygments_lexer": "ipython3",
   "version": "3.13.1"
  }
 },
 "nbformat": 4,
 "nbformat_minor": 2
}
