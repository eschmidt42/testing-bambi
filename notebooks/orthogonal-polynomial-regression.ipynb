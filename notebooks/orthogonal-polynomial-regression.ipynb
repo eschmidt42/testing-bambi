{
 "cells": [
  {
   "cell_type": "markdown",
   "metadata": {},
   "source": [
    "Based on https://bambinos.github.io/bambi/notebooks/orthogonal_polynomial_reg.html"
   ]
  },
  {
   "cell_type": "code",
   "execution_count": null,
   "metadata": {},
   "outputs": [],
   "source": [
    "import arviz as az\n",
    "import bambi as bmb\n",
    "import formulae\n",
    "import matplotlib.pyplot as plt\n",
    "import numpy as np\n",
    "import pandas as pd\n",
    "import scipy\n",
    "import seaborn as sns\n",
    "from typing import Optional\n",
    "\n",
    "plt.style.use(\"arviz-darkgrid\")\n",
    "SEED = 1234\n",
    "np.random.seed(SEED)"
   ]
  },
  {
   "cell_type": "code",
   "execution_count": null,
   "metadata": {},
   "outputs": [],
   "source": [
    "# Temporary fix to make outputs cleaner\n",
    "import warnings\n",
    "\n",
    "warnings.filterwarnings(\"ignore\")"
   ]
  },
  {
   "cell_type": "code",
   "execution_count": null,
   "metadata": {},
   "outputs": [],
   "source": [
    "df_mpg = sns.load_dataset(\"mpg\")\n",
    "df_mpg.head()"
   ]
  },
  {
   "cell_type": "code",
   "execution_count": null,
   "metadata": {},
   "outputs": [],
   "source": [
    "df_mpg = df_mpg.dropna(subset=[\"horsepower\", \"mpg\"])\n",
    "\n",
    "\n",
    "plt.figure(figsize=(14, 6))\n",
    "plt.subplot(1, 2, 1)\n",
    "sns.regplot(data=df_mpg, x=\"horsepower\", y=\"mpg\", line_kws={\"color\": \"firebrick\"})\n",
    "\n",
    "plt.subplot(1, 2, 2)\n",
    "sns.histplot(df_mpg[\"mpg\"], edgecolor=\"black\", kde=True)\n",
    "plt.xlabel(\"MPG\")\n",
    "plt.ylabel(\"Count\")\n",
    "plt.title(\"Histogram of MPG\")\n",
    "\n",
    "plt.tight_layout()\n",
    "plt.show()"
   ]
  },
  {
   "cell_type": "code",
   "execution_count": null,
   "metadata": {},
   "outputs": [],
   "source": [
    "mpg_hp_linear_mod = bmb.Model(\"mpg ~ horsepower\", df_mpg)\n",
    "mpg_hp_linear_fit = mpg_hp_linear_mod.fit(\n",
    "    idata_kwargs={\"log_likelihood\": True}, random_seed=SEED\n",
    ")\n",
    "mpg_hp_linear_mod.predict(mpg_hp_linear_fit, kind=\"response\")"
   ]
  },
  {
   "cell_type": "code",
   "execution_count": null,
   "metadata": {},
   "outputs": [],
   "source": [
    "fig = plt.figure()\n",
    "for p in [0.68, 0.95]:\n",
    "    bmb.interpret.plot_predictions(\n",
    "        mpg_hp_linear_mod,\n",
    "        mpg_hp_linear_fit,\n",
    "        \"horsepower\",\n",
    "        pps=True,\n",
    "        legend=True,\n",
    "        prob=p,\n",
    "        ax=plt.gca(),\n",
    "    )\n",
    "sns.scatterplot(data=df_mpg, x=\"horsepower\", y=\"mpg\", color=\"blue\", label=\"True Data\");"
   ]
  },
  {
   "cell_type": "code",
   "execution_count": null,
   "metadata": {},
   "outputs": [],
   "source": [
    "predicted_mpg = mpg_hp_linear_fit.posterior[\"mu\"].mean((\"chain\", \"draw\"))\n",
    "residuals = df_mpg[\"mpg\"] - predicted_mpg\n",
    "sns.scatterplot(data=df_mpg, x=\"horsepower\", y=residuals)\n",
    "plt.axhline(0, color=\"black\", lw=2)\n",
    "plt.ylabel(\"Residuals\")\n",
    "plt.title(\"Residuals for linear model\")"
   ]
  },
  {
   "cell_type": "code",
   "execution_count": null,
   "metadata": {},
   "outputs": [],
   "source": [
    "mpg_hp_sq_mod = bmb.Model(\"mpg ~ poly(horsepower, 2)\", df_mpg)\n",
    "mpg_hp_sq_fit = mpg_hp_sq_mod.fit(\n",
    "    idata_kwargs={\"log_likelihood\": True}, random_seed=SEED\n",
    ")\n",
    "mpg_hp_sq_mod.predict(mpg_hp_sq_fit, kind=\"response\")"
   ]
  },
  {
   "cell_type": "code",
   "execution_count": null,
   "metadata": {},
   "outputs": [],
   "source": [
    "fig = plt.figure()\n",
    "for p in [0.68, 0.95]:\n",
    "    bmb.interpret.plot_predictions(\n",
    "        mpg_hp_sq_mod,\n",
    "        mpg_hp_sq_fit,\n",
    "        \"horsepower\",\n",
    "        pps=True,\n",
    "        legend=True,\n",
    "        prob=p,\n",
    "        ax=plt.gca(),\n",
    "    )\n",
    "sns.scatterplot(data=df_mpg, x=\"horsepower\", y=\"mpg\", color=\"blue\", label=\"True Data\")\n",
    "plt.title(\"Quadratic Fit\")"
   ]
  },
  {
   "cell_type": "code",
   "execution_count": null,
   "metadata": {},
   "outputs": [],
   "source": [
    "predicted_mpg = mpg_hp_sq_fit.posterior[\"mu\"].mean((\"chain\", \"draw\"))\n",
    "residuals = df_mpg[\"mpg\"] - predicted_mpg\n",
    "sns.scatterplot(data=df_mpg, x=\"horsepower\", y=residuals)\n",
    "plt.axhline(0, color=\"black\", lw=2)\n",
    "plt.ylabel(\"Residuals\")\n",
    "plt.title(\"Residuals for quadratic model\")"
   ]
  },
  {
   "cell_type": "code",
   "execution_count": null,
   "metadata": {},
   "outputs": [],
   "source": [
    "az.compare({\"Linear\": mpg_hp_linear_fit, \"Quadratic\": mpg_hp_sq_fit})"
   ]
  },
  {
   "cell_type": "code",
   "execution_count": null,
   "metadata": {},
   "outputs": [],
   "source": [
    "poly_fits, poly_models = {}, {}\n",
    "for degree in range(1, 10):\n",
    "    model = bmb.Model(f\"mpg ~ poly(horsepower, {degree})\", df_mpg)\n",
    "    fit = model.fit(\n",
    "        idata_kwargs={\"log_likelihood\": True}, random_seed=SEED, progressbar=False\n",
    "    )\n",
    "    poly_models[f\"Poly{degree}\"] = model\n",
    "    poly_fits[f\"Poly{degree}\"] = fit\n",
    "\n",
    "cmp = az.compare(poly_fits)\n",
    "cmp"
   ]
  },
  {
   "cell_type": "code",
   "execution_count": null,
   "metadata": {},
   "outputs": [],
   "source": [
    "ax = az.plot_compare(cmp, figsize=(12, 4), plot_ic_diff=False, legend=False)\n",
    "best_loo = cmp[\"elpd_loo\"].iloc[0]\n",
    "ax.axvspan(best_loo - 4, best_loo, color=\"C0\", alpha=0.2);"
   ]
  },
  {
   "cell_type": "code",
   "execution_count": null,
   "metadata": {},
   "outputs": [],
   "source": [
    "best_model = poly_models[\"Poly7\"]\n",
    "best_fit = poly_fits[\"Poly7\"]\n",
    "best_model.predict(best_fit, kind=\"response\")\n",
    "\n",
    "predicted_mpg = best_fit.posterior[\"mu\"].mean((\"chain\", \"draw\"))\n",
    "residuals = df_mpg[\"mpg\"] - predicted_mpg\n",
    "sns.scatterplot(data=df_mpg, x=\"horsepower\", y=residuals)\n",
    "plt.axhline(0, color=\"black\", lw=2)\n",
    "plt.ylabel(\"Residuals\")\n",
    "plt.title(\"Residuals for degree 7 model\");"
   ]
  },
  {
   "cell_type": "code",
   "execution_count": null,
   "metadata": {},
   "outputs": [],
   "source": [
    "fig = plt.figure()\n",
    "for p in [0.68, 0.95]:\n",
    "    bmb.interpret.plot_predictions(\n",
    "        best_model, best_fit, \"horsepower\", pps=True, legend=True, prob=p, ax=plt.gca()\n",
    "    )\n",
    "sns.scatterplot(data=df_mpg, x=\"horsepower\", y=\"mpg\", color=\"blue\", label=\"True Data\")\n",
    "plt.title(\"Best Fit Model: 7th Degree Polynomial\");"
   ]
  },
  {
   "cell_type": "code",
   "execution_count": null,
   "metadata": {},
   "outputs": [],
   "source": [
    "extrapolate_x_hp = np.linspace(0, 500, 250)\n",
    "mpg_hp_sq_mod.predict(\n",
    "    mpg_hp_sq_fit, data=pd.DataFrame({\"horsepower\": extrapolate_x_hp})\n",
    ")\n",
    "\n",
    "sns.scatterplot(data=df_mpg, x=\"horsepower\", y=\"mpg\", color=\"blue\", label=\"True Data\")\n",
    "plt.plot(\n",
    "    extrapolate_x_hp,\n",
    "    mpg_hp_sq_fit.posterior[\"mu\"].mean((\"chain\", \"draw\")),\n",
    "    color=\"red\",\n",
    "    label=\"Extrapolated Fit\",\n",
    ")\n",
    "plt.xlim(left=0, right=extrapolate_x_hp.max())\n",
    "\n",
    "plt.legend(frameon=False)"
   ]
  },
  {
   "cell_type": "code",
   "execution_count": null,
   "metadata": {},
   "outputs": [],
   "source": [
    "mpg_hp_linear_mod.predict(\n",
    "    mpg_hp_linear_fit, data=pd.DataFrame({\"horsepower\": extrapolate_x_hp})\n",
    ")\n",
    "sns.scatterplot(data=df_mpg, x=\"horsepower\", y=\"mpg\", color=\"blue\", label=\"True Data\")\n",
    "\n",
    "plt.plot(\n",
    "    extrapolate_x_hp,\n",
    "    mpg_hp_linear_fit.posterior[\"mu\"].mean((\"chain\", \"draw\")),\n",
    "    color=\"red\",\n",
    "    label=\"Predicted\",\n",
    ")\n",
    "plt.fill_between(\n",
    "    extrapolate_x_hp,\n",
    "    plt.ylim()[0],\n",
    "    0,\n",
    "    color=\"grey\",\n",
    "    alpha=0.5,\n",
    "    label=\"MPG Forbidden region\",\n",
    ")\n",
    "plt.xlim(left=0, right=extrapolate_x_hp.max())\n",
    "plt.ylim(bottom=mpg_hp_linear_fit.posterior[\"mu\"].mean((\"chain\", \"draw\")).min())\n",
    "plt.legend(frameon=False);"
   ]
  },
  {
   "cell_type": "code",
   "execution_count": null,
   "metadata": {},
   "outputs": [],
   "source": [
    "extrapolate_x_hp = np.linspace(0, 300, 250)\n",
    "best_model.predict(best_fit, data=pd.DataFrame({\"horsepower\": extrapolate_x_hp}))\n",
    "\n",
    "sns.scatterplot(data=df_mpg, x=\"horsepower\", y=\"mpg\", color=\"blue\", label=\"True Data\")\n",
    "plt.plot(\n",
    "    extrapolate_x_hp,\n",
    "    best_fit.posterior[\"mu\"].mean((\"chain\", \"draw\")),\n",
    "    color=\"red\",\n",
    "    label=\"Extrapolated Fit\",\n",
    ")\n",
    "plt.fill_between(\n",
    "    extrapolate_x_hp,\n",
    "    plt.ylim()[0],\n",
    "    0,\n",
    "    color=\"grey\",\n",
    "    alpha=0.5,\n",
    "    label=\"MPG Forbidden region\",\n",
    ")\n",
    "\n",
    "plt.xlim(left=0, right=extrapolate_x_hp.max())\n",
    "plt.ylim(bottom=best_fit.posterior[\"mu\"].mean((\"chain\", \"draw\")).min())\n",
    "plt.legend(frameon=False);"
   ]
  },
  {
   "cell_type": "code",
   "execution_count": null,
   "metadata": {},
   "outputs": [],
   "source": []
  }
 ],
 "metadata": {
  "language_info": {
   "codemirror_mode": {
    "name": "ipython",
    "version": 3
   },
   "file_extension": ".py",
   "mimetype": "text/x-python",
   "name": "python",
   "nbconvert_exporter": "python",
   "pygments_lexer": "ipython3",
   "version": "3.13.1"
  }
 },
 "nbformat": 4,
 "nbformat_minor": 2
}
