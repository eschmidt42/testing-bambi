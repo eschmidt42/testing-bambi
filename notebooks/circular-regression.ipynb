{
 "cells": [
  {
   "cell_type": "markdown",
   "metadata": {},
   "source": [
    "Based on https://bambinos.github.io/bambi/notebooks/circular_regression.html"
   ]
  },
  {
   "cell_type": "code",
   "execution_count": null,
   "metadata": {},
   "outputs": [],
   "source": [
    "import arviz as az\n",
    "import bambi as bmb\n",
    "import matplotlib.pyplot as plt\n",
    "import numpy as np\n",
    "import pandas as pd\n",
    "\n",
    "from matplotlib.lines import Line2D\n",
    "from scipy import stats"
   ]
  },
  {
   "cell_type": "code",
   "execution_count": null,
   "metadata": {},
   "outputs": [],
   "source": [
    "az.style.use(\"arviz-white\")"
   ]
  },
  {
   "cell_type": "code",
   "execution_count": null,
   "metadata": {},
   "outputs": [],
   "source": [
    "x = np.linspace(-np.pi, np.pi, 200)\n",
    "mus = [0.0, 0.0, 0.0, -2.5]\n",
    "kappas = [0.001, 0.5, 3, 0.5]\n",
    "for mu, kappa in zip(mus, kappas):\n",
    "    pdf = stats.vonmises.pdf(x, kappa, loc=mu)\n",
    "    plt.plot(x, pdf, label=r\"$\\mu$ = {}, $\\kappa$ = {}\".format(mu, kappa))\n",
    "plt.yticks([])\n",
    "plt.legend(loc=1);"
   ]
  },
  {
   "cell_type": "code",
   "execution_count": null,
   "metadata": {},
   "outputs": [],
   "source": [
    "u = np.linspace(-12, 12, 200)\n",
    "plt.plot(u, 2 * np.arctan(u))\n",
    "plt.xlabel(\"Reals\")\n",
    "plt.ylabel(\"Radians\");"
   ]
  },
  {
   "cell_type": "code",
   "execution_count": null,
   "metadata": {},
   "outputs": [],
   "source": [
    "data = bmb.load_data(\"periwinkles\")\n",
    "data.head()"
   ]
  },
  {
   "cell_type": "code",
   "execution_count": null,
   "metadata": {},
   "outputs": [],
   "source": [
    "model_vm = bmb.Model(\"direction ~ distance\", data, family=\"vonmises\")\n",
    "idata_vm = model_vm.fit(include_response_params=True)\n",
    "\n",
    "model_n = bmb.Model(\"direction ~ distance\", data)\n",
    "idata_n = model_n.fit(include_response_params=True)"
   ]
  },
  {
   "cell_type": "code",
   "execution_count": null,
   "metadata": {},
   "outputs": [],
   "source": [
    "az.summary(idata_vm, var_names=[\"~mu\"])"
   ]
  },
  {
   "cell_type": "code",
   "execution_count": null,
   "metadata": {},
   "outputs": [],
   "source": [
    "_, ax = plt.subplots(1, 2, figsize=(8, 4), sharey=True)\n",
    "posterior_mean = bmb.families.link.tan_2(idata_vm.posterior[\"mu\"])\n",
    "ax[0].plot(data.distance, posterior_mean.mean((\"chain\", \"draw\")))\n",
    "az.plot_hdi(data.distance, posterior_mean, ax=ax[0])\n",
    "\n",
    "ax[0].plot(data.distance, data.direction, \"k.\")\n",
    "ax[0].set_xlabel(\"Distance travelled (in m)\")\n",
    "ax[0].set_ylabel(\"Direction of travel (radians)\")\n",
    "ax[0].set_title(\"VonMises Family\")\n",
    "\n",
    "posterior_mean = idata_n.posterior[\"mu\"]\n",
    "ax[1].plot(data.distance, posterior_mean.mean((\"chain\", \"draw\")))\n",
    "az.plot_hdi(data.distance, posterior_mean, ax=ax[1])\n",
    "\n",
    "ax[1].plot(data.distance, data.direction, \"k.\")\n",
    "ax[1].set_xlabel(\"Distance travelled (in m)\")\n",
    "ax[1].set_title(\"Normal Family\");"
   ]
  },
  {
   "cell_type": "code",
   "execution_count": null,
   "metadata": {},
   "outputs": [],
   "source": [
    "fig = plt.figure(figsize=(12, 5))\n",
    "ax0 = plt.subplot(121)\n",
    "ax1 = plt.subplot(122, projection=\"polar\")\n",
    "\n",
    "model_vm.predict(idata_vm, kind=\"response\")\n",
    "pp_samples = az.extract_dataset(\n",
    "    idata_vm, group=\"posterior_predictive\", num_samples=200\n",
    ")[\"direction\"]\n",
    "colors = [\"C0\", \"k\", \"C1\"]\n",
    "\n",
    "for ax, circ in zip((ax0, ax1), (False, \"radians\", colors)):\n",
    "    for s in pp_samples:\n",
    "        az.plot_kde(\n",
    "            s.values,\n",
    "            plot_kwargs={\"color\": colors[0], \"alpha\": 0.25},\n",
    "            is_circular=circ,\n",
    "            ax=ax,\n",
    "        )\n",
    "    az.plot_kde(\n",
    "        idata_vm.observed_data[\"direction\"].values,\n",
    "        plot_kwargs={\"color\": colors[1], \"lw\": 3},\n",
    "        is_circular=circ,\n",
    "        ax=ax,\n",
    "    )\n",
    "    az.plot_kde(\n",
    "        idata_vm.posterior_predictive[\"direction\"].values,\n",
    "        plot_kwargs={\"color\": colors[2], \"ls\": \"--\", \"lw\": 3},\n",
    "        is_circular=circ,\n",
    "        ax=ax,\n",
    "    )\n",
    "\n",
    "custom_lines = [Line2D([0], [0], color=c) for c in colors]\n",
    "\n",
    "ax0.legend(\n",
    "    custom_lines, [\"posterior_predictive\", \"Observed\", \"mean posterior predictive\"]\n",
    ")\n",
    "ax0.set_yticks([])\n",
    "fig.suptitle(\"Directions (radians)\", fontsize=18);"
   ]
  },
  {
   "cell_type": "code",
   "execution_count": null,
   "metadata": {},
   "outputs": [],
   "source": []
  }
 ],
 "metadata": {
  "language_info": {
   "codemirror_mode": {
    "name": "ipython",
    "version": 3
   },
   "file_extension": ".py",
   "mimetype": "text/x-python",
   "name": "python",
   "nbconvert_exporter": "python",
   "pygments_lexer": "ipython3",
   "version": "3.13.1"
  }
 },
 "nbformat": 4,
 "nbformat_minor": 2
}
