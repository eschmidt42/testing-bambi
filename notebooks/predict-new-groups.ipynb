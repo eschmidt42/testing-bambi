{
 "cells": [
  {
   "cell_type": "markdown",
   "metadata": {},
   "source": [
    "Based on https://bambinos.github.io/bambi/notebooks/predict_new_groups.html"
   ]
  },
  {
   "cell_type": "code",
   "execution_count": null,
   "metadata": {},
   "outputs": [],
   "source": [
    "import arviz as az\n",
    "import matplotlib.pyplot as plt\n",
    "import numpy as np\n",
    "import pandas as pd\n",
    "import warnings\n",
    "\n",
    "import bambi as bmb\n",
    "\n",
    "warnings.simplefilter(action=\"ignore\", category=FutureWarning)"
   ]
  },
  {
   "cell_type": "code",
   "execution_count": null,
   "metadata": {},
   "outputs": [],
   "source": [
    "data = pd.read_csv(\n",
    "    \"https://gist.githubusercontent.com/ucals/\"\n",
    "    \"2cf9d101992cb1b78c2cdd6e3bac6a4b/raw/\"\n",
    "    \"43034c39052dcf97d4b894d2ec1bc3f90f3623d9/\"\n",
    "    \"osic_pulmonary_fibrosis.csv\"\n",
    ")\n",
    "\n",
    "data.columns = data.columns.str.lower()\n",
    "data.columns = data.columns.str.replace(\"smokingstatus\", \"smoking_status\")\n",
    "data"
   ]
  },
  {
   "cell_type": "code",
   "execution_count": null,
   "metadata": {},
   "outputs": [],
   "source": [
    "def label_encoder(labels):\n",
    "    \"\"\"\n",
    "    Encode patient IDs as integers.\n",
    "    \"\"\"\n",
    "    unique_labels = np.unique(labels)\n",
    "    label_to_index = {label: index for index, label in enumerate(unique_labels)}\n",
    "    encoded_labels = labels.map(label_to_index)\n",
    "    return encoded_labels"
   ]
  },
  {
   "cell_type": "code",
   "execution_count": null,
   "metadata": {},
   "outputs": [],
   "source": [
    "predictors = [\"patient\", \"weeks\", \"fvc\", \"smoking_status\"]\n",
    "\n",
    "data[\"patient\"] = label_encoder(data[\"patient\"])\n",
    "\n",
    "data[\"weeks\"] = (data[\"weeks\"] - data[\"weeks\"].min()) / (\n",
    "    data[\"weeks\"].max() - data[\"weeks\"].min()\n",
    ")\n",
    "data[\"fvc\"] = (data[\"fvc\"] - data[\"fvc\"].min()) / (\n",
    "    data[\"fvc\"].max() - data[\"fvc\"].min()\n",
    ")\n",
    "\n",
    "data = data[predictors]"
   ]
  },
  {
   "cell_type": "code",
   "execution_count": null,
   "metadata": {},
   "outputs": [],
   "source": [
    "patient_id = data.sample(n=3, random_state=42)[\"patient\"].values\n",
    "\n",
    "fig, ax = plt.subplots(1, 3, figsize=(12, 3), sharey=True)\n",
    "for i, p in enumerate(patient_id):\n",
    "    patient_data = data[data[\"patient\"] == p]\n",
    "    ax[i].scatter(patient_data[\"weeks\"], patient_data[\"fvc\"])\n",
    "    ax[i].set_xlabel(\"weeks\")\n",
    "    ax[i].set_ylabel(\"fvc\")\n",
    "    ax[i].set_title(f\"patient {p}\")\n",
    "\n",
    "plt.tight_layout()"
   ]
  },
  {
   "cell_type": "code",
   "execution_count": null,
   "metadata": {},
   "outputs": [],
   "source": [
    "priors = {\n",
    "    \"weeks|patient\": bmb.Prior(\n",
    "        \"Normal\", mu=0, sigma=bmb.Prior(\"Gamma\", alpha=3, beta=3)\n",
    "    ),\n",
    "}\n",
    "\n",
    "model = bmb.Model(\n",
    "    \"fvc ~ 0 + weeks + smoking_status + (0 + weeks | patient)\",\n",
    "    data,\n",
    "    priors=priors,\n",
    "    categorical=[\"patient\", \"smoking_status\"],\n",
    ")\n",
    "model.build()\n",
    "model.graph()"
   ]
  },
  {
   "cell_type": "code",
   "execution_count": null,
   "metadata": {},
   "outputs": [],
   "source": [
    "idata = model.fit(\n",
    "    draws=1500,\n",
    "    tune=1000,\n",
    "    target_accept=0.95,\n",
    "    chains=4,\n",
    "    random_seed=42,\n",
    ")"
   ]
  },
  {
   "cell_type": "code",
   "execution_count": null,
   "metadata": {},
   "outputs": [],
   "source": [
    "az.plot_trace(idata)\n",
    "plt.tight_layout();"
   ]
  },
  {
   "cell_type": "code",
   "execution_count": null,
   "metadata": {},
   "outputs": [],
   "source": [
    "az.summary(idata, var_names=[\"weeks\", \"smoking_status\", \"sigma\", \"weeks|patient_sigma\"])"
   ]
  },
  {
   "cell_type": "code",
   "execution_count": null,
   "metadata": {},
   "outputs": [],
   "source": [
    "preds = model.predict(idata, kind=\"response_params\", inplace=False)\n",
    "fvc_mean = az.extract(preds[\"posterior\"])[\"mu\"]"
   ]
  },
  {
   "cell_type": "code",
   "execution_count": null,
   "metadata": {},
   "outputs": [],
   "source": [
    "# plot posterior predictions\n",
    "fig, ax = plt.subplots(1, 3, figsize=(12, 3), sharey=True)\n",
    "for i, p in enumerate(patient_id):\n",
    "    idx = data.index[data[\"patient\"] == p].tolist()\n",
    "    weeks = data.loc[idx, \"weeks\"].values\n",
    "    fvc = data.loc[idx, \"fvc\"].values\n",
    "\n",
    "    ax[i].scatter(weeks, fvc)\n",
    "    az.plot_hdi(weeks, fvc_mean[idx].T, color=\"C0\", ax=ax[i])\n",
    "    ax[i].plot(weeks, fvc_mean[idx].mean(axis=1), color=\"C0\")\n",
    "\n",
    "    ax[i].set_xlabel(\"weeks\")\n",
    "    ax[i].set_ylabel(\"fvc\")\n",
    "    ax[i].set_title(f\"patient {p}\")\n",
    "\n",
    "plt.tight_layout()"
   ]
  },
  {
   "cell_type": "code",
   "execution_count": null,
   "metadata": {},
   "outputs": [],
   "source": [
    "# copy patient 39 data to the new patient 176\n",
    "patient_39 = data[data[\"patient\"] == 39].reset_index(drop=True)\n",
    "new_data = patient_39.copy()\n",
    "new_data[\"patient\"] = 176\n",
    "new_data = pd.concat([new_data, patient_39]).reset_index(drop=True)[predictors]\n",
    "new_data"
   ]
  },
  {
   "cell_type": "code",
   "execution_count": null,
   "metadata": {},
   "outputs": [],
   "source": [
    "preds = model.predict(\n",
    "    idata, kind=\"response_params\", data=new_data, sample_new_groups=True, inplace=False\n",
    ")"
   ]
  },
  {
   "cell_type": "code",
   "execution_count": null,
   "metadata": {},
   "outputs": [],
   "source": [
    "# utility func for plotting\n",
    "def plot_new_patient(idata, data, patient_ids):\n",
    "    fvc_mean = az.extract(idata[\"posterior\"])[\"mu\"]\n",
    "\n",
    "    fig, ax = plt.subplots(1, 2, figsize=(10, 3), sharey=True)\n",
    "    for i, p in enumerate(patient_ids):\n",
    "        idx = data.index[data[\"patient\"] == p].tolist()\n",
    "        weeks = data.loc[idx, \"weeks\"].values\n",
    "        fvc = data.loc[idx, \"fvc\"].values\n",
    "\n",
    "        if p == patient_ids[0]:\n",
    "            ax[i].scatter(weeks, fvc)\n",
    "\n",
    "        az.plot_hdi(weeks, fvc_mean[idx].T, color=\"C0\", ax=ax[i])\n",
    "        ax[i].plot(weeks, fvc_mean[idx].mean(axis=1), color=\"C0\")\n",
    "\n",
    "        ax[i].set_xlabel(\"weeks\")\n",
    "        ax[i].set_ylabel(\"fvc\")\n",
    "        ax[i].set_title(f\"patient {p}\")"
   ]
  },
  {
   "cell_type": "code",
   "execution_count": null,
   "metadata": {},
   "outputs": [],
   "source": [
    "plot_new_patient(preds, new_data, [39, 176])"
   ]
  },
  {
   "cell_type": "code",
   "execution_count": null,
   "metadata": {},
   "outputs": [],
   "source": [
    "new_data.loc[new_data[\"patient\"] == 176, \"smoking_status\"] = \"Currently smokes\"\n",
    "weeks = np.random.choice(sorted(model.data.weeks.unique()), size=10)\n",
    "new_data.loc[new_data[\"patient\"] == 176, \"weeks\"] = weeks\n",
    "new_data"
   ]
  },
  {
   "cell_type": "code",
   "execution_count": null,
   "metadata": {},
   "outputs": [],
   "source": [
    "preds = model.predict(\n",
    "    idata, kind=\"response_params\", data=new_data, sample_new_groups=True, inplace=False\n",
    ")"
   ]
  },
  {
   "cell_type": "code",
   "execution_count": null,
   "metadata": {},
   "outputs": [],
   "source": [
    "plot_new_patient(preds, new_data, [39, 176])"
   ]
  },
  {
   "cell_type": "code",
   "execution_count": null,
   "metadata": {},
   "outputs": [],
   "source": [
    "time_of_follow_up = list(new_data.query(\"patient == 39\")[\"weeks\"].values)\n",
    "time_of_follow_up"
   ]
  },
  {
   "cell_type": "code",
   "execution_count": null,
   "metadata": {},
   "outputs": [],
   "source": [
    "fig, ax = bmb.interpret.plot_comparisons(\n",
    "    model,\n",
    "    idata,\n",
    "    contrast={\"patient\": [39, 176]},\n",
    "    conditional={\"weeks\": time_of_follow_up, \"smoking_status\": \"Ex-smoker\"},\n",
    "    sample_new_groups=True,\n",
    "    fig_kwargs={\"figsize\": (7, 3)},\n",
    ")\n",
    "plt.title(\"Difference in predictions for patient 176 vs 39\");"
   ]
  },
  {
   "cell_type": "code",
   "execution_count": null,
   "metadata": {},
   "outputs": [],
   "source": []
  }
 ],
 "metadata": {
  "language_info": {
   "codemirror_mode": {
    "name": "ipython",
    "version": 3
   },
   "file_extension": ".py",
   "mimetype": "text/x-python",
   "name": "python",
   "nbconvert_exporter": "python",
   "pygments_lexer": "ipython3",
   "version": "3.13.1"
  }
 },
 "nbformat": 4,
 "nbformat_minor": 2
}
