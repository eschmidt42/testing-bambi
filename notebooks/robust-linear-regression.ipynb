{
 "cells": [
  {
   "cell_type": "markdown",
   "metadata": {},
   "source": [
    "Based on https://bambinos.github.io/bambi/notebooks/t_regression.html"
   ]
  },
  {
   "cell_type": "code",
   "execution_count": null,
   "metadata": {},
   "outputs": [],
   "source": [
    "import arviz as az\n",
    "import bambi as bmb\n",
    "import matplotlib.pyplot as plt\n",
    "import numpy as np\n",
    "import pandas as pd"
   ]
  },
  {
   "cell_type": "code",
   "execution_count": null,
   "metadata": {},
   "outputs": [],
   "source": [
    "az.style.use(\"arviz-darkgrid\")\n",
    "np.random.seed(1111)"
   ]
  },
  {
   "cell_type": "code",
   "execution_count": null,
   "metadata": {},
   "outputs": [],
   "source": [
    "size = 100\n",
    "true_intercept = 1\n",
    "true_slope = 2\n",
    "\n",
    "x = np.linspace(0, 1, size)\n",
    "# y = a + b*x\n",
    "true_regression_line = true_intercept + true_slope * x\n",
    "# add noise\n",
    "y = true_regression_line + np.random.normal(scale=0.5, size=size)\n",
    "\n",
    "# Add outliers\n",
    "x_out = np.append(x, [0.1, 0.15, 0.2])\n",
    "y_out = np.append(y, [8, 6, 9])\n",
    "\n",
    "data = pd.DataFrame({\"x\": x_out, \"y\": y_out})"
   ]
  },
  {
   "cell_type": "code",
   "execution_count": null,
   "metadata": {},
   "outputs": [],
   "source": [
    "fig = plt.figure(figsize=(7, 7))\n",
    "ax = fig.add_subplot(\n",
    "    111, xlabel=\"x\", ylabel=\"y\", title=\"Generated data and underlying model\"\n",
    ")\n",
    "ax.plot(x_out, y_out, \"x\", label=\"sampled data\")\n",
    "ax.plot(x, true_regression_line, label=\"true regression line\", lw=2.0)\n",
    "plt.legend(loc=0);"
   ]
  },
  {
   "cell_type": "code",
   "execution_count": null,
   "metadata": {},
   "outputs": [],
   "source": [
    "# Note, \"gaussian\" is the default argument for family. Added to be explicit.\n",
    "gauss_model = bmb.Model(\"y ~ x\", data, family=\"gaussian\")\n",
    "gauss_fitted = gauss_model.fit(draws=2000, idata_kwargs={\"log_likelihood\": True})\n",
    "gauss_model.predict(gauss_fitted, kind=\"pps\")"
   ]
  },
  {
   "cell_type": "code",
   "execution_count": null,
   "metadata": {},
   "outputs": [],
   "source": [
    "az.summary(gauss_fitted)"
   ]
  },
  {
   "cell_type": "code",
   "execution_count": null,
   "metadata": {},
   "outputs": [],
   "source": [
    "plt.figure(figsize=(7, 5))\n",
    "# Plot Data\n",
    "plt.plot(x_out, y_out, \"x\", label=\"data\")\n",
    "# Plot recovered linear regression\n",
    "x_range = np.linspace(min(x_out), max(x_out), 2000)\n",
    "y_pred = (\n",
    "    gauss_fitted.posterior.x.mean().item() * x_range\n",
    "    + gauss_fitted.posterior.Intercept.mean().item()\n",
    ")\n",
    "plt.plot(\n",
    "    x_range, y_pred, color=\"black\", linestyle=\"--\", label=\"Recovered regression line\"\n",
    ")\n",
    "# Plot HDIs\n",
    "for interval in [0.38, 0.68]:\n",
    "    az.plot_hdi(\n",
    "        x_out, gauss_fitted.posterior_predictive.y, hdi_prob=interval, color=\"firebrick\"\n",
    "    )\n",
    "# Plot true regression line\n",
    "plt.plot(x, true_regression_line, label=\"True regression line\", lw=2.0, color=\"black\")\n",
    "plt.legend(loc=0);"
   ]
  },
  {
   "cell_type": "code",
   "execution_count": null,
   "metadata": {},
   "outputs": [],
   "source": [
    "normal_data = np.random.normal(loc=0, scale=1, size=100_000)\n",
    "t_data = np.random.standard_t(df=1, size=100_000)\n",
    "\n",
    "bins = np.arange(-8, 8, 0.15)\n",
    "plt.hist(normal_data, bins=bins, density=True, alpha=0.6, label=\"Normal\")\n",
    "plt.hist(t_data, bins=bins, density=True, alpha=0.6, label=\"Student T\")\n",
    "plt.xlabel(\"x\")\n",
    "plt.ylabel(\"Probability density\")\n",
    "plt.xlim(-8, 8)\n",
    "plt.legend();"
   ]
  },
  {
   "cell_type": "code",
   "execution_count": null,
   "metadata": {},
   "outputs": [],
   "source": [
    "bins = np.arange(-8, 8, 0.15)\n",
    "for ndof in [0.1, 1, 10]:\n",
    "    t_data = np.random.standard_t(df=ndof, size=100_000)\n",
    "\n",
    "    plt.hist(t_data, bins=bins, density=True, label=f\"$\\\\nu = {ndof}$\", histtype=\"step\")\n",
    "plt.hist(normal_data, bins=bins, density=True, histtype=\"step\", label=\"Normal\")\n",
    "\n",
    "plt.xlabel(\"x\")\n",
    "plt.ylabel(\"Probability density\")\n",
    "plt.xlim(-6, 6)\n",
    "plt.legend();"
   ]
  },
  {
   "cell_type": "code",
   "execution_count": null,
   "metadata": {},
   "outputs": [],
   "source": [
    "t_model = bmb.Model(\"y ~ x\", data, family=\"t\")\n",
    "t_fitted = t_model.fit(draws=2000, idata_kwargs={\"log_likelihood\": True})\n",
    "t_model.predict(t_fitted, kind=\"pps\")"
   ]
  },
  {
   "cell_type": "code",
   "execution_count": null,
   "metadata": {},
   "outputs": [],
   "source": [
    "az.summary(t_fitted)"
   ]
  },
  {
   "cell_type": "code",
   "execution_count": null,
   "metadata": {},
   "outputs": [],
   "source": [
    "def get_slope_intercept(mod):\n",
    "    return (mod.posterior.x.mean().item(), mod.posterior.Intercept.mean().item())\n",
    "\n",
    "\n",
    "gauss_slope, gauss_int = get_slope_intercept(gauss_fitted)\n",
    "t_slope, t_int = get_slope_intercept(t_fitted)\n",
    "\n",
    "pd.DataFrame(\n",
    "    {\n",
    "        \"Model\": [\"True\", \"Normal\", \"T\"],\n",
    "        \"Slope\": [2, gauss_slope, t_slope],\n",
    "        \"Intercept\": [1, gauss_int, t_int],\n",
    "    }\n",
    ").set_index(\"Model\").T.round(decimals=2)"
   ]
  },
  {
   "cell_type": "code",
   "execution_count": null,
   "metadata": {},
   "outputs": [],
   "source": [
    "plt.figure(figsize=(7, 5))\n",
    "# Plot Data\n",
    "plt.plot(x_out, y_out, \"x\", label=\"data\")\n",
    "# Plot recovered robust linear regression\n",
    "x_range = np.linspace(min(x_out), max(x_out), 2000)\n",
    "y_pred = (\n",
    "    t_fitted.posterior.x.mean().item() * x_range\n",
    "    + t_fitted.posterior.Intercept.mean().item()\n",
    ")\n",
    "plt.plot(\n",
    "    x_range, y_pred, color=\"black\", linestyle=\"--\", label=\"Recovered regression line\"\n",
    ")\n",
    "# Plot HDIs\n",
    "for interval in [0.05, 0.38, 0.68]:\n",
    "    az.plot_hdi(\n",
    "        x_out, t_fitted.posterior_predictive.y, hdi_prob=interval, color=\"firebrick\"\n",
    "    )\n",
    "# Plot true regression line\n",
    "plt.plot(x, true_regression_line, label=\"true regression line\", lw=2.0, color=\"black\")\n",
    "plt.legend(loc=0);"
   ]
  },
  {
   "cell_type": "code",
   "execution_count": null,
   "metadata": {},
   "outputs": [],
   "source": [
    "models = {\"gaussian\": gauss_fitted, \"Student T\": t_fitted}\n",
    "df_compare = az.compare(models)\n",
    "df_compare"
   ]
  },
  {
   "cell_type": "code",
   "execution_count": null,
   "metadata": {},
   "outputs": [],
   "source": [
    "az.plot_compare(df_compare, insample_dev=False);"
   ]
  },
  {
   "cell_type": "code",
   "execution_count": null,
   "metadata": {},
   "outputs": [],
   "source": []
  }
 ],
 "metadata": {
  "language_info": {
   "codemirror_mode": {
    "name": "ipython",
    "version": 3
   },
   "file_extension": ".py",
   "mimetype": "text/x-python",
   "name": "python",
   "nbconvert_exporter": "python",
   "pygments_lexer": "ipython3",
   "version": "3.13.1"
  }
 },
 "nbformat": 4,
 "nbformat_minor": 2
}
