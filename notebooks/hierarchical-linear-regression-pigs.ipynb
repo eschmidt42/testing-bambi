{
 "cells": [
  {
   "cell_type": "markdown",
   "metadata": {},
   "source": [
    "Based on https://bambinos.github.io/bambi/notebooks/multi-level_regression.html\n",
    "\n",
    "Those notebook uses [formulae](https://github.com/bambinos/formulae) which implement the [Wilkinson's formulas for mixed-effects models](https://de.mathworks.com/help/stats/wilkinson-notation.html)"
   ]
  },
  {
   "cell_type": "code",
   "execution_count": null,
   "metadata": {},
   "outputs": [],
   "source": [
    "import arviz as az\n",
    "import bambi as bmb\n",
    "import numpy as np\n",
    "import matplotlib.pyplot as plt\n",
    "import statsmodels.api as sm\n",
    "import xarray as xr"
   ]
  },
  {
   "cell_type": "code",
   "execution_count": null,
   "metadata": {},
   "outputs": [],
   "source": [
    "az.style.use(\"arviz-darkgrid\")\n",
    "SEED = 7355608"
   ]
  },
  {
   "cell_type": "code",
   "execution_count": null,
   "metadata": {},
   "outputs": [],
   "source": [
    "# Load up data from statsmodels\n",
    "data = sm.datasets.get_rdataset(\"dietox\", \"geepack\").data\n",
    "data.describe()"
   ]
  },
  {
   "cell_type": "code",
   "execution_count": null,
   "metadata": {},
   "outputs": [],
   "source": [
    "data.head()"
   ]
  },
  {
   "cell_type": "code",
   "execution_count": null,
   "metadata": {},
   "outputs": [],
   "source": [
    "model = bmb.Model(\"Weight ~ Time + (Time|Pig)\", data)\n",
    "results = model.fit()"
   ]
  },
  {
   "cell_type": "code",
   "execution_count": null,
   "metadata": {},
   "outputs": [],
   "source": [
    "model"
   ]
  },
  {
   "cell_type": "code",
   "execution_count": null,
   "metadata": {},
   "outputs": [],
   "source": [
    "model.plot_priors();"
   ]
  },
  {
   "cell_type": "code",
   "execution_count": null,
   "metadata": {},
   "outputs": [],
   "source": [
    "# Plot posteriors\n",
    "az.plot_trace(\n",
    "    results,\n",
    "    var_names=[\"Intercept\", \"Time\", \"1|Pig\", \"Time|Pig\", \"sigma\"],\n",
    "    compact=True,\n",
    ");"
   ]
  },
  {
   "cell_type": "code",
   "execution_count": null,
   "metadata": {},
   "outputs": [],
   "source": [
    "az.summary(\n",
    "    results, var_names=[\"Intercept\", \"Time\", \"1|Pig_sigma\", \"Time|Pig_sigma\", \"sigma\"]\n",
    ")"
   ]
  },
  {
   "cell_type": "code",
   "execution_count": null,
   "metadata": {},
   "outputs": [],
   "source": [
    "# The ID of the first pig is '4601'\n",
    "data_0 = data[data[\"Pig\"] == 4601][[\"Time\", \"Weight\"]]\n",
    "time = np.array([1, 12])\n",
    "\n",
    "posterior = az.extract_dataset(results)\n",
    "intercept_common = posterior[\"Intercept\"]\n",
    "slope_common = posterior[\"Time\"]\n",
    "\n",
    "intercept_specific_0 = posterior[\"1|Pig\"].sel(Pig__factor_dim=\"4601\")\n",
    "slope_specific_0 = posterior[\"Time|Pig\"].sel(Pig__factor_dim=\"4601\")\n",
    "\n",
    "a = intercept_common + intercept_specific_0\n",
    "b = slope_common + slope_specific_0\n",
    "\n",
    "# make time a DataArray so we can get automatic broadcasting\n",
    "time_xi = xr.DataArray(time)\n",
    "plt.plot(time_xi, (a + b * time_xi).T, color=\"C1\", lw=0.1)\n",
    "plt.plot(time_xi, a.mean() + b.mean() * time_xi, color=\"black\")\n",
    "plt.scatter(data_0[\"Time\"], data_0[\"Weight\"], zorder=2)\n",
    "plt.ylabel(\"Weight (kg)\")\n",
    "plt.xlabel(\"Time (weeks)\");"
   ]
  },
  {
   "cell_type": "code",
   "execution_count": null,
   "metadata": {},
   "outputs": [],
   "source": [
    "intercept_group_specific = posterior[\"1|Pig\"]\n",
    "slope_group_specific = posterior[\"Time|Pig\"]\n",
    "a = intercept_common.mean() + intercept_group_specific.mean(\"sample\")\n",
    "b = slope_common.mean() + slope_group_specific.mean(\"sample\")\n",
    "time_xi = xr.DataArray(time)\n",
    "plt.plot(time_xi, (a + b * time_xi).T, color=\"C1\", alpha=0.7, lw=0.8)\n",
    "plt.ylabel(\"Weight (kg)\")\n",
    "plt.xlabel(\"Time (weeks)\");"
   ]
  },
  {
   "cell_type": "code",
   "execution_count": null,
   "metadata": {},
   "outputs": [],
   "source": [
    "az.plot_forest(\n",
    "    results,\n",
    "    var_names=[\"Intercept\", \"Time\"],\n",
    "    figsize=(8, 2),\n",
    ");"
   ]
  },
  {
   "cell_type": "code",
   "execution_count": null,
   "metadata": {},
   "outputs": [],
   "source": [
    "az.plot_posterior(results, var_names=[\"Intercept\", \"Time\"], ref_val=0, rope=[-1, 1]);"
   ]
  },
  {
   "cell_type": "code",
   "execution_count": null,
   "metadata": {},
   "outputs": [],
   "source": []
  }
 ],
 "metadata": {
  "language_info": {
   "codemirror_mode": {
    "name": "ipython",
    "version": 3
   },
   "file_extension": ".py",
   "mimetype": "text/x-python",
   "name": "python",
   "nbconvert_exporter": "python",
   "pygments_lexer": "ipython3",
   "version": "3.13.1"
  }
 },
 "nbformat": 4,
 "nbformat_minor": 2
}
