{
 "cells": [
  {
   "cell_type": "markdown",
   "metadata": {},
   "source": [
    "Based on https://bambinos.github.io/bambi/notebooks/count_roaches.html"
   ]
  },
  {
   "cell_type": "code",
   "execution_count": null,
   "metadata": {},
   "outputs": [],
   "source": [
    "import arviz as az\n",
    "import bambi as bmb\n",
    "import matplotlib.pyplot as plt\n",
    "import numpy as np\n",
    "import pandas as pd\n",
    "\n",
    "from scipy.stats import nbinom\n",
    "from data_utils import download_single_csv\n",
    "from pathlib import Path"
   ]
  },
  {
   "cell_type": "code",
   "execution_count": null,
   "metadata": {},
   "outputs": [],
   "source": [
    "az.style.use(\"arviz-darkgrid\")\n",
    "SEED = 7355608"
   ]
  },
  {
   "cell_type": "code",
   "execution_count": null,
   "metadata": {},
   "outputs": [],
   "source": [
    "download_single_csv(Path(\"./data\"), \"roaches.csv\")"
   ]
  },
  {
   "cell_type": "code",
   "execution_count": null,
   "metadata": {},
   "outputs": [],
   "source": [
    "roaches = pd.read_csv(\"data/roaches.csv\", index_col=0)\n",
    "# rescale\n",
    "roaches[\"roach1\"] = roaches[\"roach1\"] / 100\n",
    "roaches.head()"
   ]
  },
  {
   "cell_type": "code",
   "execution_count": null,
   "metadata": {},
   "outputs": [],
   "source": [
    "model_1 = bmb.Model(\n",
    "    \"y ~ roach1 + treatment  + senior + offset(log(exposure2))\",\n",
    "    family=\"poisson\",\n",
    "    data=roaches,\n",
    ")\n",
    "idata_1 = model_1.fit()"
   ]
  },
  {
   "cell_type": "code",
   "execution_count": null,
   "metadata": {},
   "outputs": [],
   "source": [
    "az.summary(idata_1)"
   ]
  },
  {
   "cell_type": "code",
   "execution_count": null,
   "metadata": {},
   "outputs": [],
   "source": [
    "def plot_log_posterior_ppc(model, idata):\n",
    "    # plot posterior predictive check\n",
    "    model.predict(idata, kind=\"response\", inplace=True)\n",
    "    var_name = \"log(y+1)\"\n",
    "    # there is probably a better way\n",
    "    idata.posterior_predictive[var_name] = np.log(idata.posterior_predictive[\"y\"] + 1)\n",
    "    idata.observed_data[var_name] = np.log(idata.observed_data[\"y\"] + 1)\n",
    "\n",
    "    return az.plot_ppc(idata, var_names=[var_name])"
   ]
  },
  {
   "cell_type": "code",
   "execution_count": null,
   "metadata": {},
   "outputs": [],
   "source": [
    "plot_log_posterior_ppc(model_1, idata_1)"
   ]
  },
  {
   "cell_type": "code",
   "execution_count": null,
   "metadata": {},
   "outputs": [],
   "source": [
    "# check number of zeros in y\n",
    "\n",
    "\n",
    "def check_zeros(idata):\n",
    "    # flatten over chains:\n",
    "    sampled_zeros = (\n",
    "        (idata.posterior_predictive[\"y\"] == 0).mean((\"__obs__\")).values.flatten()\n",
    "    )\n",
    "    print(f\"Fraction of zeros in the observed data: {np.mean(roaches['y']==0)}\")\n",
    "    print(\n",
    "        f\"Fraction of zeros in the posterior predictive check: {np.mean(sampled_zeros)}\"\n",
    "    )\n",
    "    print(f\" 80% CI: {np.percentile(sampled_zeros, [10, 90])}\")\n",
    "\n",
    "\n",
    "check_zeros(idata_1)"
   ]
  },
  {
   "cell_type": "code",
   "execution_count": null,
   "metadata": {},
   "outputs": [],
   "source": [
    "model_2 = bmb.Model(\n",
    "    \"y ~ roach1 + treatment  + senior + offset(log(exposure2))\",\n",
    "    family=\"negativebinomial\",\n",
    "    data=roaches,\n",
    ")\n",
    "idata_2 = model_2.fit()"
   ]
  },
  {
   "cell_type": "code",
   "execution_count": null,
   "metadata": {},
   "outputs": [],
   "source": [
    "az.summary(idata_2)"
   ]
  },
  {
   "cell_type": "code",
   "execution_count": null,
   "metadata": {},
   "outputs": [],
   "source": [
    "plot_log_posterior_ppc(model_2, idata_2)"
   ]
  },
  {
   "cell_type": "code",
   "execution_count": null,
   "metadata": {},
   "outputs": [],
   "source": [
    "check_zeros(idata_2)"
   ]
  },
  {
   "cell_type": "code",
   "execution_count": null,
   "metadata": {},
   "outputs": [],
   "source": [
    "def plot_zeros(ax, idata, model_label, **kwargs):\n",
    "    data_zeros = np.mean(roaches[\"y\"] == 0)\n",
    "    # flatten over chains:\n",
    "    sampled_zeros = (\n",
    "        (idata.posterior_predictive[\"y\"] == 0).mean((\"__obs__\")).values.flatten()\n",
    "    )\n",
    "    ax.hist(sampled_zeros, alpha=0.5, **kwargs)\n",
    "    ax.axvline(data_zeros, color=\"red\", linestyle=\"--\")\n",
    "    ax.set_xlabel(\"Fraction of zeros\")\n",
    "    ax.set_title(f\"Model: {model_label}\")\n",
    "    ax.yaxis.set_visible(False)\n",
    "    ax.set_facecolor(\"white\")\n",
    "    return ax\n",
    "\n",
    "\n",
    "fig, ax = plt.subplots(1, 2, gridspec_kw={\"wspace\": 0.2})\n",
    "plot_zeros(\n",
    "    ax[0], idata_1, \"Poisson\", bins=2\n",
    ")  # use 2 bins to make it more clear. Almost no zeros.\n",
    "plot_zeros(ax[1], idata_2, \"Negative Binomial\")\n",
    "\n",
    "fig.legend(\n",
    "    [\"Observed data\", \"Posterior predictive\"],\n",
    "    loc=\"center left\",\n",
    "    bbox_to_anchor=(0.05, 0.8),\n",
    ")"
   ]
  },
  {
   "cell_type": "code",
   "execution_count": null,
   "metadata": {},
   "outputs": [],
   "source": [
    "pymc_model = model_1.backend\n",
    "pymc_model.model"
   ]
  },
  {
   "cell_type": "code",
   "execution_count": null,
   "metadata": {},
   "outputs": [],
   "source": [
    "# recreate the model using pymc\n",
    "import pymc as pm\n",
    "\n",
    "with pm.Model() as model_pymc:\n",
    "    # priors\n",
    "    alpha = pm.Normal(\"Intercept\", mu=0, sigma=4.5)\n",
    "    beta_roach1 = pm.Normal(\"beta_roach1\", mu=0, sigma=3.3)\n",
    "    beta_treatment = pm.Normal(\"beta_treatment\", mu=0, sigma=5.11)\n",
    "    beta_senior = pm.Normal(\"beta_senior\", mu=0, sigma=5.43)\n",
    "\n",
    "    # likelihood\n",
    "    mu = pm.math.exp(\n",
    "        alpha\n",
    "        + beta_roach1 * roaches[\"roach1\"]\n",
    "        + beta_treatment * roaches[\"treatment\"]\n",
    "        + beta_senior * roaches[\"senior\"]\n",
    "        + pm.math.log(roaches[\"exposure2\"])\n",
    "    )  # no beta for exposure2\n",
    "    y = pm.Poisson(\"y\", mu=mu, observed=roaches[\"y\"])\n",
    "\n",
    "    idata_pymc = pm.sample(1000)\n",
    "\n",
    "az.summary(idata_pymc)"
   ]
  },
  {
   "cell_type": "code",
   "execution_count": null,
   "metadata": {},
   "outputs": [],
   "source": []
  }
 ],
 "metadata": {
  "language_info": {
   "codemirror_mode": {
    "name": "ipython",
    "version": 3
   },
   "file_extension": ".py",
   "mimetype": "text/x-python",
   "name": "python",
   "nbconvert_exporter": "python",
   "pygments_lexer": "ipython3",
   "version": "3.13.1"
  }
 },
 "nbformat": 4,
 "nbformat_minor": 2
}
