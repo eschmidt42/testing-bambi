{
 "cells": [
  {
   "cell_type": "markdown",
   "metadata": {},
   "source": [
    "Based on https://bambinos.github.io/bambi/notebooks/model_comparison.html"
   ]
  },
  {
   "cell_type": "code",
   "execution_count": null,
   "metadata": {},
   "outputs": [],
   "source": [
    "import arviz as az\n",
    "import bambi as bmb\n",
    "import matplotlib.pyplot as plt\n",
    "import matplotlib.lines as mlines\n",
    "import numpy as np\n",
    "import pandas as pd\n",
    "import seaborn as sns\n",
    "import warnings\n",
    "\n",
    "from scipy.special import expit as invlogit"
   ]
  },
  {
   "cell_type": "code",
   "execution_count": null,
   "metadata": {},
   "outputs": [],
   "source": [
    "# Disable a FutureWarning in ArviZ at the moment of running the notebook\n",
    "az.style.use(\"arviz-darkgrid\")\n",
    "warnings.simplefilter(action=\"ignore\", category=FutureWarning)"
   ]
  },
  {
   "cell_type": "code",
   "execution_count": null,
   "metadata": {},
   "outputs": [],
   "source": [
    "data = bmb.load_data(\"adults\")"
   ]
  },
  {
   "cell_type": "code",
   "execution_count": null,
   "metadata": {},
   "outputs": [],
   "source": [
    "data.info()\n",
    "data.head()"
   ]
  },
  {
   "cell_type": "code",
   "execution_count": null,
   "metadata": {},
   "outputs": [],
   "source": [
    "categorical_cols = data.columns[data.dtypes == object].tolist()\n",
    "for col in categorical_cols:\n",
    "    data[col] = data[col].astype(\"category\")\n",
    "data.info()"
   ]
  },
  {
   "cell_type": "code",
   "execution_count": null,
   "metadata": {},
   "outputs": [],
   "source": [
    "# Just a utilitary function to truncate labels and avoid overlapping in plots\n",
    "def truncate_labels(ticklabels, width=8):\n",
    "    def truncate(label, width):\n",
    "        if len(label) > width - 3:\n",
    "            return label[0 : (width - 4)] + \"...\"\n",
    "        else:\n",
    "            return label\n",
    "\n",
    "    labels = [x.get_text() for x in ticklabels]\n",
    "    labels = [truncate(lbl, width) for lbl in labels]\n",
    "\n",
    "    return labels"
   ]
  },
  {
   "cell_type": "code",
   "execution_count": null,
   "metadata": {},
   "outputs": [],
   "source": [
    "fig, axes = plt.subplots(3, 2, figsize=(12, 15))\n",
    "sns.countplot(x=\"income\", color=\"C0\", data=data, ax=axes[0, 0], saturation=1)\n",
    "sns.countplot(x=\"sex\", color=\"C0\", data=data, ax=axes[0, 1], saturation=1)\n",
    "sns.countplot(x=\"race\", color=\"C0\", data=data, ax=axes[1, 0], saturation=1)\n",
    "axes[1, 0].set_xticklabels(truncate_labels(axes[1, 0].get_xticklabels()))\n",
    "axes[1, 1].hist(data[\"age\"], bins=20)\n",
    "axes[1, 1].set_xlabel(\"Age\")\n",
    "axes[1, 1].set_ylabel(\"Count\")\n",
    "axes[2, 0].hist(data[\"hs_week\"], bins=20)\n",
    "axes[2, 0].set_xlabel(\"Hours of work / week\")\n",
    "axes[2, 0].set_ylabel(\"Count\")\n",
    "axes[2, 1].axis(\"off\");"
   ]
  },
  {
   "cell_type": "code",
   "execution_count": null,
   "metadata": {},
   "outputs": [],
   "source": [
    "data = data[data[\"race\"].isin([\"Black\", \"White\"])]\n",
    "data[\"race\"] = data[\"race\"].cat.remove_unused_categories()\n",
    "age_bins = [17, 25, 35, 45, 65, 90]\n",
    "data[\"age_binned\"] = pd.cut(data[\"age\"], age_bins)\n",
    "hours_bins = [0, 20, 40, 60, 100]\n",
    "data[\"hs_week_binned\"] = pd.cut(data[\"hs_week\"], hours_bins)"
   ]
  },
  {
   "cell_type": "code",
   "execution_count": null,
   "metadata": {},
   "outputs": [],
   "source": [
    "fig, axes = plt.subplots(3, 2, figsize=(12, 15))\n",
    "sns.countplot(x=\"income\", color=\"C0\", data=data, ax=axes[0, 0])\n",
    "sns.countplot(x=\"sex\", hue=\"income\", data=data, ax=axes[0, 1])\n",
    "sns.countplot(x=\"race\", hue=\"income\", data=data, ax=axes[1, 0])\n",
    "sns.countplot(x=\"age_binned\", hue=\"income\", data=data, ax=axes[1, 1])\n",
    "sns.countplot(x=\"hs_week_binned\", hue=\"income\", data=data, ax=axes[2, 0])\n",
    "axes[2, 1].axis(\"off\");"
   ]
  },
  {
   "cell_type": "code",
   "execution_count": null,
   "metadata": {},
   "outputs": [],
   "source": [
    "age_mean = np.mean(data[\"age\"])\n",
    "age_std = np.std(data[\"age\"])\n",
    "hs_mean = np.mean(data[\"hs_week\"])\n",
    "hs_std = np.std(data[\"hs_week\"])\n",
    "\n",
    "data[\"age\"] = (data[\"age\"] - age_mean) / age_std\n",
    "data[\"age2\"] = data[\"age\"] ** 2\n",
    "data[\"age3\"] = data[\"age\"] ** 3\n",
    "data[\"hs_week\"] = (data[\"hs_week\"] - hs_mean) / hs_std\n",
    "data[\"hs_week2\"] = data[\"hs_week\"] ** 2\n",
    "data[\"hs_week3\"] = data[\"hs_week\"] ** 3\n",
    "\n",
    "data = data.drop(columns=[\"age_binned\", \"hs_week_binned\"])"
   ]
  },
  {
   "cell_type": "code",
   "execution_count": null,
   "metadata": {},
   "outputs": [],
   "source": [
    "model1 = bmb.Model(\n",
    "    \"income['>50K'] ~ sex + race + age + hs_week\",\n",
    "    data.sample(n=200, replace=False),\n",
    "    family=\"bernoulli\",\n",
    ")\n",
    "try:\n",
    "    fitted1 = model1.fit(draws=1000, idata_kwargs={\"log_likelihood\": True})\n",
    "except EOFError:\n",
    "    pass"
   ]
  },
  {
   "cell_type": "markdown",
   "metadata": {},
   "source": [
    "model 1 raises `EOFError` if the full dataset is used"
   ]
  },
  {
   "cell_type": "code",
   "execution_count": null,
   "metadata": {},
   "outputs": [],
   "source": [
    "az.plot_trace(fitted1)\n",
    "az.summary(fitted1)"
   ]
  },
  {
   "cell_type": "code",
   "execution_count": null,
   "metadata": {},
   "outputs": [],
   "source": [
    "model2 = bmb.Model(\n",
    "    \"income['>50K'] ~ sex + race + age + age2 + hs_week + hs_week2\",\n",
    "    data.sample(n=200, replace=False),\n",
    "    family=\"bernoulli\",\n",
    ")\n",
    "try:\n",
    "    fitted2 = model2.fit(idata_kwargs={\"log_likelihood\": True})\n",
    "except EOFError:\n",
    "    pass"
   ]
  },
  {
   "cell_type": "markdown",
   "metadata": {},
   "source": [
    "model 2 raises `EOFError` if the full dataset is used"
   ]
  },
  {
   "cell_type": "code",
   "execution_count": null,
   "metadata": {},
   "outputs": [],
   "source": [
    "az.plot_trace(fitted2)\n",
    "az.summary(fitted2)"
   ]
  },
  {
   "cell_type": "code",
   "execution_count": null,
   "metadata": {},
   "outputs": [],
   "source": [
    "model3 = bmb.Model(\n",
    "    \"income['>50K'] ~ age + age2 + age3 + hs_week + hs_week2 + hs_week3 + sex + race\",\n",
    "    data.sample(n=200, replace=False),\n",
    "    family=\"bernoulli\",\n",
    ")\n",
    "try:\n",
    "    fitted3 = model3.fit(\n",
    "        draws=1000,\n",
    "        random_seed=1234,\n",
    "        target_accept=0.9,\n",
    "        idata_kwargs={\"log_likelihood\": True},\n",
    "    )\n",
    "except EOFError:\n",
    "    pass"
   ]
  },
  {
   "cell_type": "markdown",
   "metadata": {},
   "source": [
    "model 3 raises `EOFError` if the full dataset is used"
   ]
  },
  {
   "cell_type": "code",
   "execution_count": null,
   "metadata": {},
   "outputs": [],
   "source": [
    "az.plot_trace(fitted3)\n",
    "az.summary(fitted3)"
   ]
  },
  {
   "cell_type": "code",
   "execution_count": null,
   "metadata": {},
   "outputs": [],
   "source": [
    "models_dict = {\"model1\": fitted1, \"model2\": fitted2, \"model3\": fitted3}\n",
    "df_compare = az.compare(models_dict)\n",
    "df_compare"
   ]
  },
  {
   "cell_type": "code",
   "execution_count": null,
   "metadata": {},
   "outputs": [],
   "source": [
    "az.plot_compare(df_compare, insample_dev=False);"
   ]
  },
  {
   "cell_type": "markdown",
   "metadata": {},
   "source": [
    "funnily model2 wins out here instead of model3 as in the docs, likely due to the reduced dataset"
   ]
  },
  {
   "cell_type": "code",
   "execution_count": null,
   "metadata": {},
   "outputs": [],
   "source": [
    "HS_WEEK = (40 - hs_mean) / hs_std\n",
    "AGE = (np.linspace(18, 75) - age_mean) / age_std\n",
    "\n",
    "fig, ax = plt.subplots()\n",
    "handles = []\n",
    "i = 0\n",
    "\n",
    "for race in [\"Black\", \"White\"]:\n",
    "    for sex in [\"Female\", \"Male\"]:\n",
    "        color = f\"C{i}\"\n",
    "        label = f\"{race} - {sex}\"\n",
    "        handles.append(mlines.Line2D([], [], color=color, label=label, lw=3))\n",
    "\n",
    "        new_data = pd.DataFrame(\n",
    "            {\n",
    "                \"sex\": [sex] * len(AGE),\n",
    "                \"race\": [race] * len(AGE),\n",
    "                \"age\": AGE,\n",
    "                \"age2\": AGE**2,\n",
    "                \"hs_week\": [HS_WEEK] * len(AGE),\n",
    "                \"hs_week2\": [HS_WEEK**2] * len(AGE),\n",
    "            }\n",
    "        )\n",
    "        new_idata = model2.predict(fitted2, data=new_data, inplace=False)\n",
    "        mean = new_idata.posterior[\"p\"].values\n",
    "\n",
    "        az.plot_hdi(AGE * age_std + age_mean, mean, ax=ax, color=color)\n",
    "        az.plot_hdi(AGE * age_std + age_mean, mean, ax=ax, color=color, hdi_prob=0.5)\n",
    "        i += 1\n",
    "\n",
    "ax.set_xlabel(\"Age\")\n",
    "ax.set_ylabel(\"P(Income > $50K)\")\n",
    "ax.legend(handles=handles, loc=\"upper left\");"
   ]
  },
  {
   "cell_type": "code",
   "execution_count": null,
   "metadata": {},
   "outputs": [],
   "source": []
  }
 ],
 "metadata": {
  "language_info": {
   "codemirror_mode": {
    "name": "ipython",
    "version": 3
   },
   "file_extension": ".py",
   "mimetype": "text/x-python",
   "name": "python",
   "nbconvert_exporter": "python",
   "pygments_lexer": "ipython3",
   "version": "3.13.1"
  }
 },
 "nbformat": 4,
 "nbformat_minor": 2
}
