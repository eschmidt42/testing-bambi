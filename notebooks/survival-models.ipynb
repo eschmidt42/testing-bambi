{
 "cells": [
  {
   "cell_type": "markdown",
   "metadata": {},
   "source": [
    "Based on https://bambinos.github.io/bambi/notebooks/survival_model.html"
   ]
  },
  {
   "cell_type": "code",
   "execution_count": null,
   "metadata": {},
   "outputs": [],
   "source": [
    "import arviz as az\n",
    "import matplotlib.pyplot as plt\n",
    "import numpy as np\n",
    "import pandas as pd\n",
    "import scipy\n",
    "\n",
    "from lifelines import KaplanMeierFitter\n",
    "\n",
    "import bambi as bmb"
   ]
  },
  {
   "cell_type": "code",
   "execution_count": null,
   "metadata": {},
   "outputs": [],
   "source": [
    "url = (\n",
    "    \"https://raw.githubusercontent.com/rmcelreath/rethinking/master/data/AustinCats.csv\"\n",
    ")\n",
    "cats_df = pd.read_csv(url, sep=\";\")"
   ]
  },
  {
   "cell_type": "code",
   "execution_count": null,
   "metadata": {},
   "outputs": [],
   "source": [
    "plt.figure(figsize=(7, 3))\n",
    "plt.hist(cats_df[\"days_to_event\"], bins=250, label=\"Uncensored data\")\n",
    "plt.xlim(0, 186)  # limit to 6 months for visibility\n",
    "plt.title(\"Days Until Adoption\")\n",
    "plt.ylabel(\"Count\")\n",
    "plt.xlabel(\"Days\")\n",
    "plt.legend();"
   ]
  },
  {
   "cell_type": "code",
   "execution_count": null,
   "metadata": {},
   "outputs": [],
   "source": [
    "km = KaplanMeierFitter()\n",
    "km_adoptions = km.fit(\n",
    "    cats_df[\"days_to_event\"],\n",
    "    cats_df[\"out_event\"].apply(lambda x: 1 if x == \"Adoption\" else 0),\n",
    ")"
   ]
  },
  {
   "cell_type": "code",
   "execution_count": null,
   "metadata": {},
   "outputs": [],
   "source": [
    "fig, ax = plt.subplots(figsize=(7, 3))\n",
    "km_adoptions.plot(label=\"Kaplan-Meier Estimator\", ax=ax)\n",
    "ax.set_ylabel(\"Probability of Adoption\")\n",
    "ax.set_xlabel(\"Days\")\n",
    "ax.set_xlim(0, 365)\n",
    "ax.grid(True)\n",
    "ax.set_title(\"Cat Adoption Survival Curve\");"
   ]
  },
  {
   "cell_type": "code",
   "execution_count": null,
   "metadata": {},
   "outputs": [],
   "source": [
    "cats = cats_df.copy()\n",
    "cats[\"adopt\"] = np.where(cats[\"out_event\"] == \"Adoption\", \"right\", \"none\")\n",
    "cats[\"color_id\"] = np.where(cats[\"color\"] == \"Black\", 1, 0)\n",
    "cats = cats[[\"days_to_event\", \"adopt\", \"color_id\"]]"
   ]
  },
  {
   "cell_type": "code",
   "execution_count": null,
   "metadata": {},
   "outputs": [],
   "source": [
    "model_1 = bmb.Model(\n",
    "    \"censored(days_to_event / 31, adopt) ~ 1\",\n",
    "    data=cats,\n",
    "    family=\"exponential\",\n",
    "    link=\"log\",\n",
    ")\n",
    "model_1.build()\n",
    "model_1.graph()"
   ]
  },
  {
   "cell_type": "markdown",
   "metadata": {},
   "source": [
    "The above cell raises `TypeError: unsupported operand type(s) for -: 'int' and 'method'`, skipping the related parts"
   ]
  },
  {
   "cell_type": "code",
   "execution_count": null,
   "metadata": {},
   "outputs": [],
   "source": [
    "cat_model = bmb.Model(\n",
    "    \"censored(days_to_event / 31, adopt) ~ 0 + color_id\",\n",
    "    data=cats,\n",
    "    center_predictors=False,\n",
    "    priors={\"color_id\": bmb.Prior(\"Normal\", mu=0, sigma=1)},\n",
    "    categorical=[\"color_id\"],\n",
    "    family=\"exponential\",\n",
    "    link=\"log\",\n",
    ")\n",
    "cat_model.build()\n",
    "cat_model.graph()"
   ]
  },
  {
   "cell_type": "markdown",
   "metadata": {},
   "source": [
    "The above cell raises `TypeError: unsupported operand type(s) for -: 'int' and 'method'`, skipping the related parts"
   ]
  },
  {
   "cell_type": "markdown",
   "metadata": {},
   "source": []
  }
 ],
 "metadata": {
  "language_info": {
   "codemirror_mode": {
    "name": "ipython",
    "version": 3
   },
   "file_extension": ".py",
   "mimetype": "text/x-python",
   "name": "python",
   "nbconvert_exporter": "python",
   "pygments_lexer": "ipython3",
   "version": "3.13.1"
  }
 },
 "nbformat": 4,
 "nbformat_minor": 2
}
