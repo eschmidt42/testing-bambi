{
 "cells": [
  {
   "cell_type": "markdown",
   "metadata": {},
   "source": [
    "Based on https://bambinos.github.io/bambi/notebooks/wald_gamma_glm.html"
   ]
  },
  {
   "cell_type": "code",
   "execution_count": null,
   "metadata": {},
   "outputs": [],
   "source": [
    "import arviz as az\n",
    "import bambi as bmb\n",
    "import matplotlib.pyplot as plt\n",
    "import numpy as np"
   ]
  },
  {
   "cell_type": "code",
   "execution_count": null,
   "metadata": {},
   "outputs": [],
   "source": [
    "az.style.use(\"arviz-darkgrid\")\n",
    "np.random.seed(1234)"
   ]
  },
  {
   "cell_type": "code",
   "execution_count": null,
   "metadata": {},
   "outputs": [],
   "source": [
    "data = bmb.load_data(\"carclaims\")\n",
    "data.head()"
   ]
  },
  {
   "cell_type": "code",
   "execution_count": null,
   "metadata": {},
   "outputs": [],
   "source": [
    "data = data[data[\"claimcst0\"] > 0]"
   ]
  },
  {
   "cell_type": "code",
   "execution_count": null,
   "metadata": {},
   "outputs": [],
   "source": [
    "data[data[\"claimcst0\"] > 15000].shape[0]"
   ]
  },
  {
   "cell_type": "code",
   "execution_count": null,
   "metadata": {},
   "outputs": [],
   "source": [
    "plt.hist(data[data[\"claimcst0\"] <= 15000][\"claimcst0\"], bins=30)\n",
    "plt.title(\"Distribution of claim amount\")\n",
    "plt.xlabel(\"Claim amount ($)\");"
   ]
  },
  {
   "cell_type": "code",
   "execution_count": null,
   "metadata": {},
   "outputs": [],
   "source": [
    "model_wald = bmb.Model(\n",
    "    \"claimcst0 ~ C(agecat) + gender + area\",\n",
    "    data.sample(n=200, replace=False),\n",
    "    family=\"wald\",\n",
    "    link=\"log\",\n",
    ")\n",
    "try:\n",
    "    fitted_wald = model_wald.fit(\n",
    "        tune=2000, target_accept=0.9, idata_kwargs={\"log_likelihood\": True}\n",
    "    )\n",
    "except EOFError:\n",
    "    pass"
   ]
  },
  {
   "cell_type": "code",
   "execution_count": null,
   "metadata": {},
   "outputs": [],
   "source": [
    "az.plot_trace(fitted_wald);"
   ]
  },
  {
   "cell_type": "code",
   "execution_count": null,
   "metadata": {},
   "outputs": [],
   "source": [
    "az.summary(fitted_wald)"
   ]
  },
  {
   "cell_type": "code",
   "execution_count": null,
   "metadata": {},
   "outputs": [],
   "source": [
    "model_gamma = bmb.Model(\n",
    "    \"claimcst0 ~ agecat + gender + area\",\n",
    "    data.sample(n=200, replace=False),\n",
    "    family=\"gamma\",\n",
    "    link=\"log\",\n",
    "    categorical=\"agecat\",\n",
    ")\n",
    "try:\n",
    "    fitted_gamma = model_gamma.fit(\n",
    "        tune=2000, target_accept=0.9, idata_kwargs={\"log_likelihood\": True}\n",
    "    )\n",
    "except EOFError:\n",
    "    pass"
   ]
  },
  {
   "cell_type": "code",
   "execution_count": null,
   "metadata": {},
   "outputs": [],
   "source": [
    "az.plot_trace(fitted_gamma);"
   ]
  },
  {
   "cell_type": "code",
   "execution_count": null,
   "metadata": {},
   "outputs": [],
   "source": [
    "az.summary(fitted_gamma)"
   ]
  },
  {
   "cell_type": "code",
   "execution_count": null,
   "metadata": {},
   "outputs": [],
   "source": [
    "models = {\"wald\": fitted_wald, \"gamma\": fitted_gamma}\n",
    "df_compare = az.compare(models)\n",
    "df_compare"
   ]
  },
  {
   "cell_type": "code",
   "execution_count": null,
   "metadata": {},
   "outputs": [],
   "source": [
    "az.plot_compare(df_compare, insample_dev=False);"
   ]
  },
  {
   "cell_type": "code",
   "execution_count": null,
   "metadata": {},
   "outputs": [],
   "source": []
  }
 ],
 "metadata": {
  "language_info": {
   "codemirror_mode": {
    "name": "ipython",
    "version": 3
   },
   "file_extension": ".py",
   "mimetype": "text/x-python",
   "name": "python",
   "nbconvert_exporter": "python",
   "pygments_lexer": "ipython3",
   "version": "3.13.1"
  }
 },
 "nbformat": 4,
 "nbformat_minor": 2
}
